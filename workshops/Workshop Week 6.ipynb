{
 "cells": [
  {
   "cell_type": "markdown",
   "metadata": {},
   "source": [
    "# Catchup with Past Workshops\n",
    "\n",
    "This workshop will have less content than usual and is all optional so that you have a chance to catch up with previous workshops."
   ]
  },
  {
   "cell_type": "markdown",
   "metadata": {},
   "source": [
    "# Embedding Part of Speech Tagging in a Web Application\n",
    "\n",
    "The lecture notes and notebooks show how you can use use Keras to implement a part of speech tagger. In this exercise you will incorporate this information in a web application.\n",
    "\n",
    "The following file is a simple web application that uses [Python's bottle framework](http://bottlepy.org/docs/dev/index.html) and NLTK to present a Web form where a person can input text. When the form is submitted, the application annotates the text with its parts of speech and shows the result to the user.\n",
    "\n",
    "* [pos.py](pos.py)"
   ]
  },
  {
   "cell_type": "markdown",
   "metadata": {},
   "source": [
    "### Exercise: Try out the web application\n",
    "\n",
    "Download the web application and run it on your computer. The terminal console will indicate a URL. Open the URL on a browser and try out the application."
   ]
  },
  {
   "cell_type": "code",
   "execution_count": null,
   "metadata": {
    "collapsed": true,
    "jupyter": {
     "outputs_hidden": true
    }
   },
   "outputs": [],
   "source": []
  },
  {
   "cell_type": "markdown",
   "metadata": {},
   "source": [
    "### Exercise: Add your own PoS tagger\n",
    "\n",
    "Replace NLTK's tagger in the web application with an implementation of your own tagger. You may use, for example, the Keras implementation of the PoS tagger shown in a past notebook. You run the implementation to train the tagger. Then you will need to save the model and use the saved model in the Bottle application.\n",
    "\n",
    "Remember that you only need to train the tagger once, and then you can use the trained model each time the user sends text with the form.\n",
    "\n",
    "Also, you will need to find a way to save and load the information that your Web application needs to prepare the input string in order to generate the vectors that need to be used for the prediction."
   ]
  },
  {
   "cell_type": "code",
   "execution_count": null,
   "metadata": {},
   "outputs": [],
   "source": []
  }
 ],
 "metadata": {
  "kernelspec": {
   "display_name": "Python 3",
   "language": "python",
   "name": "python3"
  },
  "language_info": {
   "codemirror_mode": {
    "name": "ipython",
    "version": 3
   },
   "file_extension": ".py",
   "mimetype": "text/x-python",
   "name": "python",
   "nbconvert_exporter": "python",
   "pygments_lexer": "ipython3",
   "version": "3.6.7"
  }
 },
 "nbformat": 4,
 "nbformat_minor": 4
}
