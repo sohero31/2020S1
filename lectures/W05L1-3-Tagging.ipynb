{
  "nbformat": 4,
  "nbformat_minor": 0,
  "metadata": {
    "colab": {
      "name": "W05L1-3-Tagging.ipynb",
      "version": "0.3.2",
      "provenance": []
    },
    "kernelspec": {
      "name": "python37364bitbaseconda7888c9435b7a4785acd3247931e842c4",
      "display_name": "Python 3.7.3 64-bit ('base': conda)"
    },
    "accelerator": "GPU"
  },
  "cells": [
    {
      "metadata": {
        "slideshow": {
          "slide_type": "slide"
        },
        "id": "AWyCmzO622th",
        "colab_type": "text"
      },
      "cell_type": "markdown",
      "source": [
        "# Building a Part of Speech Tagger with Keras\n",
        "\n",
        "This notebook is based on nlpforhackers' post: https://nlpforhackers.io/lstm-pos-tagger-keras/. We will look at how to build a part of speech tagger using a LSTM layer.\n",
        "\n",
        "We will use NLTK's treebank corpus. This corpus has, among other kinds of information, annotations about the parts of speech of the words."
      ]
    },
    {
      "cell_type": "code",
      "execution_count": 1,
      "metadata": {},
      "outputs": [
        {
          "output_type": "execute_result",
          "data": {
            "text/plain": "[PhysicalDevice(name='/physical_device:CPU:0', device_type='CPU'),\n PhysicalDevice(name='/physical_device:XLA_CPU:0', device_type='XLA_CPU'),\n PhysicalDevice(name='/physical_device:XLA_GPU:0', device_type='XLA_GPU'),\n PhysicalDevice(name='/physical_device:GPU:0', device_type='GPU')]"
          },
          "metadata": {},
          "execution_count": 1
        }
      ],
      "source": [
        "import tensorflow as tf\n",
        "tf.config.experimental.list_physical_devices()"
      ]
    },
    {
      "cell_type": "code",
      "execution_count": 2,
      "metadata": {},
      "outputs": [],
      "source": [
        "from tensorflow.compat.v1 import ConfigProto\n",
        "from tensorflow.compat.v1 import InteractiveSession\n",
        "\n",
        "config = ConfigProto()\n",
        "config.gpu_options.allow_growth = True\n",
        "session = InteractiveSession(config=config)"
      ]
    },
    {
      "metadata": {
        "id": "dugp1ZSX22tm",
        "colab_type": "code",
        "outputId": "9100f3ec-841b-4feb-cc25-fad4239b0478",
        "colab": {
          "base_uri": "https://localhost:8080/",
          "height": 127
        }
      },
      "cell_type": "code",
      "source": [
        "import nltk\n",
        "nltk.download('treebank')\n",
        "\n",
        "tagged_sentences = nltk.corpus.treebank.tagged_sents()\n",
        " \n",
        "print(tagged_sentences[0])\n",
        "print(\"Tagged sentences: \", len(tagged_sentences))\n",
        "print(\"Tagged words:\", len(nltk.corpus.treebank.tagged_words()))"
      ],
      "execution_count": 3,
      "outputs": [
        {
          "output_type": "stream",
          "name": "stderr",
          "text": "[nltk_data] Downloading package treebank to /home/diego/nltk_data...\n[nltk_data]   Unzipping corpora/treebank.zip.\n[('Pierre', 'NNP'), ('Vinken', 'NNP'), (',', ','), ('61', 'CD'), ('years', 'NNS'), ('old', 'JJ'), (',', ','), ('will', 'MD'), ('join', 'VB'), ('the', 'DT'), ('board', 'NN'), ('as', 'IN'), ('a', 'DT'), ('nonexecutive', 'JJ'), ('director', 'NN'), ('Nov.', 'NNP'), ('29', 'CD'), ('.', '.')]\nTagged sentences:  3914\nTagged words: 100676\n"
        }
      ]
    },
    {
      "metadata": {
        "slideshow": {
          "slide_type": "slide"
        },
        "id": "aKG3Wi1k22tx",
        "colab_type": "text"
      },
      "cell_type": "markdown",
      "source": [
        "As always, before training a model, we need to split the data in training and testing data:"
      ]
    },
    {
      "metadata": {
        "id": "B0BTKbIe22tz",
        "colab_type": "code",
        "colab": {}
      },
      "cell_type": "code",
      "source": [
        "import random\n",
        "random.seed(1234)\n",
        "tagged_sentences = list(tagged_sentences) # we convert the data to a list\n",
        "random.shuffle(tagged_sentences)"
      ],
      "execution_count": 4,
      "outputs": []
    },
    {
      "metadata": {
        "id": "sEkj81QG22t4",
        "colab_type": "code",
        "colab": {}
      },
      "cell_type": "code",
      "source": [
        "threshold = int(len(tagged_sentences)*.6)\n",
        "train = tagged_sentences[:threshold]\n",
        "test = tagged_sentences[threshold:]"
      ],
      "execution_count": 5,
      "outputs": []
    },
    {
      "metadata": {
        "slideshow": {
          "slide_type": "slide"
        },
        "id": "42eTQ3kQ22t9",
        "colab_type": "text"
      },
      "cell_type": "markdown",
      "source": [
        "Let’s restructure the data a bit. Let’s separate the words from the tags."
      ]
    },
    {
      "metadata": {
        "id": "J-DZLM5e22t_",
        "colab_type": "code",
        "colab": {}
      },
      "cell_type": "code",
      "source": [
        "import numpy as np\n",
        " \n",
        "train_sentences, train_tags =[], [] \n",
        "for tagged_sentence in train:\n",
        "    sentence, tags = zip(*tagged_sentence)\n",
        "    train_sentences.append(np.array(sentence))\n",
        "    train_tags.append(np.array(tags))\n",
        "    \n",
        "test_sentences, test_tags =[], [] \n",
        "for tagged_sentence in test:\n",
        "    sentence, tags = zip(*tagged_sentence)\n",
        "    test_sentences.append(np.array(sentence))\n",
        "    test_tags.append(np.array(tags))"
      ],
      "execution_count": 6,
      "outputs": []
    },
    {
      "metadata": {
        "id": "aKlHJ21O22uE",
        "colab_type": "code",
        "outputId": "9ae85f10-7b45-4096-99cd-8ef06861ba83",
        "colab": {
          "base_uri": "https://localhost:8080/",
          "height": 71
        }
      },
      "cell_type": "code",
      "source": [
        "print(train_sentences[5])\n",
        "print(train_tags[5])"
      ],
      "execution_count": 7,
      "outputs": [
        {
          "output_type": "stream",
          "name": "stdout",
          "text": "['They' 'are' 'keeping' 'a' 'close' 'watch' 'on' 'the' 'yield' 'on' 'the'\n 'S&P' '500' '.']\n['PRP' 'VBP' 'VBG' 'DT' 'JJ' 'NN' 'IN' 'DT' 'NN' 'IN' 'DT' 'NNP' 'CD' '.']\n"
        }
      ]
    },
    {
      "metadata": {
        "slideshow": {
          "slide_type": "slide"
        },
        "id": "TO6Fo_ez22uK",
        "colab_type": "text"
      },
      "cell_type": "markdown",
      "source": [
        "Let's now convert the words and tags to indices. We will reserve index 0 for padding, and index 1 for words that are out of the vocabulary (**OOV - Out of Vocabulary**)."
      ]
    },
    {
      "metadata": {
        "id": "Dpy45jUr22uM",
        "colab_type": "code",
        "colab": {}
      },
      "cell_type": "code",
      "source": [
        "words, tags = set([]), set([])\n",
        " \n",
        "for s in train_sentences:\n",
        "    for w in s:\n",
        "        words.add(w.lower())\n",
        " \n",
        "for ts in train_tags:\n",
        "    for t in ts:\n",
        "        tags.add(t)\n",
        " \n",
        "word2index = {w: i + 2 for i, w in enumerate(list(words))}\n",
        "word2index['-PAD-'] = 0  # The special value used for padding\n",
        "word2index['-OOV-'] = 1  # The special value used for OOVs\n",
        " \n",
        "tag2index = {t: i + 2 for i, t in enumerate(list(tags))}\n",
        "tag2index['-PAD-'] = 0  # The special value used to padding\n",
        "tag2index['-OOV-'] = 1  # There may also be unknown tags in the test data"
      ],
      "execution_count": 8,
      "outputs": []
    },
    {
      "metadata": {
        "slideshow": {
          "slide_type": "slide"
        },
        "id": "tz7jJt1R22uQ",
        "colab_type": "code",
        "outputId": "c1aef435-600b-4805-a949-9f5e72f1becc",
        "colab": {
          "base_uri": "https://localhost:8080/",
          "height": 89
        }
      },
      "cell_type": "code",
      "source": [
        "train_sentences_X, test_sentences_X, train_tags_y, test_tags_y = [], [], [], []\n",
        " \n",
        "for s in train_sentences:\n",
        "    s_int = []\n",
        "    for w in s:\n",
        "        try:\n",
        "            s_int.append(word2index[w.lower()])\n",
        "        except KeyError:\n",
        "            s_int.append(word2index['-OOV-'])\n",
        " \n",
        "    train_sentences_X.append(s_int)\n",
        " \n",
        "for s in test_sentences:\n",
        "    s_int = []\n",
        "    for w in s:\n",
        "        try:\n",
        "            s_int.append(word2index[w.lower()])\n",
        "        except KeyError:\n",
        "            s_int.append(word2index['-OOV-'])\n",
        " \n",
        "    test_sentences_X.append(s_int)\n",
        " \n",
        "for s in train_tags:\n",
        "    train_tags_y.append([tag2index[t] for t in s])\n",
        " \n",
        "for s in test_tags:\n",
        "    s_int = []\n",
        "    for t in s:\n",
        "        try:\n",
        "            s_int.append(tag2index[t])\n",
        "        except KeyError:\n",
        "            s_int.append(tag2index['-OOV-'])\n",
        "            \n",
        "    test_tags_y.append(s_int)\n",
        " \n",
        "print(train_sentences_X[0])\n",
        "print(test_sentences_X[0])\n",
        "print(train_tags_y[0])\n",
        "print(test_tags_y[0])"
      ],
      "execution_count": 9,
      "outputs": [
        {
          "output_type": "stream",
          "name": "stdout",
          "text": "[755, 1359, 6840, 4998, 2107, 4759, 5216, 6260]\n[7230, 8154, 4568, 8630, 3947, 1, 8677, 7900, 5384, 2244, 7270, 7900, 1, 7795, 2056, 2107, 8483, 59, 7900, 3570, 5046, 1, 6260]\n[20, 13, 30, 19, 16, 40, 40, 3]\n[36, 19, 17, 26, 19, 17, 32, 12, 44, 36, 17, 12, 17, 32, 17, 16, 42, 17, 12, 32, 38, 17, 3]\n"
        }
      ]
    },
    {
      "metadata": {
        "slideshow": {
          "slide_type": "slide"
        },
        "id": "tyBmXkCw22uW",
        "colab_type": "text"
      },
      "cell_type": "markdown",
      "source": [
        "Since Keras can only deal with fixed size sequences, we will pad all sequences to fit the longest sentence in the training data."
      ]
    },
    {
      "metadata": {
        "id": "e0ZdPDZA22uY",
        "colab_type": "code",
        "outputId": "735a8b93-98cd-40ff-cddb-7a0aa6f742c1",
        "colab": {
          "base_uri": "https://localhost:8080/",
          "height": 35
        }
      },
      "cell_type": "code",
      "source": [
        "MAX_LENGTH = len(max(train_sentences_X, key=len))\n",
        "print(MAX_LENGTH)"
      ],
      "execution_count": 10,
      "outputs": [
        {
          "output_type": "stream",
          "name": "stdout",
          "text": "271\n"
        }
      ]
    },
    {
      "metadata": {
        "scrolled": true,
        "id": "S8fOCFoD22ud",
        "colab_type": "code",
        "outputId": "c91f0a07-ec7a-4fb7-c4cb-6700d1f21aa7",
        "colab": {
          "base_uri": "https://localhost:8080/",
          "height": 1187
        }
      },
      "cell_type": "code",
      "source": [
        "from tensorflow.keras.preprocessing.sequence import pad_sequences\n",
        " \n",
        "train_sentences_X = pad_sequences(train_sentences_X, maxlen=MAX_LENGTH, padding='post')\n",
        "test_sentences_X = pad_sequences(test_sentences_X, maxlen=MAX_LENGTH, padding='post')\n",
        "train_tags_y = pad_sequences(train_tags_y, maxlen=MAX_LENGTH, padding='post')\n",
        "test_tags_y = pad_sequences(test_tags_y, maxlen=MAX_LENGTH, padding='post')\n",
        " \n",
        "print(train_sentences_X[0])\n",
        "print(test_sentences_X[0])\n",
        "print(train_tags_y[0])\n",
        "print(test_tags_y[0])"
      ],
      "execution_count": 11,
      "outputs": [
        {
          "output_type": "stream",
          "name": "stdout",
          "text": "[ 755 1359 6840 4998 2107 4759 5216 6260    0    0    0    0    0    0\n    0    0    0    0    0    0    0    0    0    0    0    0    0    0\n    0    0    0    0    0    0    0    0    0    0    0    0    0    0\n    0    0    0    0    0    0    0    0    0    0    0    0    0    0\n    0    0    0    0    0    0    0    0    0    0    0    0    0    0\n    0    0    0    0    0    0    0    0    0    0    0    0    0    0\n    0    0    0    0    0    0    0    0    0    0    0    0    0    0\n    0    0    0    0    0    0    0    0    0    0    0    0    0    0\n    0    0    0    0    0    0    0    0    0    0    0    0    0    0\n    0    0    0    0    0    0    0    0    0    0    0    0    0    0\n    0    0    0    0    0    0    0    0    0    0    0    0    0    0\n    0    0    0    0    0    0    0    0    0    0    0    0    0    0\n    0    0    0    0    0    0    0    0    0    0    0    0    0    0\n    0    0    0    0    0    0    0    0    0    0    0    0    0    0\n    0    0    0    0    0    0    0    0    0    0    0    0    0    0\n    0    0    0    0    0    0    0    0    0    0    0    0    0    0\n    0    0    0    0    0    0    0    0    0    0    0    0    0    0\n    0    0    0    0    0    0    0    0    0    0    0    0    0    0\n    0    0    0    0    0    0    0    0    0    0    0    0    0    0\n    0    0    0    0    0]\n[7230 8154 4568 8630 3947    1 8677 7900 5384 2244 7270 7900    1 7795\n 2056 2107 8483   59 7900 3570 5046    1 6260    0    0    0    0    0\n    0    0    0    0    0    0    0    0    0    0    0    0    0    0\n    0    0    0    0    0    0    0    0    0    0    0    0    0    0\n    0    0    0    0    0    0    0    0    0    0    0    0    0    0\n    0    0    0    0    0    0    0    0    0    0    0    0    0    0\n    0    0    0    0    0    0    0    0    0    0    0    0    0    0\n    0    0    0    0    0    0    0    0    0    0    0    0    0    0\n    0    0    0    0    0    0    0    0    0    0    0    0    0    0\n    0    0    0    0    0    0    0    0    0    0    0    0    0    0\n    0    0    0    0    0    0    0    0    0    0    0    0    0    0\n    0    0    0    0    0    0    0    0    0    0    0    0    0    0\n    0    0    0    0    0    0    0    0    0    0    0    0    0    0\n    0    0    0    0    0    0    0    0    0    0    0    0    0    0\n    0    0    0    0    0    0    0    0    0    0    0    0    0    0\n    0    0    0    0    0    0    0    0    0    0    0    0    0    0\n    0    0    0    0    0    0    0    0    0    0    0    0    0    0\n    0    0    0    0    0    0    0    0    0    0    0    0    0    0\n    0    0    0    0    0    0    0    0    0    0    0    0    0    0\n    0    0    0    0    0]\n[20 13 30 19 16 40 40  3  0  0  0  0  0  0  0  0  0  0  0  0  0  0  0  0\n  0  0  0  0  0  0  0  0  0  0  0  0  0  0  0  0  0  0  0  0  0  0  0  0\n  0  0  0  0  0  0  0  0  0  0  0  0  0  0  0  0  0  0  0  0  0  0  0  0\n  0  0  0  0  0  0  0  0  0  0  0  0  0  0  0  0  0  0  0  0  0  0  0  0\n  0  0  0  0  0  0  0  0  0  0  0  0  0  0  0  0  0  0  0  0  0  0  0  0\n  0  0  0  0  0  0  0  0  0  0  0  0  0  0  0  0  0  0  0  0  0  0  0  0\n  0  0  0  0  0  0  0  0  0  0  0  0  0  0  0  0  0  0  0  0  0  0  0  0\n  0  0  0  0  0  0  0  0  0  0  0  0  0  0  0  0  0  0  0  0  0  0  0  0\n  0  0  0  0  0  0  0  0  0  0  0  0  0  0  0  0  0  0  0  0  0  0  0  0\n  0  0  0  0  0  0  0  0  0  0  0  0  0  0  0  0  0  0  0  0  0  0  0  0\n  0  0  0  0  0  0  0  0  0  0  0  0  0  0  0  0  0  0  0  0  0  0  0  0\n  0  0  0  0  0  0  0]\n[36 19 17 26 19 17 32 12 44 36 17 12 17 32 17 16 42 17 12 32 38 17  3  0\n  0  0  0  0  0  0  0  0  0  0  0  0  0  0  0  0  0  0  0  0  0  0  0  0\n  0  0  0  0  0  0  0  0  0  0  0  0  0  0  0  0  0  0  0  0  0  0  0  0\n  0  0  0  0  0  0  0  0  0  0  0  0  0  0  0  0  0  0  0  0  0  0  0  0\n  0  0  0  0  0  0  0  0  0  0  0  0  0  0  0  0  0  0  0  0  0  0  0  0\n  0  0  0  0  0  0  0  0  0  0  0  0  0  0  0  0  0  0  0  0  0  0  0  0\n  0  0  0  0  0  0  0  0  0  0  0  0  0  0  0  0  0  0  0  0  0  0  0  0\n  0  0  0  0  0  0  0  0  0  0  0  0  0  0  0  0  0  0  0  0  0  0  0  0\n  0  0  0  0  0  0  0  0  0  0  0  0  0  0  0  0  0  0  0  0  0  0  0  0\n  0  0  0  0  0  0  0  0  0  0  0  0  0  0  0  0  0  0  0  0  0  0  0  0\n  0  0  0  0  0  0  0  0  0  0  0  0  0  0  0  0  0  0  0  0  0  0  0  0\n  0  0  0  0  0  0  0]\n"
        }
      ]
    },
    {
      "metadata": {
        "slideshow": {
          "slide_type": "slide"
        },
        "id": "f0w8DzeQ22uj",
        "colab_type": "text"
      },
      "cell_type": "markdown",
      "source": [
        "We can now define the model. \n",
        "A simple approach to build a part-of-speech tagger in Keras is to stack a dense layer at the output of each RNN cell. This is achieved with `TimeDistributed`. Note  how the output of the model is now a list of sequences of vectors. Each vector will contain the probability of each tag. In particular:\n",
        "\n",
        "* We will introduce an embedding layer.\n",
        "* THe LSTM layer will have the parameter `return_sequences=True` so that we have access to the entire sequence.\n",
        "* The output of each LSTM cell will have a `Dense` layer. We can do this using the `TimeDistributed` layer."
      ]
    },
    {
      "metadata": {
        "slideshow": {
          "slide_type": "slide"
        },
        "id": "f6buON2e22ul",
        "colab_type": "code",
        "outputId": "734aff66-2695-4a76-b2de-a7c5fa4a6040",
        "colab": {
          "base_uri": "https://localhost:8080/",
          "height": 361
        }
      },
      "cell_type": "code",
      "source": [
        "from tensorflow.keras.models import Sequential\n",
        "from tensorflow.keras.layers import Dense, LSTM, InputLayer, TimeDistributed, Embedding, Activation\n",
        "from tensorflow.keras.optimizers import Adam\n",
        " \n",
        " \n",
        "model = Sequential()\n",
        "model.add(InputLayer(input_shape=(MAX_LENGTH, )))\n",
        "model.add(Embedding(len(word2index), 128))\n",
        "model.add(LSTM(256, return_sequences=True))\n",
        "model.add(TimeDistributed(Dense(len(tag2index))))\n",
        "model.add(Activation('softmax'))\n",
        " \n",
        "model.compile(loss='categorical_crossentropy',\n",
        "              optimizer=Adam(0.001),\n",
        "              metrics=['accuracy'])\n",
        " \n",
        "model.summary()"
      ],
      "execution_count": 12,
      "outputs": [
        {
          "output_type": "stream",
          "name": "stdout",
          "text": "Model: \"sequential\"\n_________________________________________________________________\nLayer (type)                 Output Shape              Param #   \n=================================================================\nembedding (Embedding)        (None, 271, 128)          1111424   \n_________________________________________________________________\nlstm (LSTM)                  (None, 271, 256)          394240    \n_________________________________________________________________\ntime_distributed (TimeDistri (None, 271, 47)           12079     \n_________________________________________________________________\nactivation (Activation)      (None, 271, 47)           0         \n=================================================================\nTotal params: 1,517,743\nTrainable params: 1,517,743\nNon-trainable params: 0\n_________________________________________________________________\n"
        }
      ]
    },
    {
      "metadata": {
        "slideshow": {
          "slide_type": "slide"
        },
        "id": "UeE6WfGH22ur",
        "colab_type": "text"
      },
      "cell_type": "markdown",
      "source": [
        "We also need to convert the labels into one-hot encoding. Since the input are sequences of labels we cannot use Keras' `to_categorical` so we define our own function:"
      ]
    },
    {
      "metadata": {
        "id": "bJTyy7hA22uu",
        "colab_type": "code",
        "colab": {}
      },
      "cell_type": "code",
      "source": [
        "def to_categorical(sequences, categories):\n",
        "    cat_sequences = []\n",
        "    for s in sequences:\n",
        "        cats = []\n",
        "        for item in s:\n",
        "            cats.append(np.zeros(categories))\n",
        "            cats[-1][item] = 1.0\n",
        "        cat_sequences.append(cats)\n",
        "    return np.array(cat_sequences)"
      ],
      "execution_count": 13,
      "outputs": []
    },
    {
      "metadata": {
        "id": "xWr3YL_S22uy",
        "colab_type": "code",
        "outputId": "78fd46b4-8ab1-4853-f8fd-9133c343c797",
        "colab": {
          "base_uri": "https://localhost:8080/",
          "height": 143
        }
      },
      "cell_type": "code",
      "source": [
        "cat_train_tags_y = to_categorical(train_tags_y, len(tag2index))\n",
        "print(cat_train_tags_y[0])"
      ],
      "execution_count": 14,
      "outputs": [
        {
          "output_type": "stream",
          "name": "stdout",
          "text": "[[0. 0. 0. ... 0. 0. 0.]\n [0. 0. 0. ... 0. 0. 0.]\n [0. 0. 0. ... 0. 0. 0.]\n ...\n [1. 0. 0. ... 0. 0. 0.]\n [1. 0. 0. ... 0. 0. 0.]\n [1. 0. 0. ... 0. 0. 0.]]\n"
        }
      ]
    },
    {
      "metadata": {
        "slideshow": {
          "slide_type": "slide"
        },
        "id": "XLqIilKl22u5",
        "colab_type": "text"
      },
      "cell_type": "markdown",
      "source": [
        "We can finally train the model:"
      ]
    },
    {
      "metadata": {
        "id": "7pTh_pR922vA",
        "colab_type": "code",
        "outputId": "ac27ebf5-9172-469c-9ff2-34817c3c0a32",
        "colab": {
          "base_uri": "https://localhost:8080/",
          "height": 1583
        }
      },
      "cell_type": "code",
      "source": [
        "history = model.fit(train_sentences_X, cat_train_tags_y, batch_size=128, epochs=40, validation_split=0.2)\n",
        " "
      ],
      "execution_count": 15,
      "outputs": [
        {
          "output_type": "stream",
          "name": "stdout",
          "text": "Train on 1878 samples, validate on 470 samples\nEpoch 1/40\n1878/1878 [==============================] - 3s 2ms/sample - loss: 1.5460 - accuracy: 0.8438 - val_loss: 0.5848 - val_accuracy: 0.9036\nEpoch 2/40\n1878/1878 [==============================] - 1s 318us/sample - loss: 0.5884 - accuracy: 0.8894 - val_loss: 0.4501 - val_accuracy: 0.9040\nEpoch 3/40\n1878/1878 [==============================] - 1s 320us/sample - loss: 0.4059 - accuracy: 0.9069 - val_loss: 0.3994 - val_accuracy: 0.9049\nEpoch 4/40\n1878/1878 [==============================] - 1s 320us/sample - loss: 0.3850 - accuracy: 0.9067 - val_loss: 0.3856 - val_accuracy: 0.9041\nEpoch 5/40\n1878/1878 [==============================] - 1s 322us/sample - loss: 0.3703 - accuracy: 0.9066 - val_loss: 0.3741 - val_accuracy: 0.9044\nEpoch 6/40\n1878/1878 [==============================] - 1s 320us/sample - loss: 0.3575 - accuracy: 0.9066 - val_loss: 0.3646 - val_accuracy: 0.9047\nEpoch 7/40\n1878/1878 [==============================] - 1s 321us/sample - loss: 0.3473 - accuracy: 0.9071 - val_loss: 0.3543 - val_accuracy: 0.9063\nEpoch 8/40\n1878/1878 [==============================] - 1s 320us/sample - loss: 0.3379 - accuracy: 0.9092 - val_loss: 0.3490 - val_accuracy: 0.9075\nEpoch 9/40\n1878/1878 [==============================] - 1s 320us/sample - loss: 0.3282 - accuracy: 0.9106 - val_loss: 0.3338 - val_accuracy: 0.9106\nEpoch 10/40\n1878/1878 [==============================] - 1s 321us/sample - loss: 0.3301 - accuracy: 0.9123 - val_loss: 0.3437 - val_accuracy: 0.9125\nEpoch 11/40\n1878/1878 [==============================] - 1s 322us/sample - loss: 0.3242 - accuracy: 0.9122 - val_loss: 0.3235 - val_accuracy: 0.9120\nEpoch 12/40\n1878/1878 [==============================] - 1s 321us/sample - loss: 0.3126 - accuracy: 0.9144 - val_loss: 0.3183 - val_accuracy: 0.9135\nEpoch 13/40\n1878/1878 [==============================] - 1s 319us/sample - loss: 0.3067 - accuracy: 0.9151 - val_loss: 0.3125 - val_accuracy: 0.9139\nEpoch 14/40\n1878/1878 [==============================] - 1s 321us/sample - loss: 0.3014 - accuracy: 0.9154 - val_loss: 0.3101 - val_accuracy: 0.9148\nEpoch 15/40\n1878/1878 [==============================] - 1s 323us/sample - loss: 0.2968 - accuracy: 0.9168 - val_loss: 0.3085 - val_accuracy: 0.9171\nEpoch 16/40\n1878/1878 [==============================] - 1s 320us/sample - loss: 0.2927 - accuracy: 0.9188 - val_loss: 0.3044 - val_accuracy: 0.9181\nEpoch 17/40\n1878/1878 [==============================] - 1s 320us/sample - loss: 0.2890 - accuracy: 0.9197 - val_loss: 0.3020 - val_accuracy: 0.9185\nEpoch 18/40\n1878/1878 [==============================] - 1s 324us/sample - loss: 0.2857 - accuracy: 0.9201 - val_loss: 0.3000 - val_accuracy: 0.9188\nEpoch 19/40\n1878/1878 [==============================] - 1s 320us/sample - loss: 0.2827 - accuracy: 0.9204 - val_loss: 0.2970 - val_accuracy: 0.9191\nEpoch 20/40\n1878/1878 [==============================] - 1s 322us/sample - loss: 0.2799 - accuracy: 0.9207 - val_loss: 0.2940 - val_accuracy: 0.9195\nEpoch 21/40\n1878/1878 [==============================] - 1s 323us/sample - loss: 0.2771 - accuracy: 0.9210 - val_loss: 0.2923 - val_accuracy: 0.9197\nEpoch 22/40\n1878/1878 [==============================] - 1s 318us/sample - loss: 0.2743 - accuracy: 0.9215 - val_loss: 0.2893 - val_accuracy: 0.9205\nEpoch 23/40\n1878/1878 [==============================] - 1s 321us/sample - loss: 0.2711 - accuracy: 0.9236 - val_loss: 0.2854 - val_accuracy: 0.9233\nEpoch 24/40\n1878/1878 [==============================] - 1s 321us/sample - loss: 0.2673 - accuracy: 0.9261 - val_loss: 0.2818 - val_accuracy: 0.9257\nEpoch 25/40\n1878/1878 [==============================] - 1s 321us/sample - loss: 0.2629 - accuracy: 0.9282 - val_loss: 0.2780 - val_accuracy: 0.9273\nEpoch 26/40\n1878/1878 [==============================] - 1s 323us/sample - loss: 0.2573 - accuracy: 0.9295 - val_loss: 0.2731 - val_accuracy: 0.9288\nEpoch 27/40\n1878/1878 [==============================] - 1s 321us/sample - loss: 0.2507 - accuracy: 0.9321 - val_loss: 0.2653 - val_accuracy: 0.9300\nEpoch 28/40\n1878/1878 [==============================] - 1s 321us/sample - loss: 0.2432 - accuracy: 0.9356 - val_loss: 0.2567 - val_accuracy: 0.9340\nEpoch 29/40\n1878/1878 [==============================] - 1s 321us/sample - loss: 0.2348 - accuracy: 0.9391 - val_loss: 0.2502 - val_accuracy: 0.9388\nEpoch 30/40\n1878/1878 [==============================] - 1s 320us/sample - loss: 0.2252 - accuracy: 0.9425 - val_loss: 0.2387 - val_accuracy: 0.9417\nEpoch 31/40\n1878/1878 [==============================] - 1s 324us/sample - loss: 0.2146 - accuracy: 0.9461 - val_loss: 0.2285 - val_accuracy: 0.9445\nEpoch 32/40\n1878/1878 [==============================] - 1s 320us/sample - loss: 0.2025 - accuracy: 0.9498 - val_loss: 0.2192 - val_accuracy: 0.9469\nEpoch 33/40\n1878/1878 [==============================] - 1s 320us/sample - loss: 0.1895 - accuracy: 0.9541 - val_loss: 0.2006 - val_accuracy: 0.9528\nEpoch 34/40\n1878/1878 [==============================] - 1s 319us/sample - loss: 0.1753 - accuracy: 0.9587 - val_loss: 0.1874 - val_accuracy: 0.9567\nEpoch 35/40\n1878/1878 [==============================] - 1s 319us/sample - loss: 0.1607 - accuracy: 0.9632 - val_loss: 0.1737 - val_accuracy: 0.9602\nEpoch 36/40\n1878/1878 [==============================] - 1s 321us/sample - loss: 0.1461 - accuracy: 0.9671 - val_loss: 0.1599 - val_accuracy: 0.9636\nEpoch 37/40\n1878/1878 [==============================] - 1s 320us/sample - loss: 0.1322 - accuracy: 0.9708 - val_loss: 0.1467 - val_accuracy: 0.9671\nEpoch 38/40\n1878/1878 [==============================] - 1s 321us/sample - loss: 0.1193 - accuracy: 0.9739 - val_loss: 0.1355 - val_accuracy: 0.9691\nEpoch 39/40\n1878/1878 [==============================] - 1s 323us/sample - loss: 0.1076 - accuracy: 0.9768 - val_loss: 0.1253 - val_accuracy: 0.9715\nEpoch 40/40\n1878/1878 [==============================] - 1s 317us/sample - loss: 0.0969 - accuracy: 0.9792 - val_loss: 0.1160 - val_accuracy: 0.9735\n"
        }
      ]
    },
    {
      "metadata": {
        "slideshow": {
          "slide_type": "slide"
        },
        "id": "5zNVFn7W22vM",
        "colab_type": "text"
      },
      "cell_type": "markdown",
      "source": [
        "If the results look too good, it's because they are too good! We need to ignore the classification of the padded symbols, but let's leave it aside for now. Below is an evaluation using the test data."
      ]
    },
    {
      "metadata": {
        "id": "8YVnb9mv22vP",
        "colab_type": "code",
        "outputId": "68d0e3d2-6464-4f23-e4e8-7d171703a4a1",
        "colab": {
          "base_uri": "https://localhost:8080/",
          "height": 53
        }
      },
      "cell_type": "code",
      "source": [
        "scores = model.evaluate(test_sentences_X, to_categorical(test_tags_y, len(tag2index)))\n",
        "print(f\"{model.metrics_names[1]}: {scores[1] * 100}\")"
      ],
      "execution_count": 16,
      "outputs": [
        {
          "output_type": "stream",
          "name": "stdout",
          "text": "1566/1566 [==============================] - 0s 273us/sample - loss: 0.1137 - accuracy: 0.9742\naccuracy: 97.42121696472168\n"
        }
      ]
    },
    {
      "metadata": {
        "slideshow": {
          "slide_type": "slide"
        },
        "id": "h197tLfl22vY",
        "colab_type": "text"
      },
      "cell_type": "markdown",
      "source": [
        "Let's find the PoS of two test sentences:"
      ]
    },
    {
      "metadata": {
        "id": "TJn9HsNN22va",
        "colab_type": "code",
        "outputId": "6d458fae-6abd-44bb-abbf-f00a034475c3",
        "colab": {
          "base_uri": "https://localhost:8080/",
          "height": 35
        }
      },
      "cell_type": "code",
      "source": [
        "test_samples = [\n",
        "    \"running is very important for me .\".split(),\n",
        "    \"I was running every day for a month .\".split()\n",
        "]\n",
        "print(test_samples)"
      ],
      "execution_count": 17,
      "outputs": [
        {
          "output_type": "stream",
          "name": "stdout",
          "text": "[['running', 'is', 'very', 'important', 'for', 'me', '.'], ['I', 'was', 'running', 'every', 'day', 'for', 'a', 'month', '.']]\n"
        }
      ]
    },
    {
      "metadata": {
        "slideshow": {
          "slide_type": "slide"
        },
        "id": "NPD1nbGV22vf",
        "colab_type": "text"
      },
      "cell_type": "markdown",
      "source": [
        "These test sentences need to be vectorised:"
      ]
    },
    {
      "metadata": {
        "scrolled": true,
        "id": "DUSoAyOS22vg",
        "colab_type": "code",
        "outputId": "ed64225c-af56-4d16-e01d-887909971253",
        "colab": {
          "base_uri": "https://localhost:8080/",
          "height": 737
        }
      },
      "cell_type": "code",
      "source": [
        "test_samples_X = []\n",
        "for s in test_samples:\n",
        "    s_int = []\n",
        "    for w in s:\n",
        "        try:\n",
        "            s_int.append(word2index[w.lower()])\n",
        "        except KeyError:\n",
        "            s_int.append(word2index['-OOV-'])\n",
        "    test_samples_X.append(s_int)\n",
        " \n",
        "test_samples_X = pad_sequences(test_samples_X, maxlen=MAX_LENGTH, padding='post')\n",
        "print(test_samples_X)"
      ],
      "execution_count": 18,
      "outputs": [
        {
          "output_type": "stream",
          "name": "stdout",
          "text": "[[3387 2568 1668 1742  657 4864 6260    0    0    0    0    0    0    0\n     0    0    0    0    0    0    0    0    0    0    0    0    0    0\n     0    0    0    0    0    0    0    0    0    0    0    0    0    0\n     0    0    0    0    0    0    0    0    0    0    0    0    0    0\n     0    0    0    0    0    0    0    0    0    0    0    0    0    0\n     0    0    0    0    0    0    0    0    0    0    0    0    0    0\n     0    0    0    0    0    0    0    0    0    0    0    0    0    0\n     0    0    0    0    0    0    0    0    0    0    0    0    0    0\n     0    0    0    0    0    0    0    0    0    0    0    0    0    0\n     0    0    0    0    0    0    0    0    0    0    0    0    0    0\n     0    0    0    0    0    0    0    0    0    0    0    0    0    0\n     0    0    0    0    0    0    0    0    0    0    0    0    0    0\n     0    0    0    0    0    0    0    0    0    0    0    0    0    0\n     0    0    0    0    0    0    0    0    0    0    0    0    0    0\n     0    0    0    0    0    0    0    0    0    0    0    0    0    0\n     0    0    0    0    0    0    0    0    0    0    0    0    0    0\n     0    0    0    0    0    0    0    0    0    0    0    0    0    0\n     0    0    0    0    0    0    0    0    0    0    0    0    0    0\n     0    0    0    0    0    0    0    0    0    0    0    0    0    0\n     0    0    0    0    0]\n [6314 5583 3387 3263 5972  657 1827 7403 6260    0    0    0    0    0\n     0    0    0    0    0    0    0    0    0    0    0    0    0    0\n     0    0    0    0    0    0    0    0    0    0    0    0    0    0\n     0    0    0    0    0    0    0    0    0    0    0    0    0    0\n     0    0    0    0    0    0    0    0    0    0    0    0    0    0\n     0    0    0    0    0    0    0    0    0    0    0    0    0    0\n     0    0    0    0    0    0    0    0    0    0    0    0    0    0\n     0    0    0    0    0    0    0    0    0    0    0    0    0    0\n     0    0    0    0    0    0    0    0    0    0    0    0    0    0\n     0    0    0    0    0    0    0    0    0    0    0    0    0    0\n     0    0    0    0    0    0    0    0    0    0    0    0    0    0\n     0    0    0    0    0    0    0    0    0    0    0    0    0    0\n     0    0    0    0    0    0    0    0    0    0    0    0    0    0\n     0    0    0    0    0    0    0    0    0    0    0    0    0    0\n     0    0    0    0    0    0    0    0    0    0    0    0    0    0\n     0    0    0    0    0    0    0    0    0    0    0    0    0    0\n     0    0    0    0    0    0    0    0    0    0    0    0    0    0\n     0    0    0    0    0    0    0    0    0    0    0    0    0    0\n     0    0    0    0    0    0    0    0    0    0    0    0    0    0\n     0    0    0    0    0]]\n"
        }
      ]
    },
    {
      "metadata": {
        "slideshow": {
          "slide_type": "slide"
        },
        "id": "Y6rLuQb322vl",
        "colab_type": "text"
      },
      "cell_type": "markdown",
      "source": [
        "And the predictions are ..."
      ]
    },
    {
      "metadata": {
        "scrolled": true,
        "id": "r5Qgjrq622vn",
        "colab_type": "code",
        "outputId": "0381640b-32d1-492a-ec60-e4f990315b47",
        "colab": {
          "base_uri": "https://localhost:8080/",
          "height": 503
        }
      },
      "cell_type": "code",
      "source": [
        "predictions = model.predict(test_samples_X)\n",
        "print(predictions, predictions.shape)"
      ],
      "execution_count": 19,
      "outputs": [
        {
          "output_type": "stream",
          "name": "stdout",
          "text": "[[[4.91456278e-02 9.35837813e-03 1.50227910e-02 ... 3.35251316e-02\n   1.80026516e-02 3.96622196e-02]\n  [4.38625626e-02 3.69294477e-03 1.20251663e-02 ... 5.66057116e-02\n   1.34106036e-02 3.96460928e-02]\n  [2.67763212e-02 7.77988927e-04 6.74846442e-03 ... 5.64249344e-02\n   1.19420718e-02 5.80866784e-02]\n  ...\n  [9.99951243e-01 4.01232697e-14 8.04083328e-11 ... 4.79510754e-06\n   9.89686735e-11 1.57453076e-06]\n  [9.99951243e-01 4.01232697e-14 8.04081801e-11 ... 4.79510300e-06\n   9.89684792e-11 1.57453076e-06]\n  [9.99951243e-01 4.01233442e-14 8.04081801e-11 ... 4.79510754e-06\n   9.89684792e-11 1.57453371e-06]]\n\n [[2.57736035e-02 9.05276928e-03 1.53433448e-02 ... 3.95342521e-02\n   1.81462392e-02 4.60252576e-02]\n  [2.18243301e-02 7.86728284e-04 3.96459363e-03 ... 1.97923463e-02\n   5.70212025e-03 1.03263505e-01]\n  [5.89063428e-02 9.13679978e-05 2.06838571e-03 ... 5.69317788e-02\n   3.15529248e-03 9.37498063e-02]\n  ...\n  [9.99951243e-01 4.01232697e-14 8.04083328e-11 ... 4.79510754e-06\n   9.89686735e-11 1.57452621e-06]\n  [9.99951243e-01 4.01232697e-14 8.04083328e-11 ... 4.79510754e-06\n   9.89684792e-11 1.57452916e-06]\n  [9.99951243e-01 4.01232697e-14 8.04081801e-11 ... 4.79510754e-06\n   9.89684792e-11 1.57452916e-06]]] (2, 271, 47)\n"
        }
      ]
    },
    {
      "metadata": {
        "slideshow": {
          "slide_type": "slide"
        },
        "id": "hYyJkHb_22vt",
        "colab_type": "text"
      },
      "cell_type": "markdown",
      "source": [
        "These predictions show, for each word, the probabilities assigned to each possible label. Let's choose the label with the highest probability (using numpy's `argmax`) and then convert from label index to label:"
      ]
    },
    {
      "metadata": {
        "id": "s1EEpd2K22vv",
        "colab_type": "code",
        "colab": {}
      },
      "cell_type": "code",
      "source": [
        "def logits_to_tokens(sequences, index):\n",
        "    token_sequences = []\n",
        "    for categorical_sequence in sequences:\n",
        "        token_sequence = []\n",
        "        for categorical in categorical_sequence:\n",
        "            token_sequence.append(index[np.argmax(categorical)])\n",
        " \n",
        "        token_sequences.append(token_sequence)\n",
        " \n",
        "    return token_sequences"
      ],
      "execution_count": 20,
      "outputs": []
    },
    {
      "metadata": {
        "scrolled": true,
        "id": "P-vgNHpt22vz",
        "colab_type": "code",
        "outputId": "b0692b26-2085-4c1b-dc8c-4ff32593957a",
        "colab": {
          "base_uri": "https://localhost:8080/",
          "height": 55
        }
      },
      "cell_type": "code",
      "source": [
        "print(logits_to_tokens(predictions, {i: t for t, i in tag2index.items()}))"
      ],
      "execution_count": 21,
      "outputs": [
        {
          "output_type": "stream",
          "name": "stdout",
          "text": "[['VBD', 'IN', 'NNS', 'JJ', 'IN', 'NNS', '.', '-PAD-', '-PAD-', '-PAD-', '-PAD-', '-PAD-', '-PAD-', '-PAD-', '-PAD-', '-PAD-', '-PAD-', '-PAD-', '-PAD-', '-PAD-', '-PAD-', '-PAD-', '-PAD-', '-PAD-', '-PAD-', '-PAD-', '-PAD-', '-PAD-', '-PAD-', '-PAD-', '-PAD-', '-PAD-', '-PAD-', '-PAD-', '-PAD-', '-PAD-', '-PAD-', '-PAD-', '-PAD-', '-PAD-', '-PAD-', '-PAD-', '-PAD-', '-PAD-', '-PAD-', '-PAD-', '-PAD-', '-PAD-', '-PAD-', '-PAD-', '-PAD-', '-PAD-', '-PAD-', '-PAD-', '-PAD-', '-PAD-', '-PAD-', '-PAD-', '-PAD-', '-PAD-', '-PAD-', '-PAD-', '-PAD-', '-PAD-', '-PAD-', '-PAD-', '-PAD-', '-PAD-', '-PAD-', '-PAD-', '-PAD-', '-PAD-', '-PAD-', '-PAD-', '-PAD-', '-PAD-', '-PAD-', '-PAD-', '-PAD-', '-PAD-', '-PAD-', '-PAD-', '-PAD-', '-PAD-', '-PAD-', '-PAD-', '-PAD-', '-PAD-', '-PAD-', '-PAD-', '-PAD-', '-PAD-', '-PAD-', '-PAD-', '-PAD-', '-PAD-', '-PAD-', '-PAD-', '-PAD-', '-PAD-', '-PAD-', '-PAD-', '-PAD-', '-PAD-', '-PAD-', '-PAD-', '-PAD-', '-PAD-', '-PAD-', '-PAD-', '-PAD-', '-PAD-', '-PAD-', '-PAD-', '-PAD-', '-PAD-', '-PAD-', '-PAD-', '-PAD-', '-PAD-', '-PAD-', '-PAD-', '-PAD-', '-PAD-', '-PAD-', '-PAD-', '-PAD-', '-PAD-', '-PAD-', '-PAD-', '-PAD-', '-PAD-', '-PAD-', '-PAD-', '-PAD-', '-PAD-', '-PAD-', '-PAD-', '-PAD-', '-PAD-', '-PAD-', '-PAD-', '-PAD-', '-PAD-', '-PAD-', '-PAD-', '-PAD-', '-PAD-', '-PAD-', '-PAD-', '-PAD-', '-PAD-', '-PAD-', '-PAD-', '-PAD-', '-PAD-', '-PAD-', '-PAD-', '-PAD-', '-PAD-', '-PAD-', '-PAD-', '-PAD-', '-PAD-', '-PAD-', '-PAD-', '-PAD-', '-PAD-', '-PAD-', '-PAD-', '-PAD-', '-PAD-', '-PAD-', '-PAD-', '-PAD-', '-PAD-', '-PAD-', '-PAD-', '-PAD-', '-PAD-', '-PAD-', '-PAD-', '-PAD-', '-PAD-', '-PAD-', '-PAD-', '-PAD-', '-PAD-', '-PAD-', '-PAD-', '-PAD-', '-PAD-', '-PAD-', '-PAD-', '-PAD-', '-PAD-', '-PAD-', '-PAD-', '-PAD-', '-PAD-', '-PAD-', '-PAD-', '-PAD-', '-PAD-', '-PAD-', '-PAD-', '-PAD-', '-PAD-', '-PAD-', '-PAD-', '-PAD-', '-PAD-', '-PAD-', '-PAD-', '-PAD-', '-PAD-', '-PAD-', '-PAD-', '-PAD-', '-PAD-', '-PAD-', '-PAD-', '-PAD-', '-PAD-', '-PAD-', '-PAD-', '-PAD-', '-PAD-', '-PAD-', '-PAD-', '-PAD-', '-PAD-', '-PAD-', '-PAD-', '-PAD-', '-PAD-', '-PAD-', '-PAD-', '-PAD-', '-PAD-', '-PAD-', '-PAD-', '-PAD-', '-PAD-', '-PAD-', '-PAD-', '-PAD-', '-PAD-', '-PAD-', '-PAD-', '-PAD-', '-PAD-', '-PAD-', '-PAD-', '-PAD-', '-PAD-', '-PAD-', '-PAD-', '-PAD-', '-PAD-', '-PAD-', '-PAD-', '-PAD-', '-PAD-', '-PAD-', '-PAD-', '-PAD-', '-PAD-', '-PAD-', '-PAD-', '-PAD-'], ['VBD', 'VBD', 'VBD', 'DT', 'NN', 'IN', 'DT', 'NN', '.', '-PAD-', '-PAD-', '-PAD-', '-PAD-', '-PAD-', '-PAD-', '-PAD-', '-PAD-', '-PAD-', '-PAD-', '-PAD-', '-PAD-', '-PAD-', '-PAD-', '-PAD-', '-PAD-', '-PAD-', '-PAD-', '-PAD-', '-PAD-', '-PAD-', '-PAD-', '-PAD-', '-PAD-', '-PAD-', '-PAD-', '-PAD-', '-PAD-', '-PAD-', '-PAD-', '-PAD-', '-PAD-', '-PAD-', '-PAD-', '-PAD-', '-PAD-', '-PAD-', '-PAD-', '-PAD-', '-PAD-', '-PAD-', '-PAD-', '-PAD-', '-PAD-', '-PAD-', '-PAD-', '-PAD-', '-PAD-', '-PAD-', '-PAD-', '-PAD-', '-PAD-', '-PAD-', '-PAD-', '-PAD-', '-PAD-', '-PAD-', '-PAD-', '-PAD-', '-PAD-', '-PAD-', '-PAD-', '-PAD-', '-PAD-', '-PAD-', '-PAD-', '-PAD-', '-PAD-', '-PAD-', '-PAD-', '-PAD-', '-PAD-', '-PAD-', '-PAD-', '-PAD-', '-PAD-', '-PAD-', '-PAD-', '-PAD-', '-PAD-', '-PAD-', '-PAD-', '-PAD-', '-PAD-', '-PAD-', '-PAD-', '-PAD-', '-PAD-', '-PAD-', '-PAD-', '-PAD-', '-PAD-', '-PAD-', '-PAD-', '-PAD-', '-PAD-', '-PAD-', '-PAD-', '-PAD-', '-PAD-', '-PAD-', '-PAD-', '-PAD-', '-PAD-', '-PAD-', '-PAD-', '-PAD-', '-PAD-', '-PAD-', '-PAD-', '-PAD-', '-PAD-', '-PAD-', '-PAD-', '-PAD-', '-PAD-', '-PAD-', '-PAD-', '-PAD-', '-PAD-', '-PAD-', '-PAD-', '-PAD-', '-PAD-', '-PAD-', '-PAD-', '-PAD-', '-PAD-', '-PAD-', '-PAD-', '-PAD-', '-PAD-', '-PAD-', '-PAD-', '-PAD-', '-PAD-', '-PAD-', '-PAD-', '-PAD-', '-PAD-', '-PAD-', '-PAD-', '-PAD-', '-PAD-', '-PAD-', '-PAD-', '-PAD-', '-PAD-', '-PAD-', '-PAD-', '-PAD-', '-PAD-', '-PAD-', '-PAD-', '-PAD-', '-PAD-', '-PAD-', '-PAD-', '-PAD-', '-PAD-', '-PAD-', '-PAD-', '-PAD-', '-PAD-', '-PAD-', '-PAD-', '-PAD-', '-PAD-', '-PAD-', '-PAD-', '-PAD-', '-PAD-', '-PAD-', '-PAD-', '-PAD-', '-PAD-', '-PAD-', '-PAD-', '-PAD-', '-PAD-', '-PAD-', '-PAD-', '-PAD-', '-PAD-', '-PAD-', '-PAD-', '-PAD-', '-PAD-', '-PAD-', '-PAD-', '-PAD-', '-PAD-', '-PAD-', '-PAD-', '-PAD-', '-PAD-', '-PAD-', '-PAD-', '-PAD-', '-PAD-', '-PAD-', '-PAD-', '-PAD-', '-PAD-', '-PAD-', '-PAD-', '-PAD-', '-PAD-', '-PAD-', '-PAD-', '-PAD-', '-PAD-', '-PAD-', '-PAD-', '-PAD-', '-PAD-', '-PAD-', '-PAD-', '-PAD-', '-PAD-', '-PAD-', '-PAD-', '-PAD-', '-PAD-', '-PAD-', '-PAD-', '-PAD-', '-PAD-', '-PAD-', '-PAD-', '-PAD-', '-PAD-', '-PAD-', '-PAD-', '-PAD-', '-PAD-', '-PAD-', '-PAD-', '-PAD-', '-PAD-', '-PAD-', '-PAD-', '-PAD-', '-PAD-', '-PAD-', '-PAD-', '-PAD-', '-PAD-', '-PAD-', '-PAD-', '-PAD-', '-PAD-', '-PAD-', '-PAD-', '-PAD-', '-PAD-', '-PAD-', '-PAD-', '-PAD-', '-PAD-', '-PAD-', '-PAD-']]\n"
        }
      ]
    },
    {
      "metadata": {
        "slideshow": {
          "slide_type": "slide"
        },
        "id": "xUAVFac_22v6",
        "colab_type": "text"
      },
      "cell_type": "markdown",
      "source": [
        "As expected, the padding symbol is over-used. To solve this problem we can define a custom accuracy metric that ignores the paddings. Remember that the index for the padding symbol is 0:"
      ]
    },
    {
      "metadata": {
        "id": "htLSFx1722v8",
        "colab_type": "code",
        "colab": {}
      },
      "cell_type": "code",
      "source": [
        "from tensorflow.keras import backend as K\n",
        " \n",
        "def ignore_class_accuracy(to_ignore=0):\n",
        "    def ignore_accuracy(y_true, y_pred):\n",
        "        y_true_class = K.argmax(y_true, axis=-1)\n",
        "        y_pred_class = K.argmax(y_pred, axis=-1)\n",
        " \n",
        "        ignore_mask = K.cast(K.not_equal(y_pred_class, to_ignore), 'int32')\n",
        "        matches = K.cast(K.equal(y_true_class, y_pred_class), 'int32') * ignore_mask\n",
        "        accuracy = K.sum(matches) / K.maximum(K.sum(ignore_mask), 1)\n",
        "        return accuracy\n",
        "    return ignore_accuracy"
      ],
      "execution_count": 22,
      "outputs": []
    },
    {
      "metadata": {
        "slideshow": {
          "slide_type": "slide"
        },
        "id": "owboYAh022v_",
        "colab_type": "text"
      },
      "cell_type": "markdown",
      "source": [
        "Let's now retrain using this new accuracy metric:"
      ]
    },
    {
      "metadata": {
        "id": "Adx9EbTB22wC",
        "colab_type": "code",
        "outputId": "d547c2d4-bf91-4c91-c219-5b229f31b067",
        "colab": {
          "base_uri": "https://localhost:8080/",
          "height": 287
        }
      },
      "cell_type": "code",
      "source": [
        "from tensorflow.keras.models import Sequential\n",
        "from tensorflow.keras.layers import Dense, LSTM, InputLayer, TimeDistributed, Embedding, Activation\n",
        "from tensorflow.keras.optimizers import Adam\n",
        " \n",
        " \n",
        "model = Sequential()\n",
        "model.add(InputLayer(input_shape=(MAX_LENGTH, )))\n",
        "model.add(Embedding(len(word2index), 128))\n",
        "model.add(LSTM(256, return_sequences=True))\n",
        "model.add(TimeDistributed(Dense(len(tag2index))))\n",
        "model.add(Activation('softmax'))\n",
        " \n",
        "model.compile(loss='categorical_crossentropy',\n",
        "              optimizer=Adam(0.001),\n",
        "              metrics=['accuracy', ignore_class_accuracy(0)])\n",
        " \n",
        "model.summary()"
      ],
      "execution_count": 23,
      "outputs": [
        {
          "output_type": "stream",
          "name": "stdout",
          "text": "Model: \"sequential_1\"\n_________________________________________________________________\nLayer (type)                 Output Shape              Param #   \n=================================================================\nembedding_1 (Embedding)      (None, 271, 128)          1111424   \n_________________________________________________________________\nlstm_1 (LSTM)                (None, 271, 256)          394240    \n_________________________________________________________________\ntime_distributed_1 (TimeDist (None, 271, 47)           12079     \n_________________________________________________________________\nactivation_1 (Activation)    (None, 271, 47)           0         \n=================================================================\nTotal params: 1,517,743\nTrainable params: 1,517,743\nNon-trainable params: 0\n_________________________________________________________________\n"
        }
      ]
    },
    {
      "metadata": {
        "slideshow": {
          "slide_type": "slide"
        },
        "id": "vglktjZL22wI",
        "colab_type": "code",
        "outputId": "da3f6795-596d-4522-b33f-924fb2a72728",
        "colab": {
          "base_uri": "https://localhost:8080/",
          "height": 3635
        },
        "tags": [
          "outputPrepend",
          "outputPrepend",
          "outputPrepend",
          "outputPrepend",
          "outputPrepend",
          "outputPrepend",
          "outputPrepend"
        ]
      },
      "cell_type": "code",
      "source": [
        "from keras.callbacks import EarlyStopping\n",
        "history = model.fit(train_sentences_X, cat_train_tags_y, batch_size=128, epochs=100, validation_split=0.2) #,\n",
        "#                    callbacks=[EarlyStopping(monitor='val_ignore_accuracy')])"
      ],
      "execution_count": 24,
      "outputs": [
        {
          "output_type": "stream",
          "name": "stderr",
          "text": "gnore_accuracy: 0.1065\nEpoch 4/100\n1878/1878 [==============================] - 1s 323us/sample - loss: 0.3874 - accuracy: 0.9056 - ignore_accuracy: 0.0816 - val_loss: 0.3816 - val_accuracy: 0.9038 - val_ignore_accuracy: 0.0998\nEpoch 5/100\n1878/1878 [==============================] - 1s 333us/sample - loss: 0.3689 - accuracy: 0.9057 - ignore_accuracy: 0.0915 - val_loss: 0.3775 - val_accuracy: 0.9038 - val_ignore_accuracy: 0.0915\nEpoch 6/100\n1878/1878 [==============================] - 1s 324us/sample - loss: 0.3526 - accuracy: 0.9057 - ignore_accuracy: 0.0892 - val_loss: 0.3622 - val_accuracy: 0.9039 - val_ignore_accuracy: 0.0968\nEpoch 7/100\n1878/1878 [==============================] - 1s 321us/sample - loss: 0.3405 - accuracy: 0.9061 - ignore_accuracy: 0.1012 - val_loss: 0.3499 - val_accuracy: 0.9044 - val_ignore_accuracy: 0.1237\nEpoch 8/100\n1878/1878 [==============================] - 1s 324us/sample - loss: 0.3318 - accuracy: 0.9074 - ignore_accuracy: 0.1171 - val_loss: 0.3451 - val_accuracy: 0.9062 - val_ignore_accuracy: 0.1312\nEpoch 9/100\n1878/1878 [==============================] - 1s 323us/sample - loss: 0.3244 - accuracy: 0.9098 - ignore_accuracy: 0.1266 - val_loss: 0.3418 - val_accuracy: 0.9093 - val_ignore_accuracy: 0.1379\nEpoch 10/100\n1878/1878 [==============================] - 1s 327us/sample - loss: 0.3205 - accuracy: 0.9121 - ignore_accuracy: 0.1304 - val_loss: 0.3387 - val_accuracy: 0.9111 - val_ignore_accuracy: 0.1346\nEpoch 11/100\n1878/1878 [==============================] - 1s 324us/sample - loss: 0.3185 - accuracy: 0.9131 - ignore_accuracy: 0.1326 - val_loss: 0.3239 - val_accuracy: 0.9110 - val_ignore_accuracy: 0.1360\nEpoch 12/100\n1878/1878 [==============================] - 1s 327us/sample - loss: 0.3108 - accuracy: 0.9138 - ignore_accuracy: 0.1348 - val_loss: 0.3165 - val_accuracy: 0.9131 - val_ignore_accuracy: 0.1451\nEpoch 13/100\n1878/1878 [==============================] - 1s 325us/sample - loss: 0.3051 - accuracy: 0.9147 - ignore_accuracy: 0.1359 - val_loss: 0.3170 - val_accuracy: 0.9145 - val_ignore_accuracy: 0.1502\nEpoch 14/100\n1878/1878 [==============================] - 1s 324us/sample - loss: 0.3001 - accuracy: 0.9161 - ignore_accuracy: 0.1425 - val_loss: 0.3173 - val_accuracy: 0.9158 - val_ignore_accuracy: 0.1592\nEpoch 15/100\n1878/1878 [==============================] - 1s 322us/sample - loss: 0.2959 - accuracy: 0.9179 - ignore_accuracy: 0.1575 - val_loss: 0.3183 - val_accuracy: 0.9165 - val_ignore_accuracy: 0.1644\nEpoch 16/100\n1878/1878 [==============================] - 1s 326us/sample - loss: 0.2919 - accuracy: 0.9191 - ignore_accuracy: 0.1662 - val_loss: 0.3115 - val_accuracy: 0.9178 - val_ignore_accuracy: 0.1719\nEpoch 17/100\n1878/1878 [==============================] - 1s 325us/sample - loss: 0.2886 - accuracy: 0.9199 - ignore_accuracy: 0.1717 - val_loss: 0.3069 - val_accuracy: 0.9186 - val_ignore_accuracy: 0.1774\nEpoch 18/100\n1878/1878 [==============================] - 1s 322us/sample - loss: 0.2856 - accuracy: 0.9205 - ignore_accuracy: 0.1741 - val_loss: 0.3153 - val_accuracy: 0.9185 - val_ignore_accuracy: 0.1781\nEpoch 19/100\n1878/1878 [==============================] - 1s 324us/sample - loss: 0.2828 - accuracy: 0.9212 - ignore_accuracy: 0.1796 - val_loss: 0.3075 - val_accuracy: 0.9199 - val_ignore_accuracy: 0.1891\nEpoch 20/100\n1878/1878 [==============================] - 1s 323us/sample - loss: 0.2803 - accuracy: 0.9227 - ignore_accuracy: 0.1942 - val_loss: 0.3072 - val_accuracy: 0.9206 - val_ignore_accuracy: 0.1948\nEpoch 21/100\n1878/1878 [==============================] - 1s 324us/sample - loss: 0.2779 - accuracy: 0.9235 - ignore_accuracy: 0.2005 - val_loss: 0.3041 - val_accuracy: 0.9213 - val_ignore_accuracy: 0.1992\nEpoch 22/100\n1878/1878 [==============================] - 1s 326us/sample - loss: 0.2757 - accuracy: 0.9244 - ignore_accuracy: 0.2090 - val_loss: 0.2907 - val_accuracy: 0.9232 - val_ignore_accuracy: 0.2118\nEpoch 23/100\n1878/1878 [==============================] - 1s 325us/sample - loss: 0.2733 - accuracy: 0.9253 - ignore_accuracy: 0.2179 - val_loss: 0.2897 - val_accuracy: 0.9230 - val_ignore_accuracy: 0.2094\nEpoch 24/100\n1878/1878 [==============================] - 1s 323us/sample - loss: 0.2703 - accuracy: 0.9260 - ignore_accuracy: 0.2235 - val_loss: 0.2930 - val_accuracy: 0.9229 - val_ignore_accuracy: 0.2093\nEpoch 25/100\n1878/1878 [==============================] - 1s 327us/sample - loss: 0.2671 - accuracy: 0.9272 - ignore_accuracy: 0.2364 - val_loss: 0.2842 - val_accuracy: 0.9252 - val_ignore_accuracy: 0.2300\nEpoch 26/100\n1878/1878 [==============================] - 1s 325us/sample - loss: 0.2634 - accuracy: 0.9288 - ignore_accuracy: 0.2518 - val_loss: 0.2850 - val_accuracy: 0.9253 - val_ignore_accuracy: 0.2318\nEpoch 27/100\n1878/1878 [==============================] - 1s 324us/sample - loss: 0.2590 - accuracy: 0.9301 - ignore_accuracy: 0.2655 - val_loss: 0.2865 - val_accuracy: 0.9266 - val_ignore_accuracy: 0.2453\nEpoch 28/100\n1878/1878 [==============================] - 1s 326us/sample - loss: 0.2536 - accuracy: 0.9328 - ignore_accuracy: 0.2935 - val_loss: 0.2686 - val_accuracy: 0.9304 - val_ignore_accuracy: 0.2840\nEpoch 29/100\n1878/1878 [==============================] - 1s 326us/sample - loss: 0.2467 - accuracy: 0.9358 - ignore_accuracy: 0.3257 - val_loss: 0.2637 - val_accuracy: 0.9334 - val_ignore_accuracy: 0.3153\nEpoch 30/100\n1878/1878 [==============================] - 1s 325us/sample - loss: 0.2384 - accuracy: 0.9393 - ignore_accuracy: 0.3628 - val_loss: 0.2579 - val_accuracy: 0.9356 - val_ignore_accuracy: 0.3383\nEpoch 31/100\n1878/1878 [==============================] - 1s 323us/sample - loss: 0.2285 - accuracy: 0.9434 - ignore_accuracy: 0.4056 - val_loss: 0.2435 - val_accuracy: 0.9408 - val_ignore_accuracy: 0.3924\nEpoch 32/100\n1878/1878 [==============================] - 1s 327us/sample - loss: 0.2177 - accuracy: 0.9472 - ignore_accuracy: 0.4459 - val_loss: 0.2299 - val_accuracy: 0.9466 - val_ignore_accuracy: 0.4524\nEpoch 33/100\n1878/1878 [==============================] - 1s 324us/sample - loss: 0.2073 - accuracy: 0.9508 - ignore_accuracy: 0.4836 - val_loss: 0.2172 - val_accuracy: 0.9487 - val_ignore_accuracy: 0.4742\nEpoch 34/100\n1878/1878 [==============================] - 1s 322us/sample - loss: 0.1931 - accuracy: 0.9542 - ignore_accuracy: 0.5203 - val_loss: 0.2084 - val_accuracy: 0.9502 - val_ignore_accuracy: 0.4900\nEpoch 35/100\n1878/1878 [==============================] - 1s 324us/sample - loss: 0.1796 - accuracy: 0.9578 - ignore_accuracy: 0.5585 - val_loss: 0.1949 - val_accuracy: 0.9537 - val_ignore_accuracy: 0.5261\nEpoch 36/100\n1878/1878 [==============================] - 1s 325us/sample - loss: 0.1664 - accuracy: 0.9614 - ignore_accuracy: 0.5954 - val_loss: 0.1849 - val_accuracy: 0.9563 - val_ignore_accuracy: 0.5532\nEpoch 37/100\n1878/1878 [==============================] - 1s 323us/sample - loss: 0.1532 - accuracy: 0.9651 - ignore_accuracy: 0.6342 - val_loss: 0.1706 - val_accuracy: 0.9606 - val_ignore_accuracy: 0.5962\nEpoch 38/100\n1878/1878 [==============================] - 1s 326us/sample - loss: 0.1412 - accuracy: 0.9684 - ignore_accuracy: 0.6677 - val_loss: 0.1580 - val_accuracy: 0.9641 - val_ignore_accuracy: 0.6312\nEpoch 39/100\n1878/1878 [==============================] - 1s 329us/sample - loss: 0.1289 - accuracy: 0.9720 - ignore_accuracy: 0.7060 - val_loss: 0.1571 - val_accuracy: 0.9634 - val_ignore_accuracy: 0.6294\nEpoch 40/100\n1878/1878 [==============================] - 1s 326us/sample - loss: 0.1181 - accuracy: 0.9749 - ignore_accuracy: 0.7372 - val_loss: 0.1355 - val_accuracy: 0.9697 - val_ignore_accuracy: 0.6895\nEpoch 41/100\n1878/1878 [==============================] - 1s 325us/sample - loss: 0.1065 - accuracy: 0.9782 - ignore_accuracy: 0.7716 - val_loss: 0.1285 - val_accuracy: 0.9721 - val_ignore_accuracy: 0.7146\nEpoch 42/100\n1878/1878 [==============================] - 1s 326us/sample - loss: 0.0964 - accuracy: 0.9806 - ignore_accuracy: 0.7972 - val_loss: 0.1185 - val_accuracy: 0.9747 - val_ignore_accuracy: 0.7426\nEpoch 43/100\n1878/1878 [==============================] - 1s 325us/sample - loss: 0.0873 - accuracy: 0.9831 - ignore_accuracy: 0.8227 - val_loss: 0.1113 - val_accuracy: 0.9763 - val_ignore_accuracy: 0.7585\nEpoch 44/100\n1878/1878 [==============================] - 1s 326us/sample - loss: 0.0791 - accuracy: 0.9853 - ignore_accuracy: 0.8454 - val_loss: 0.1031 - val_accuracy: 0.9785 - val_ignore_accuracy: 0.7807\nEpoch 45/100\n1878/1878 [==============================] - 1s 326us/sample - loss: 0.0717 - accuracy: 0.9872 - ignore_accuracy: 0.8659 - val_loss: 0.0978 - val_accuracy: 0.9793 - val_ignore_accuracy: 0.7897\nEpoch 46/100\n1878/1878 [==============================] - 1s 324us/sample - loss: 0.0654 - accuracy: 0.9885 - ignore_accuracy: 0.8797 - val_loss: 0.0914 - val_accuracy: 0.9808 - val_ignore_accuracy: 0.8049\nEpoch 47/100\n1878/1878 [==============================] - 1s 325us/sample - loss: 0.0591 - accuracy: 0.9899 - ignore_accuracy: 0.8935 - val_loss: 0.0855 - val_accuracy: 0.9824 - val_ignore_accuracy: 0.8220\nEpoch 48/100\n1878/1878 [==============================] - 1s 328us/sample - loss: 0.0538 - accuracy: 0.9910 - ignore_accuracy: 0.9055 - val_loss: 0.0811 - val_accuracy: 0.9833 - val_ignore_accuracy: 0.8305\nEpoch 49/100\n1878/1878 [==============================] - 1s 323us/sample - loss: 0.0491 - accuracy: 0.9918 - ignore_accuracy: 0.9140 - val_loss: 0.0769 - val_accuracy: 0.9841 - val_ignore_accuracy: 0.8392\nEpoch 50/100\n1878/1878 [==============================] - 1s 324us/sample - loss: 0.0449 - accuracy: 0.9925 - ignore_accuracy: 0.9212 - val_loss: 0.0733 - val_accuracy: 0.9848 - val_ignore_accuracy: 0.8457\nEpoch 51/100\n1878/1878 [==============================] - 1s 325us/sample - loss: 0.0413 - accuracy: 0.9931 - ignore_accuracy: 0.9270 - val_loss: 0.0720 - val_accuracy: 0.9845 - val_ignore_accuracy: 0.8444\nEpoch 52/100\n1878/1878 [==============================] - 1s 325us/sample - loss: 0.0380 - accuracy: 0.9935 - ignore_accuracy: 0.9321 - val_loss: 0.0679 - val_accuracy: 0.9854 - val_ignore_accuracy: 0.8534\nEpoch 53/100\n1878/1878 [==============================] - 1s 323us/sample - loss: 0.0351 - accuracy: 0.9940 - ignore_accuracy: 0.9368 - val_loss: 0.0657 - val_accuracy: 0.9858 - val_ignore_accuracy: 0.8571\nEpoch 54/100\n1878/1878 [==============================] - 1s 324us/sample - loss: 0.0325 - accuracy: 0.9944 - ignore_accuracy: 0.9411 - val_loss: 0.0630 - val_accuracy: 0.9862 - val_ignore_accuracy: 0.8600\nEpoch 55/100\n1878/1878 [==============================] - 1s 324us/sample - loss: 0.0302 - accuracy: 0.9948 - ignore_accuracy: 0.9449 - val_loss: 0.0617 - val_accuracy: 0.9864 - val_ignore_accuracy: 0.8627\nEpoch 56/100\n1878/1878 [==============================] - 1s 324us/sample - loss: 0.0282 - accuracy: 0.9953 - ignore_accuracy: 0.9511 - val_loss: 0.0592 - val_accuracy: 0.9873 - val_ignore_accuracy: 0.8711\nEpoch 57/100\n1878/1878 [==============================] - 1s 326us/sample - loss: 0.0263 - accuracy: 0.9958 - ignore_accuracy: 0.9563 - val_loss: 0.0581 - val_accuracy: 0.9875 - val_ignore_accuracy: 0.8731\nEpoch 58/100\n1878/1878 [==============================] - 1s 325us/sample - loss: 0.0247 - accuracy: 0.9961 - ignore_accuracy: 0.9588 - val_loss: 0.0572 - val_accuracy: 0.9875 - val_ignore_accuracy: 0.8733\nEpoch 59/100\n1878/1878 [==============================] - 1s 325us/sample - loss: 0.0231 - accuracy: 0.9964 - ignore_accuracy: 0.9616 - val_loss: 0.0552 - val_accuracy: 0.9878 - val_ignore_accuracy: 0.8761\nEpoch 60/100\n1878/1878 [==============================] - 1s 325us/sample - loss: 0.0218 - accuracy: 0.9965 - ignore_accuracy: 0.9637 - val_loss: 0.0551 - val_accuracy: 0.9876 - val_ignore_accuracy: 0.8745\nEpoch 61/100\n1878/1878 [==============================] - 1s 327us/sample - loss: 0.0206 - accuracy: 0.9967 - ignore_accuracy: 0.9654 - val_loss: 0.0544 - val_accuracy: 0.9877 - val_ignore_accuracy: 0.8760\nEpoch 62/100\n1878/1878 [==============================] - 1s 325us/sample - loss: 0.0195 - accuracy: 0.9968 - ignore_accuracy: 0.9664 - val_loss: 0.0527 - val_accuracy: 0.9880 - val_ignore_accuracy: 0.8776\nEpoch 63/100\n1878/1878 [==============================] - 1s 323us/sample - loss: 0.0185 - accuracy: 0.9970 - ignore_accuracy: 0.9679 - val_loss: 0.0520 - val_accuracy: 0.9880 - val_ignore_accuracy: 0.8777\nEpoch 64/100\n1878/1878 [==============================] - 1s 324us/sample - loss: 0.0175 - accuracy: 0.9971 - ignore_accuracy: 0.9696 - val_loss: 0.0513 - val_accuracy: 0.9881 - val_ignore_accuracy: 0.8788\nEpoch 65/100\n1878/1878 [==============================] - 1s 327us/sample - loss: 0.0167 - accuracy: 0.9972 - ignore_accuracy: 0.9710 - val_loss: 0.0498 - val_accuracy: 0.9885 - val_ignore_accuracy: 0.8829\nEpoch 66/100\n1878/1878 [==============================] - 1s 326us/sample - loss: 0.0159 - accuracy: 0.9973 - ignore_accuracy: 0.9715 - val_loss: 0.0491 - val_accuracy: 0.9887 - val_ignore_accuracy: 0.8842\nEpoch 67/100\n1878/1878 [==============================] - 1s 326us/sample - loss: 0.0152 - accuracy: 0.9974 - ignore_accuracy: 0.9727 - val_loss: 0.0488 - val_accuracy: 0.9886 - val_ignore_accuracy: 0.8836\nEpoch 68/100\n1878/1878 [==============================] - 1s 326us/sample - loss: 0.0145 - accuracy: 0.9975 - ignore_accuracy: 0.9741 - val_loss: 0.0498 - val_accuracy: 0.9883 - val_ignore_accuracy: 0.8813\nEpoch 69/100\n1878/1878 [==============================] - 1s 324us/sample - loss: 0.0138 - accuracy: 0.9976 - ignore_accuracy: 0.9748 - val_loss: 0.0495 - val_accuracy: 0.9884 - val_ignore_accuracy: 0.8818\nEpoch 70/100\n1878/1878 [==============================] - 1s 326us/sample - loss: 0.0133 - accuracy: 0.9977 - ignore_accuracy: 0.9759 - val_loss: 0.0488 - val_accuracy: 0.9885 - val_ignore_accuracy: 0.8835\nEpoch 71/100\n1878/1878 [==============================] - 1s 327us/sample - loss: 0.0127 - accuracy: 0.9978 - ignore_accuracy: 0.9768 - val_loss: 0.0483 - val_accuracy: 0.9886 - val_ignore_accuracy: 0.8842\nEpoch 72/100\n1878/1878 [==============================] - 1s 325us/sample - loss: 0.0123 - accuracy: 0.9979 - ignore_accuracy: 0.9775 - val_loss: 0.0483 - val_accuracy: 0.9886 - val_ignore_accuracy: 0.8840\nEpoch 73/100\n1878/1878 [==============================] - 1s 326us/sample - loss: 0.0118 - accuracy: 0.9979 - ignore_accuracy: 0.9778 - val_loss: 0.0471 - val_accuracy: 0.9887 - val_ignore_accuracy: 0.8849\nEpoch 74/100\n1878/1878 [==============================] - 1s 324us/sample - loss: 0.0114 - accuracy: 0.9980 - ignore_accuracy: 0.9786 - val_loss: 0.0466 - val_accuracy: 0.9888 - val_ignore_accuracy: 0.8859\nEpoch 75/100\n1878/1878 [==============================] - 1s 325us/sample - loss: 0.0110 - accuracy: 0.9981 - ignore_accuracy: 0.9801 - val_loss: 0.0466 - val_accuracy: 0.9888 - val_ignore_accuracy: 0.8857\nEpoch 76/100\n1878/1878 [==============================] - 1s 324us/sample - loss: 0.0106 - accuracy: 0.9982 - ignore_accuracy: 0.9807 - val_loss: 0.0472 - val_accuracy: 0.9887 - val_ignore_accuracy: 0.8850\nEpoch 77/100\n1878/1878 [==============================] - 1s 324us/sample - loss: 0.0102 - accuracy: 0.9982 - ignore_accuracy: 0.9815 - val_loss: 0.0476 - val_accuracy: 0.9887 - val_ignore_accuracy: 0.8852\nEpoch 78/100\n1878/1878 [==============================] - 1s 327us/sample - loss: 0.0100 - accuracy: 0.9983 - ignore_accuracy: 0.9823 - val_loss: 0.0478 - val_accuracy: 0.9886 - val_ignore_accuracy: 0.8836\nEpoch 79/100\n1878/1878 [==============================] - 1s 325us/sample - loss: 0.0096 - accuracy: 0.9983 - ignore_accuracy: 0.9824 - val_loss: 0.0467 - val_accuracy: 0.9887 - val_ignore_accuracy: 0.8857\nEpoch 80/100\n1878/1878 [==============================] - 1s 325us/sample - loss: 0.0093 - accuracy: 0.9984 - ignore_accuracy: 0.9834 - val_loss: 0.0475 - val_accuracy: 0.9887 - val_ignore_accuracy: 0.8855\nEpoch 81/100\n1878/1878 [==============================] - 1s 326us/sample - loss: 0.0091 - accuracy: 0.9984 - ignore_accuracy: 0.9832 - val_loss: 0.0469 - val_accuracy: 0.9887 - val_ignore_accuracy: 0.8847\nEpoch 82/100\n1878/1878 [==============================] - 1s 324us/sample - loss: 0.0087 - accuracy: 0.9985 - ignore_accuracy: 0.9839 - val_loss: 0.0451 - val_accuracy: 0.9889 - val_ignore_accuracy: 0.8866\nEpoch 83/100\n1878/1878 [==============================] - 1s 326us/sample - loss: 0.0084 - accuracy: 0.9985 - ignore_accuracy: 0.9846 - val_loss: 0.0459 - val_accuracy: 0.9889 - val_ignore_accuracy: 0.8868\nEpoch 84/100\n1878/1878 [==============================] - 1s 328us/sample - loss: 0.0081 - accuracy: 0.9986 - ignore_accuracy: 0.9856 - val_loss: 0.0456 - val_accuracy: 0.9889 - val_ignore_accuracy: 0.8863\nEpoch 85/100\n1878/1878 [==============================] - 1s 325us/sample - loss: 0.0079 - accuracy: 0.9987 - ignore_accuracy: 0.9859 - val_loss: 0.0457 - val_accuracy: 0.9890 - val_ignore_accuracy: 0.8878\nEpoch 86/100\n1878/1878 [==============================] - 1s 326us/sample - loss: 0.0077 - accuracy: 0.9987 - ignore_accuracy: 0.9862 - val_loss: 0.0458 - val_accuracy: 0.9889 - val_ignore_accuracy: 0.8868\nEpoch 87/100\n1878/1878 [==============================] - 1s 326us/sample - loss: 0.0074 - accuracy: 0.9987 - ignore_accuracy: 0.9866 - val_loss: 0.0457 - val_accuracy: 0.9889 - val_ignore_accuracy: 0.8868\nEpoch 88/100\n1878/1878 [==============================] - 1s 325us/sample - loss: 0.0072 - accuracy: 0.9988 - ignore_accuracy: 0.9869 - val_loss: 0.0460 - val_accuracy: 0.9889 - val_ignore_accuracy: 0.8869\nEpoch 89/100\n1878/1878 [==============================] - 1s 328us/sample - loss: 0.0070 - accuracy: 0.9988 - ignore_accuracy: 0.9875 - val_loss: 0.0470 - val_accuracy: 0.9888 - val_ignore_accuracy: 0.8855\nEpoch 90/100\n1878/1878 [==============================] - 1s 328us/sample - loss: 0.0068 - accuracy: 0.9989 - ignore_accuracy: 0.9881 - val_loss: 0.0464 - val_accuracy: 0.9888 - val_ignore_accuracy: 0.8859\nEpoch 91/100\n1878/1878 [==============================] - 1s 329us/sample - loss: 0.0066 - accuracy: 0.9989 - ignore_accuracy: 0.9882 - val_loss: 0.0461 - val_accuracy: 0.9890 - val_ignore_accuracy: 0.8872\nEpoch 92/100\n1878/1878 [==============================] - 1s 327us/sample - loss: 0.0064 - accuracy: 0.9989 - ignore_accuracy: 0.9885 - val_loss: 0.0458 - val_accuracy: 0.9890 - val_ignore_accuracy: 0.8871\nEpoch 93/100\n1878/1878 [==============================] - 1s 328us/sample - loss: 0.0064 - accuracy: 0.9989 - ignore_accuracy: 0.9883 - val_loss: 0.0462 - val_accuracy: 0.9890 - val_ignore_accuracy: 0.8871\nEpoch 94/100\n1878/1878 [==============================] - 1s 327us/sample - loss: 0.0061 - accuracy: 0.9990 - ignore_accuracy: 0.9890 - val_loss: 0.0461 - val_accuracy: 0.9890 - val_ignore_accuracy: 0.8876\nEpoch 95/100\n1878/1878 [==============================] - 1s 328us/sample - loss: 0.0059 - accuracy: 0.9990 - ignore_accuracy: 0.9897 - val_loss: 0.0461 - val_accuracy: 0.9890 - val_ignore_accuracy: 0.8875\nEpoch 96/100\n1878/1878 [==============================] - 1s 326us/sample - loss: 0.0058 - accuracy: 0.9990 - ignore_accuracy: 0.9896 - val_loss: 0.0465 - val_accuracy: 0.9890 - val_ignore_accuracy: 0.8870\nEpoch 97/100\n1878/1878 [==============================] - 1s 326us/sample - loss: 0.0056 - accuracy: 0.9991 - ignore_accuracy: 0.9900 - val_loss: 0.0471 - val_accuracy: 0.9890 - val_ignore_accuracy: 0.8880\nEpoch 98/100\n1878/1878 [==============================] - 1s 326us/sample - loss: 0.0054 - accuracy: 0.9991 - ignore_accuracy: 0.9904 - val_loss: 0.0470 - val_accuracy: 0.9890 - val_ignore_accuracy: 0.8874\nEpoch 99/100\n1878/1878 [==============================] - 1s 329us/sample - loss: 0.0053 - accuracy: 0.9991 - ignore_accuracy: 0.9908 - val_loss: 0.0469 - val_accuracy: 0.9889 - val_ignore_accuracy: 0.8867\nEpoch 100/100\n1878/1878 [==============================] - 1s 320us/sample - loss: 0.0052 - accuracy: 0.9991 - ignore_accuracy: 0.9909 - val_loss: 0.0467 - val_accuracy: 0.9890 - val_ignore_accuracy: 0.8869\n"
        }
      ]
    },
    {
      "metadata": {
        "slideshow": {
          "slide_type": "slide"
        },
        "id": "fr0DO2e522wU",
        "colab_type": "code",
        "outputId": "ad5adc48-7c6d-4222-ccec-a38dccaf7231",
        "colab": {
          "base_uri": "https://localhost:8080/",
          "height": 55
        }
      },
      "cell_type": "code",
      "source": [
        "predictions = model.predict(test_samples_X)\n",
        "print(logits_to_tokens(predictions, {i: t for t, i in tag2index.items()}))"
      ],
      "execution_count": 25,
      "outputs": [
        {
          "output_type": "stream",
          "name": "stdout",
          "text": "[['VBG', 'VBZ', 'RB', 'JJ', 'IN', 'PRP', '.', '-PAD-', '-PAD-', '-PAD-', '-PAD-', '-PAD-', '-PAD-', '-PAD-', '-PAD-', '-PAD-', '-PAD-', '-PAD-', '-PAD-', '-PAD-', '-PAD-', '-PAD-', '-PAD-', '-PAD-', '-PAD-', '-PAD-', '-PAD-', '-PAD-', '-PAD-', '-PAD-', '-PAD-', '-PAD-', '-PAD-', '-PAD-', '-PAD-', '-PAD-', '-PAD-', '-PAD-', '-PAD-', '-PAD-', '-PAD-', '-PAD-', '-PAD-', '-PAD-', '-PAD-', '-PAD-', '-PAD-', '-PAD-', '-PAD-', '-PAD-', '-PAD-', '-PAD-', '-PAD-', '-PAD-', '-PAD-', '-PAD-', '-PAD-', '-PAD-', '-PAD-', '-PAD-', '-PAD-', '-PAD-', '-PAD-', '-PAD-', '-PAD-', '-PAD-', '-PAD-', '-PAD-', '-PAD-', '-PAD-', '-PAD-', '-PAD-', '-PAD-', '-PAD-', '-PAD-', '-PAD-', '-PAD-', '-PAD-', '-PAD-', '-PAD-', '-PAD-', '-PAD-', '-PAD-', '-PAD-', '-PAD-', '-PAD-', '-PAD-', '-PAD-', '-PAD-', '-PAD-', '-PAD-', '-PAD-', '-PAD-', '-PAD-', '-PAD-', '-PAD-', '-PAD-', '-PAD-', '-PAD-', '-PAD-', '-PAD-', '-PAD-', '-PAD-', '-PAD-', '-PAD-', '-PAD-', '-PAD-', '-PAD-', '-PAD-', '-PAD-', '-PAD-', '-PAD-', '-PAD-', '-PAD-', '-PAD-', '-PAD-', '-PAD-', '-PAD-', '-PAD-', '-PAD-', '-PAD-', '-PAD-', '-PAD-', '-PAD-', '-PAD-', '-PAD-', '-PAD-', '-PAD-', '-PAD-', '-PAD-', '-PAD-', '-PAD-', '-PAD-', '-PAD-', '-PAD-', '-PAD-', '-PAD-', '-PAD-', '-PAD-', '-PAD-', '-PAD-', '-PAD-', '-PAD-', '-PAD-', '-PAD-', '-PAD-', '-PAD-', '-PAD-', '-PAD-', '-PAD-', '-PAD-', '-PAD-', '-PAD-', '-PAD-', '-PAD-', '-PAD-', '-PAD-', '-PAD-', '-PAD-', '-PAD-', '-PAD-', '-PAD-', '-PAD-', '-PAD-', '-PAD-', '-PAD-', '-PAD-', '-PAD-', '-PAD-', '-PAD-', '-PAD-', '-PAD-', '-PAD-', '-PAD-', '-PAD-', '-PAD-', '-PAD-', '-PAD-', '-PAD-', '-PAD-', '-PAD-', '-PAD-', '-PAD-', '-PAD-', '-PAD-', '-PAD-', '-PAD-', '-PAD-', '-PAD-', '-PAD-', '-PAD-', '-PAD-', '-PAD-', '-PAD-', '-PAD-', '-PAD-', '-PAD-', '-PAD-', '-PAD-', '-PAD-', '-PAD-', '-PAD-', '-PAD-', '-PAD-', '-PAD-', '-PAD-', '-PAD-', '-PAD-', '-PAD-', '-PAD-', '-PAD-', '-PAD-', '-PAD-', '-PAD-', '-PAD-', '-PAD-', '-PAD-', '-PAD-', '-PAD-', '-PAD-', '-PAD-', '-PAD-', '-PAD-', '-PAD-', '-PAD-', '-PAD-', '-PAD-', '-PAD-', '-PAD-', '-PAD-', '-PAD-', '-PAD-', '-PAD-', '-PAD-', '-PAD-', '-PAD-', '-PAD-', '-PAD-', '-PAD-', '-PAD-', '-PAD-', '-PAD-', '-PAD-', '-PAD-', '-PAD-', '-PAD-', '-PAD-', '-PAD-', '-PAD-', '-PAD-', '-PAD-', '-PAD-', '-PAD-', '-PAD-', '-PAD-', '-PAD-', '-PAD-', '-PAD-', '-PAD-', '-PAD-', '-PAD-', '-PAD-', '-PAD-', '-PAD-', '-PAD-', '-PAD-', '-PAD-', '-PAD-', '-PAD-', '-PAD-', '-PAD-'], ['PRP', 'VBD', 'VBG', 'DT', 'NN', 'IN', 'DT', 'NN', '.', '-PAD-', '-PAD-', '-PAD-', '-PAD-', '-PAD-', '-PAD-', '-PAD-', '-PAD-', '-PAD-', '-PAD-', '-PAD-', '-PAD-', '-PAD-', '-PAD-', '-PAD-', '-PAD-', '-PAD-', '-PAD-', '-PAD-', '-PAD-', '-PAD-', '-PAD-', '-PAD-', '-PAD-', '-PAD-', '-PAD-', '-PAD-', '-PAD-', '-PAD-', '-PAD-', '-PAD-', '-PAD-', '-PAD-', '-PAD-', '-PAD-', '-PAD-', '-PAD-', '-PAD-', '-PAD-', '-PAD-', '-PAD-', '-PAD-', '-PAD-', '-PAD-', '-PAD-', '-PAD-', '-PAD-', '-PAD-', '-PAD-', '-PAD-', '-PAD-', '-PAD-', '-PAD-', '-PAD-', '-PAD-', '-PAD-', '-PAD-', '-PAD-', '-PAD-', '-PAD-', '-PAD-', '-PAD-', '-PAD-', '-PAD-', '-PAD-', '-PAD-', '-PAD-', '-PAD-', '-PAD-', '-PAD-', '-PAD-', '-PAD-', '-PAD-', '-PAD-', '-PAD-', '-PAD-', '-PAD-', '-PAD-', '-PAD-', '-PAD-', '-PAD-', '-PAD-', '-PAD-', '-PAD-', '-PAD-', '-PAD-', '-PAD-', '-PAD-', '-PAD-', '-PAD-', '-PAD-', '-PAD-', '-PAD-', '-PAD-', '-PAD-', '-PAD-', '-PAD-', '-PAD-', '-PAD-', '-PAD-', '-PAD-', '-PAD-', '-PAD-', '-PAD-', '-PAD-', '-PAD-', '-PAD-', '-PAD-', '-PAD-', '-PAD-', '-PAD-', '-PAD-', '-PAD-', '-PAD-', '-PAD-', '-PAD-', '-PAD-', '-PAD-', '-PAD-', '-PAD-', '-PAD-', '-PAD-', '-PAD-', '-PAD-', '-PAD-', '-PAD-', '-PAD-', '-PAD-', '-PAD-', '-PAD-', '-PAD-', '-PAD-', '-PAD-', '-PAD-', '-PAD-', '-PAD-', '-PAD-', '-PAD-', '-PAD-', '-PAD-', '-PAD-', '-PAD-', '-PAD-', '-PAD-', '-PAD-', '-PAD-', '-PAD-', '-PAD-', '-PAD-', '-PAD-', '-PAD-', '-PAD-', '-PAD-', '-PAD-', '-PAD-', '-PAD-', '-PAD-', '-PAD-', '-PAD-', '-PAD-', '-PAD-', '-PAD-', '-PAD-', '-PAD-', '-PAD-', '-PAD-', '-PAD-', '-PAD-', '-PAD-', '-PAD-', '-PAD-', '-PAD-', '-PAD-', '-PAD-', '-PAD-', '-PAD-', '-PAD-', '-PAD-', '-PAD-', '-PAD-', '-PAD-', '-PAD-', '-PAD-', '-PAD-', '-PAD-', '-PAD-', '-PAD-', '-PAD-', '-PAD-', '-PAD-', '-PAD-', '-PAD-', '-PAD-', '-PAD-', '-PAD-', '-PAD-', '-PAD-', '-PAD-', '-PAD-', '-PAD-', '-PAD-', '-PAD-', '-PAD-', '-PAD-', '-PAD-', '-PAD-', '-PAD-', '-PAD-', '-PAD-', '-PAD-', '-PAD-', '-PAD-', '-PAD-', '-PAD-', '-PAD-', '-PAD-', '-PAD-', '-PAD-', '-PAD-', '-PAD-', '-PAD-', '-PAD-', '-PAD-', '-PAD-', '-PAD-', '-PAD-', '-PAD-', '-PAD-', '-PAD-', '-PAD-', '-PAD-', '-PAD-', '-PAD-', '-PAD-', '-PAD-', '-PAD-', '-PAD-', '-PAD-', '-PAD-', '-PAD-', '-PAD-', '-PAD-', '-PAD-', '-PAD-', '-PAD-', '-PAD-', '-PAD-', '-PAD-', '-PAD-', '-PAD-', '-PAD-', '-PAD-', '-PAD-', '-PAD-', '-PAD-', '-PAD-', '-PAD-', '-PAD-', '-PAD-', '-PAD-', '-PAD-', '-PAD-']]\n"
        }
      ]
    },
    {
      "metadata": {
        "slideshow": {
          "slide_type": "slide"
        },
        "id": "dWsUFxFb22wZ",
        "colab_type": "text"
      },
      "cell_type": "markdown",
      "source": [
        "We can see the great difference in accuracy when we ignore the padding symbol. Also, note that the results reported by the original post https://nlpforhackers.io/lstm-pos-tagger-keras/ are better, probably because they used two LSTM chains: one going forwards, and another going backwards. This is what is called a **bidirectional recurrent network**, and it usually reports better results because each prediction is based on the context on the left and the right of the token."
      ]
    },
    {
      "metadata": {
        "id": "QFJouksxEsDM",
        "colab_type": "code",
        "outputId": "942bacca-6055-4030-8d8e-bca6f3882c2b",
        "colab": {
          "base_uri": "https://localhost:8080/",
          "height": 35
        }
      },
      "cell_type": "code",
      "source": [
        "history.history.keys()"
      ],
      "execution_count": 26,
      "outputs": [
        {
          "output_type": "execute_result",
          "data": {
            "text/plain": "dict_keys(['loss', 'accuracy', 'ignore_accuracy', 'val_loss', 'val_accuracy', 'val_ignore_accuracy'])"
          },
          "metadata": {},
          "execution_count": 26
        }
      ]
    },
    {
      "metadata": {
        "id": "L_ieDH5d22wb",
        "colab_type": "code",
        "outputId": "425a10e3-2770-44aa-90bf-7aaea1f351fe",
        "colab": {
          "base_uri": "https://localhost:8080/",
          "height": 335
        }
      },
      "cell_type": "code",
      "source": [
        "%matplotlib inline\n",
        "from matplotlib import pyplot as plt\n",
        "plt.rcParams['figure.figsize'] = [15, 5]\n",
        "\n",
        "acc = history.history['accuracy']\n",
        "val_acc = history.history['val_accuracy']\n",
        "ignore_acc = history.history['ignore_accuracy']\n",
        "val_ignore_acc = history.history['val_ignore_accuracy']\n",
        "loss = history.history['loss']\n",
        "val_loss = history.history['val_loss']\n",
        "\n",
        "epochs = range(len(acc))\n",
        "\n",
        "plt.subplot(121)\n",
        "plt.plot(epochs, acc, 'bo', label='Training acc')\n",
        "plt.plot(epochs, val_acc, 'b', label='Validation acc')\n",
        "plt.plot(epochs, ignore_acc, 'go', label='Training ignore acc')\n",
        "plt.plot(epochs, val_ignore_acc, 'g', label='Validation ignore acc')\n",
        "plt.title('Training and validation accuracy')\n",
        "plt.legend()\n",
        "\n",
        "plt.subplot(122)\n",
        "plt.plot(epochs, loss, 'bo', label='Training loss')\n",
        "plt.plot(epochs, val_loss, 'b', label='Validation loss')\n",
        "plt.title('Training and validation loss')\n",
        "plt.legend()\n",
        "\n",
        "plt.show()\n",
        ""
      ],
      "execution_count": 28,
      "outputs": [
        {
          "output_type": "display_data",
          "data": {
            "text/plain": "<Figure size 1080x360 with 2 Axes>",
            "image/svg+xml": "<?xml version=\"1.0\" encoding=\"utf-8\" standalone=\"no\"?>\n<!DOCTYPE svg PUBLIC \"-//W3C//DTD SVG 1.1//EN\"\n  \"http://www.w3.org/Graphics/SVG/1.1/DTD/svg11.dtd\">\n<!-- Created with matplotlib (https://matplotlib.org/) -->\n<svg height=\"317.99625pt\" version=\"1.1\" viewBox=\"0 0 874.303125 317.99625\" width=\"874.303125pt\" xmlns=\"http://www.w3.org/2000/svg\" xmlns:xlink=\"http://www.w3.org/1999/xlink\">\n <defs>\n  <style type=\"text/css\">\n*{stroke-linecap:butt;stroke-linejoin:round;}\n  </style>\n </defs>\n <g id=\"figure_1\">\n  <g id=\"patch_1\">\n   <path d=\"M 0 317.99625 \nL 874.303125 317.99625 \nL 874.303125 0 \nL 0 0 \nz\n\" style=\"fill:none;\"/>\n  </g>\n  <g id=\"axes_1\">\n   <g id=\"patch_2\">\n    <path d=\"M 30.103125 294.118125 \nL 410.55767 294.118125 \nL 410.55767 22.318125 \nL 30.103125 22.318125 \nz\n\" style=\"fill:#ffffff;\"/>\n   </g>\n   <g id=\"matplotlib.axis_1\">\n    <g id=\"xtick_1\">\n     <g id=\"line2d_1\">\n      <defs>\n       <path d=\"M 0 0 \nL 0 3.5 \n\" id=\"m887956dd39\" style=\"stroke:#000000;stroke-width:0.8;\"/>\n      </defs>\n      <g>\n       <use style=\"stroke:#000000;stroke-width:0.8;\" x=\"47.396513\" xlink:href=\"#m887956dd39\" y=\"294.118125\"/>\n      </g>\n     </g>\n     <g id=\"text_1\">\n      <!-- 0 -->\n      <defs>\n       <path d=\"M 31.78125 66.40625 \nQ 24.171875 66.40625 20.328125 58.90625 \nQ 16.5 51.421875 16.5 36.375 \nQ 16.5 21.390625 20.328125 13.890625 \nQ 24.171875 6.390625 31.78125 6.390625 \nQ 39.453125 6.390625 43.28125 13.890625 \nQ 47.125 21.390625 47.125 36.375 \nQ 47.125 51.421875 43.28125 58.90625 \nQ 39.453125 66.40625 31.78125 66.40625 \nz\nM 31.78125 74.21875 \nQ 44.046875 74.21875 50.515625 64.515625 \nQ 56.984375 54.828125 56.984375 36.375 \nQ 56.984375 17.96875 50.515625 8.265625 \nQ 44.046875 -1.421875 31.78125 -1.421875 \nQ 19.53125 -1.421875 13.0625 8.265625 \nQ 6.59375 17.96875 6.59375 36.375 \nQ 6.59375 54.828125 13.0625 64.515625 \nQ 19.53125 74.21875 31.78125 74.21875 \nz\n\" id=\"DejaVuSans-48\"/>\n      </defs>\n      <g transform=\"translate(44.215263 308.716563)scale(0.1 -0.1)\">\n       <use xlink:href=\"#DejaVuSans-48\"/>\n      </g>\n     </g>\n    </g>\n    <g id=\"xtick_2\">\n     <g id=\"line2d_2\">\n      <g>\n       <use style=\"stroke:#000000;stroke-width:0.8;\" x=\"117.26879\" xlink:href=\"#m887956dd39\" y=\"294.118125\"/>\n      </g>\n     </g>\n     <g id=\"text_2\">\n      <!-- 20 -->\n      <defs>\n       <path d=\"M 19.1875 8.296875 \nL 53.609375 8.296875 \nL 53.609375 0 \nL 7.328125 0 \nL 7.328125 8.296875 \nQ 12.9375 14.109375 22.625 23.890625 \nQ 32.328125 33.6875 34.8125 36.53125 \nQ 39.546875 41.84375 41.421875 45.53125 \nQ 43.3125 49.21875 43.3125 52.78125 \nQ 43.3125 58.59375 39.234375 62.25 \nQ 35.15625 65.921875 28.609375 65.921875 \nQ 23.96875 65.921875 18.8125 64.3125 \nQ 13.671875 62.703125 7.8125 59.421875 \nL 7.8125 69.390625 \nQ 13.765625 71.78125 18.9375 73 \nQ 24.125 74.21875 28.421875 74.21875 \nQ 39.75 74.21875 46.484375 68.546875 \nQ 53.21875 62.890625 53.21875 53.421875 \nQ 53.21875 48.921875 51.53125 44.890625 \nQ 49.859375 40.875 45.40625 35.40625 \nQ 44.1875 33.984375 37.640625 27.21875 \nQ 31.109375 20.453125 19.1875 8.296875 \nz\n\" id=\"DejaVuSans-50\"/>\n      </defs>\n      <g transform=\"translate(110.90629 308.716563)scale(0.1 -0.1)\">\n       <use xlink:href=\"#DejaVuSans-50\"/>\n       <use x=\"63.623047\" xlink:href=\"#DejaVuSans-48\"/>\n      </g>\n     </g>\n    </g>\n    <g id=\"xtick_3\">\n     <g id=\"line2d_3\">\n      <g>\n       <use style=\"stroke:#000000;stroke-width:0.8;\" x=\"187.141066\" xlink:href=\"#m887956dd39\" y=\"294.118125\"/>\n      </g>\n     </g>\n     <g id=\"text_3\">\n      <!-- 40 -->\n      <defs>\n       <path d=\"M 37.796875 64.3125 \nL 12.890625 25.390625 \nL 37.796875 25.390625 \nz\nM 35.203125 72.90625 \nL 47.609375 72.90625 \nL 47.609375 25.390625 \nL 58.015625 25.390625 \nL 58.015625 17.1875 \nL 47.609375 17.1875 \nL 47.609375 0 \nL 37.796875 0 \nL 37.796875 17.1875 \nL 4.890625 17.1875 \nL 4.890625 26.703125 \nz\n\" id=\"DejaVuSans-52\"/>\n      </defs>\n      <g transform=\"translate(180.778566 308.716563)scale(0.1 -0.1)\">\n       <use xlink:href=\"#DejaVuSans-52\"/>\n       <use x=\"63.623047\" xlink:href=\"#DejaVuSans-48\"/>\n      </g>\n     </g>\n    </g>\n    <g id=\"xtick_4\">\n     <g id=\"line2d_4\">\n      <g>\n       <use style=\"stroke:#000000;stroke-width:0.8;\" x=\"257.013343\" xlink:href=\"#m887956dd39\" y=\"294.118125\"/>\n      </g>\n     </g>\n     <g id=\"text_4\">\n      <!-- 60 -->\n      <defs>\n       <path d=\"M 33.015625 40.375 \nQ 26.375 40.375 22.484375 35.828125 \nQ 18.609375 31.296875 18.609375 23.390625 \nQ 18.609375 15.53125 22.484375 10.953125 \nQ 26.375 6.390625 33.015625 6.390625 \nQ 39.65625 6.390625 43.53125 10.953125 \nQ 47.40625 15.53125 47.40625 23.390625 \nQ 47.40625 31.296875 43.53125 35.828125 \nQ 39.65625 40.375 33.015625 40.375 \nz\nM 52.59375 71.296875 \nL 52.59375 62.3125 \nQ 48.875 64.0625 45.09375 64.984375 \nQ 41.3125 65.921875 37.59375 65.921875 \nQ 27.828125 65.921875 22.671875 59.328125 \nQ 17.53125 52.734375 16.796875 39.40625 \nQ 19.671875 43.65625 24.015625 45.921875 \nQ 28.375 48.1875 33.59375 48.1875 \nQ 44.578125 48.1875 50.953125 41.515625 \nQ 57.328125 34.859375 57.328125 23.390625 \nQ 57.328125 12.15625 50.6875 5.359375 \nQ 44.046875 -1.421875 33.015625 -1.421875 \nQ 20.359375 -1.421875 13.671875 8.265625 \nQ 6.984375 17.96875 6.984375 36.375 \nQ 6.984375 53.65625 15.1875 63.9375 \nQ 23.390625 74.21875 37.203125 74.21875 \nQ 40.921875 74.21875 44.703125 73.484375 \nQ 48.484375 72.75 52.59375 71.296875 \nz\n\" id=\"DejaVuSans-54\"/>\n      </defs>\n      <g transform=\"translate(250.650843 308.716563)scale(0.1 -0.1)\">\n       <use xlink:href=\"#DejaVuSans-54\"/>\n       <use x=\"63.623047\" xlink:href=\"#DejaVuSans-48\"/>\n      </g>\n     </g>\n    </g>\n    <g id=\"xtick_5\">\n     <g id=\"line2d_5\">\n      <g>\n       <use style=\"stroke:#000000;stroke-width:0.8;\" x=\"326.885619\" xlink:href=\"#m887956dd39\" y=\"294.118125\"/>\n      </g>\n     </g>\n     <g id=\"text_5\">\n      <!-- 80 -->\n      <defs>\n       <path d=\"M 31.78125 34.625 \nQ 24.75 34.625 20.71875 30.859375 \nQ 16.703125 27.09375 16.703125 20.515625 \nQ 16.703125 13.921875 20.71875 10.15625 \nQ 24.75 6.390625 31.78125 6.390625 \nQ 38.8125 6.390625 42.859375 10.171875 \nQ 46.921875 13.96875 46.921875 20.515625 \nQ 46.921875 27.09375 42.890625 30.859375 \nQ 38.875 34.625 31.78125 34.625 \nz\nM 21.921875 38.8125 \nQ 15.578125 40.375 12.03125 44.71875 \nQ 8.5 49.078125 8.5 55.328125 \nQ 8.5 64.0625 14.71875 69.140625 \nQ 20.953125 74.21875 31.78125 74.21875 \nQ 42.671875 74.21875 48.875 69.140625 \nQ 55.078125 64.0625 55.078125 55.328125 \nQ 55.078125 49.078125 51.53125 44.71875 \nQ 48 40.375 41.703125 38.8125 \nQ 48.828125 37.15625 52.796875 32.3125 \nQ 56.78125 27.484375 56.78125 20.515625 \nQ 56.78125 9.90625 50.3125 4.234375 \nQ 43.84375 -1.421875 31.78125 -1.421875 \nQ 19.734375 -1.421875 13.25 4.234375 \nQ 6.78125 9.90625 6.78125 20.515625 \nQ 6.78125 27.484375 10.78125 32.3125 \nQ 14.796875 37.15625 21.921875 38.8125 \nz\nM 18.3125 54.390625 \nQ 18.3125 48.734375 21.84375 45.5625 \nQ 25.390625 42.390625 31.78125 42.390625 \nQ 38.140625 42.390625 41.71875 45.5625 \nQ 45.3125 48.734375 45.3125 54.390625 \nQ 45.3125 60.0625 41.71875 63.234375 \nQ 38.140625 66.40625 31.78125 66.40625 \nQ 25.390625 66.40625 21.84375 63.234375 \nQ 18.3125 60.0625 18.3125 54.390625 \nz\n\" id=\"DejaVuSans-56\"/>\n      </defs>\n      <g transform=\"translate(320.523119 308.716563)scale(0.1 -0.1)\">\n       <use xlink:href=\"#DejaVuSans-56\"/>\n       <use x=\"63.623047\" xlink:href=\"#DejaVuSans-48\"/>\n      </g>\n     </g>\n    </g>\n    <g id=\"xtick_6\">\n     <g id=\"line2d_6\">\n      <g>\n       <use style=\"stroke:#000000;stroke-width:0.8;\" x=\"396.757896\" xlink:href=\"#m887956dd39\" y=\"294.118125\"/>\n      </g>\n     </g>\n     <g id=\"text_6\">\n      <!-- 100 -->\n      <defs>\n       <path d=\"M 12.40625 8.296875 \nL 28.515625 8.296875 \nL 28.515625 63.921875 \nL 10.984375 60.40625 \nL 10.984375 69.390625 \nL 28.421875 72.90625 \nL 38.28125 72.90625 \nL 38.28125 8.296875 \nL 54.390625 8.296875 \nL 54.390625 0 \nL 12.40625 0 \nz\n\" id=\"DejaVuSans-49\"/>\n      </defs>\n      <g transform=\"translate(387.214146 308.716563)scale(0.1 -0.1)\">\n       <use xlink:href=\"#DejaVuSans-49\"/>\n       <use x=\"63.623047\" xlink:href=\"#DejaVuSans-48\"/>\n       <use x=\"127.246094\" xlink:href=\"#DejaVuSans-48\"/>\n      </g>\n     </g>\n    </g>\n   </g>\n   <g id=\"matplotlib.axis_2\">\n    <g id=\"ytick_1\">\n     <g id=\"line2d_7\">\n      <defs>\n       <path d=\"M 0 0 \nL -3.5 0 \n\" id=\"m07b48af1e4\" style=\"stroke:#000000;stroke-width:0.8;\"/>\n      </defs>\n      <g>\n       <use style=\"stroke:#000000;stroke-width:0.8;\" x=\"30.103125\" xlink:href=\"#m07b48af1e4\" y=\"281.76358\"/>\n      </g>\n     </g>\n     <g id=\"text_7\">\n      <!-- 0.0 -->\n      <defs>\n       <path d=\"M 10.6875 12.40625 \nL 21 12.40625 \nL 21 0 \nL 10.6875 0 \nz\n\" id=\"DejaVuSans-46\"/>\n      </defs>\n      <g transform=\"translate(7.2 285.562798)scale(0.1 -0.1)\">\n       <use xlink:href=\"#DejaVuSans-48\"/>\n       <use x=\"63.623047\" xlink:href=\"#DejaVuSans-46\"/>\n       <use x=\"95.410156\" xlink:href=\"#DejaVuSans-48\"/>\n      </g>\n     </g>\n    </g>\n    <g id=\"ytick_2\">\n     <g id=\"line2d_8\">\n      <g>\n       <use style=\"stroke:#000000;stroke-width:0.8;\" x=\"30.103125\" xlink:href=\"#m07b48af1e4\" y=\"232.302928\"/>\n      </g>\n     </g>\n     <g id=\"text_8\">\n      <!-- 0.2 -->\n      <g transform=\"translate(7.2 236.102146)scale(0.1 -0.1)\">\n       <use xlink:href=\"#DejaVuSans-48\"/>\n       <use x=\"63.623047\" xlink:href=\"#DejaVuSans-46\"/>\n       <use x=\"95.410156\" xlink:href=\"#DejaVuSans-50\"/>\n      </g>\n     </g>\n    </g>\n    <g id=\"ytick_3\">\n     <g id=\"line2d_9\">\n      <g>\n       <use style=\"stroke:#000000;stroke-width:0.8;\" x=\"30.103125\" xlink:href=\"#m07b48af1e4\" y=\"182.842276\"/>\n      </g>\n     </g>\n     <g id=\"text_9\">\n      <!-- 0.4 -->\n      <g transform=\"translate(7.2 186.641494)scale(0.1 -0.1)\">\n       <use xlink:href=\"#DejaVuSans-48\"/>\n       <use x=\"63.623047\" xlink:href=\"#DejaVuSans-46\"/>\n       <use x=\"95.410156\" xlink:href=\"#DejaVuSans-52\"/>\n      </g>\n     </g>\n    </g>\n    <g id=\"ytick_4\">\n     <g id=\"line2d_10\">\n      <g>\n       <use style=\"stroke:#000000;stroke-width:0.8;\" x=\"30.103125\" xlink:href=\"#m07b48af1e4\" y=\"133.381624\"/>\n      </g>\n     </g>\n     <g id=\"text_10\">\n      <!-- 0.6 -->\n      <g transform=\"translate(7.2 137.180843)scale(0.1 -0.1)\">\n       <use xlink:href=\"#DejaVuSans-48\"/>\n       <use x=\"63.623047\" xlink:href=\"#DejaVuSans-46\"/>\n       <use x=\"95.410156\" xlink:href=\"#DejaVuSans-54\"/>\n      </g>\n     </g>\n    </g>\n    <g id=\"ytick_5\">\n     <g id=\"line2d_11\">\n      <g>\n       <use style=\"stroke:#000000;stroke-width:0.8;\" x=\"30.103125\" xlink:href=\"#m07b48af1e4\" y=\"83.920972\"/>\n      </g>\n     </g>\n     <g id=\"text_11\">\n      <!-- 0.8 -->\n      <g transform=\"translate(7.2 87.720191)scale(0.1 -0.1)\">\n       <use xlink:href=\"#DejaVuSans-48\"/>\n       <use x=\"63.623047\" xlink:href=\"#DejaVuSans-46\"/>\n       <use x=\"95.410156\" xlink:href=\"#DejaVuSans-56\"/>\n      </g>\n     </g>\n    </g>\n    <g id=\"ytick_6\">\n     <g id=\"line2d_12\">\n      <g>\n       <use style=\"stroke:#000000;stroke-width:0.8;\" x=\"30.103125\" xlink:href=\"#m07b48af1e4\" y=\"34.46032\"/>\n      </g>\n     </g>\n     <g id=\"text_12\">\n      <!-- 1.0 -->\n      <g transform=\"translate(7.2 38.259539)scale(0.1 -0.1)\">\n       <use xlink:href=\"#DejaVuSans-49\"/>\n       <use x=\"63.623047\" xlink:href=\"#DejaVuSans-46\"/>\n       <use x=\"95.410156\" xlink:href=\"#DejaVuSans-48\"/>\n      </g>\n     </g>\n    </g>\n   </g>\n   <g id=\"line2d_13\">\n    <defs>\n     <path d=\"M 0 3 \nC 0.795609 3 1.55874 2.683901 2.12132 2.12132 \nC 2.683901 1.55874 3 0.795609 3 0 \nC 3 -0.795609 2.683901 -1.55874 2.12132 -2.12132 \nC 1.55874 -2.683901 0.795609 -3 0 -3 \nC -0.795609 -3 -1.55874 -2.683901 -2.12132 -2.12132 \nC -2.683901 -1.55874 -3 -0.795609 -3 0 \nC -3 0.795609 -2.683901 1.55874 -2.12132 2.12132 \nC -1.55874 2.683901 -0.795609 3 0 3 \nz\n\" id=\"m6587c71a2b\" style=\"stroke:#0000ff;\"/>\n    </defs>\n    <g clip-path=\"url(#pfa82ca04a4)\">\n     <use style=\"fill:#0000ff;stroke:#0000ff;\" x=\"47.396513\" xlink:href=\"#m6587c71a2b\" y=\"72.940341\"/>\n     <use style=\"fill:#0000ff;stroke:#0000ff;\" x=\"50.890127\" xlink:href=\"#m6587c71a2b\" y=\"62.173317\"/>\n     <use style=\"fill:#0000ff;stroke:#0000ff;\" x=\"54.383741\" xlink:href=\"#m6587c71a2b\" y=\"57.829197\"/>\n     <use style=\"fill:#0000ff;stroke:#0000ff;\" x=\"57.877355\" xlink:href=\"#m6587c71a2b\" y=\"57.813159\"/>\n     <use style=\"fill:#0000ff;stroke:#0000ff;\" x=\"61.370969\" xlink:href=\"#m6587c71a2b\" y=\"57.790326\"/>\n     <use style=\"fill:#0000ff;stroke:#0000ff;\" x=\"64.864583\" xlink:href=\"#m6587c71a2b\" y=\"57.775262\"/>\n     <use style=\"fill:#0000ff;stroke:#0000ff;\" x=\"68.358196\" xlink:href=\"#m6587c71a2b\" y=\"57.678078\"/>\n     <use style=\"fill:#0000ff;stroke:#0000ff;\" x=\"71.85181\" xlink:href=\"#m6587c71a2b\" y=\"57.351047\"/>\n     <use style=\"fill:#0000ff;stroke:#0000ff;\" x=\"75.345424\" xlink:href=\"#m6587c71a2b\" y=\"56.766486\"/>\n     <use style=\"fill:#0000ff;stroke:#0000ff;\" x=\"78.839038\" xlink:href=\"#m6587c71a2b\" y=\"56.189693\"/>\n     <use style=\"fill:#0000ff;stroke:#0000ff;\" x=\"82.332652\" xlink:href=\"#m6587c71a2b\" y=\"55.949174\"/>\n     <use style=\"fill:#0000ff;stroke:#0000ff;\" x=\"85.826265\" xlink:href=\"#m6587c71a2b\" y=\"55.782017\"/>\n     <use style=\"fill:#0000ff;stroke:#0000ff;\" x=\"89.319879\" xlink:href=\"#m6587c71a2b\" y=\"55.564803\"/>\n     <use style=\"fill:#0000ff;stroke:#0000ff;\" x=\"92.813493\" xlink:href=\"#m6587c71a2b\" y=\"55.217371\"/>\n     <use style=\"fill:#0000ff;stroke:#0000ff;\" x=\"96.307107\" xlink:href=\"#m6587c71a2b\" y=\"54.758664\"/>\n     <use style=\"fill:#0000ff;stroke:#0000ff;\" x=\"99.800721\" xlink:href=\"#m6587c71a2b\" y=\"54.469058\"/>\n     <use style=\"fill:#0000ff;stroke:#0000ff;\" x=\"103.294335\" xlink:href=\"#m6587c71a2b\" y=\"54.264004\"/>\n     <use style=\"fill:#0000ff;stroke:#0000ff;\" x=\"106.787948\" xlink:href=\"#m6587c71a2b\" y=\"54.132314\"/>\n     <use style=\"fill:#0000ff;stroke:#0000ff;\" x=\"110.281562\" xlink:href=\"#m6587c71a2b\" y=\"53.956902\"/>\n     <use style=\"fill:#0000ff;stroke:#0000ff;\" x=\"113.775176\" xlink:href=\"#m6587c71a2b\" y=\"53.572045\"/>\n     <use style=\"fill:#0000ff;stroke:#0000ff;\" x=\"117.26879\" xlink:href=\"#m6587c71a2b\" y=\"53.367477\"/>\n     <use style=\"fill:#0000ff;stroke:#0000ff;\" x=\"120.762404\" xlink:href=\"#m6587c71a2b\" y=\"53.166786\"/>\n     <use style=\"fill:#0000ff;stroke:#0000ff;\" x=\"124.256018\" xlink:href=\"#m6587c71a2b\" y=\"52.922862\"/>\n     <use style=\"fill:#0000ff;stroke:#0000ff;\" x=\"127.749631\" xlink:href=\"#m6587c71a2b\" y=\"52.760555\"/>\n     <use style=\"fill:#0000ff;stroke:#0000ff;\" x=\"131.243245\" xlink:href=\"#m6587c71a2b\" y=\"52.45248\"/>\n     <use style=\"fill:#0000ff;stroke:#0000ff;\" x=\"134.736859\" xlink:href=\"#m6587c71a2b\" y=\"52.075907\"/>\n     <use style=\"fill:#0000ff;stroke:#0000ff;\" x=\"138.230473\" xlink:href=\"#m6587c71a2b\" y=\"51.748389\"/>\n     <use style=\"fill:#0000ff;stroke:#0000ff;\" x=\"141.724087\" xlink:href=\"#m6587c71a2b\" y=\"51.088991\"/>\n     <use style=\"fill:#0000ff;stroke:#0000ff;\" x=\"145.217701\" xlink:href=\"#m6587c71a2b\" y=\"50.348447\"/>\n     <use style=\"fill:#0000ff;stroke:#0000ff;\" x=\"148.711314\" xlink:href=\"#m6587c71a2b\" y=\"49.46893\"/>\n     <use style=\"fill:#0000ff;stroke:#0000ff;\" x=\"152.204928\" xlink:href=\"#m6587c71a2b\" y=\"48.452873\"/>\n     <use style=\"fill:#0000ff;stroke:#0000ff;\" x=\"155.698542\" xlink:href=\"#m6587c71a2b\" y=\"47.515058\"/>\n     <use style=\"fill:#0000ff;stroke:#0000ff;\" x=\"159.192156\" xlink:href=\"#m6587c71a2b\" y=\"46.639904\"/>\n     <use style=\"fill:#0000ff;stroke:#0000ff;\" x=\"162.68577\" xlink:href=\"#m6587c71a2b\" y=\"45.77983\"/>\n     <use style=\"fill:#0000ff;stroke:#0000ff;\" x=\"166.179383\" xlink:href=\"#m6587c71a2b\" y=\"44.884275\"/>\n     <use style=\"fill:#0000ff;stroke:#0000ff;\" x=\"169.672997\" xlink:href=\"#m6587c71a2b\" y=\"44.008164\"/>\n     <use style=\"fill:#0000ff;stroke:#0000ff;\" x=\"173.166611\" xlink:href=\"#m6587c71a2b\" y=\"43.08929\"/>\n     <use style=\"fill:#0000ff;stroke:#0000ff;\" x=\"176.660225\" xlink:href=\"#m6587c71a2b\" y=\"42.286556\"/>\n     <use style=\"fill:#0000ff;stroke:#0000ff;\" x=\"180.153839\" xlink:href=\"#m6587c71a2b\" y=\"41.391488\"/>\n     <use style=\"fill:#0000ff;stroke:#0000ff;\" x=\"183.647453\" xlink:href=\"#m6587c71a2b\" y=\"40.655322\"/>\n     <use style=\"fill:#0000ff;stroke:#0000ff;\" x=\"187.141066\" xlink:href=\"#m6587c71a2b\" y=\"39.853546\"/>\n     <use style=\"fill:#0000ff;stroke:#0000ff;\" x=\"190.63468\" xlink:href=\"#m6587c71a2b\" y=\"39.247611\"/>\n     <use style=\"fill:#0000ff;stroke:#0000ff;\" x=\"194.128294\" xlink:href=\"#m6587c71a2b\" y=\"38.630975\"/>\n     <use style=\"fill:#0000ff;stroke:#0000ff;\" x=\"197.621908\" xlink:href=\"#m6587c71a2b\" y=\"38.107631\"/>\n     <use style=\"fill:#0000ff;stroke:#0000ff;\" x=\"201.115522\" xlink:href=\"#m6587c71a2b\" y=\"37.624145\"/>\n     <use style=\"fill:#0000ff;stroke:#0000ff;\" x=\"204.609136\" xlink:href=\"#m6587c71a2b\" y=\"37.29567\"/>\n     <use style=\"fill:#0000ff;stroke:#0000ff;\" x=\"208.102749\" xlink:href=\"#m6587c71a2b\" y=\"36.963288\"/>\n     <use style=\"fill:#0000ff;stroke:#0000ff;\" x=\"211.596363\" xlink:href=\"#m6587c71a2b\" y=\"36.690693\"/>\n     <use style=\"fill:#0000ff;stroke:#0000ff;\" x=\"215.089977\" xlink:href=\"#m6587c71a2b\" y=\"36.490489\"/>\n     <use style=\"fill:#0000ff;stroke:#0000ff;\" x=\"218.583591\" xlink:href=\"#m6587c71a2b\" y=\"36.315078\"/>\n     <use style=\"fill:#0000ff;stroke:#0000ff;\" x=\"222.077205\" xlink:href=\"#m6587c71a2b\" y=\"36.169782\"/>\n     <use style=\"fill:#0000ff;stroke:#0000ff;\" x=\"225.570818\" xlink:href=\"#m6587c71a2b\" y=\"36.056089\"/>\n     <use style=\"fill:#0000ff;stroke:#0000ff;\" x=\"229.064432\" xlink:href=\"#m6587c71a2b\" y=\"35.945285\"/>\n     <use style=\"fill:#0000ff;stroke:#0000ff;\" x=\"232.558046\" xlink:href=\"#m6587c71a2b\" y=\"35.841792\"/>\n     <use style=\"fill:#0000ff;stroke:#0000ff;\" x=\"236.05166\" xlink:href=\"#m6587c71a2b\" y=\"35.754323\"/>\n     <use style=\"fill:#0000ff;stroke:#0000ff;\" x=\"239.545274\" xlink:href=\"#m6587c71a2b\" y=\"35.613404\"/>\n     <use style=\"fill:#0000ff;stroke:#0000ff;\" x=\"243.038888\" xlink:href=\"#m6587c71a2b\" y=\"35.491928\"/>\n     <use style=\"fill:#0000ff;stroke:#0000ff;\" x=\"246.532501\" xlink:href=\"#m6587c71a2b\" y=\"35.43021\"/>\n     <use style=\"fill:#0000ff;stroke:#0000ff;\" x=\"250.026115\" xlink:href=\"#m6587c71a2b\" y=\"35.36267\"/>\n     <use style=\"fill:#0000ff;stroke:#0000ff;\" x=\"253.519729\" xlink:href=\"#m6587c71a2b\" y=\"35.318448\"/>\n     <use style=\"fill:#0000ff;stroke:#0000ff;\" x=\"257.013343\" xlink:href=\"#m6587c71a2b\" y=\"35.274728\"/>\n     <use style=\"fill:#0000ff;stroke:#0000ff;\" x=\"260.506957\" xlink:href=\"#m6587c71a2b\" y=\"35.249935\"/>\n     <use style=\"fill:#0000ff;stroke:#0000ff;\" x=\"264.000571\" xlink:href=\"#m6587c71a2b\" y=\"35.21301\"/>\n     <use style=\"fill:#0000ff;stroke:#0000ff;\" x=\"267.494184\" xlink:href=\"#m6587c71a2b\" y=\"35.174626\"/>\n     <use style=\"fill:#0000ff;stroke:#0000ff;\" x=\"270.987798\" xlink:href=\"#m6587c71a2b\" y=\"35.144497\"/>\n     <use style=\"fill:#0000ff;stroke:#0000ff;\" x=\"274.481412\" xlink:href=\"#m6587c71a2b\" y=\"35.128946\"/>\n     <use style=\"fill:#0000ff;stroke:#0000ff;\" x=\"277.975026\" xlink:href=\"#m6587c71a2b\" y=\"35.099303\"/>\n     <use style=\"fill:#0000ff;stroke:#0000ff;\" x=\"281.46864\" xlink:href=\"#m6587c71a2b\" y=\"35.069173\"/>\n     <use style=\"fill:#0000ff;stroke:#0000ff;\" x=\"284.962253\" xlink:href=\"#m6587c71a2b\" y=\"35.048772\"/>\n     <use style=\"fill:#0000ff;stroke:#0000ff;\" x=\"288.455867\" xlink:href=\"#m6587c71a2b\" y=\"35.027384\"/>\n     <use style=\"fill:#0000ff;stroke:#0000ff;\" x=\"291.949481\" xlink:href=\"#m6587c71a2b\" y=\"34.997741\"/>\n     <use style=\"fill:#0000ff;stroke:#0000ff;\" x=\"295.443095\" xlink:href=\"#m6587c71a2b\" y=\"34.987054\"/>\n     <use style=\"fill:#0000ff;stroke:#0000ff;\" x=\"298.936709\" xlink:href=\"#m6587c71a2b\" y=\"34.981232\"/>\n     <use style=\"fill:#0000ff;stroke:#0000ff;\" x=\"302.430323\" xlink:href=\"#m6587c71a2b\" y=\"34.963735\"/>\n     <use style=\"fill:#0000ff;stroke:#0000ff;\" x=\"305.923936\" xlink:href=\"#m6587c71a2b\" y=\"34.930687\"/>\n     <use style=\"fill:#0000ff;stroke:#0000ff;\" x=\"309.41755\" xlink:href=\"#m6587c71a2b\" y=\"34.911259\"/>\n     <use style=\"fill:#0000ff;stroke:#0000ff;\" x=\"312.911164\" xlink:href=\"#m6587c71a2b\" y=\"34.893276\"/>\n     <use style=\"fill:#0000ff;stroke:#0000ff;\" x=\"316.404778\" xlink:href=\"#m6587c71a2b\" y=\"34.877724\"/>\n     <use style=\"fill:#0000ff;stroke:#0000ff;\" x=\"319.898392\" xlink:href=\"#m6587c71a2b\" y=\"34.873833\"/>\n     <use style=\"fill:#0000ff;stroke:#0000ff;\" x=\"323.392006\" xlink:href=\"#m6587c71a2b\" y=\"34.851973\"/>\n     <use style=\"fill:#0000ff;stroke:#0000ff;\" x=\"326.885619\" xlink:href=\"#m6587c71a2b\" y=\"34.852946\"/>\n     <use style=\"fill:#0000ff;stroke:#0000ff;\" x=\"330.379233\" xlink:href=\"#m6587c71a2b\" y=\"34.838854\"/>\n     <use style=\"fill:#0000ff;stroke:#0000ff;\" x=\"333.872847\" xlink:href=\"#m6587c71a2b\" y=\"34.819898\"/>\n     <use style=\"fill:#0000ff;stroke:#0000ff;\" x=\"337.366461\" xlink:href=\"#m6587c71a2b\" y=\"34.80047\"/>\n     <use style=\"fill:#0000ff;stroke:#0000ff;\" x=\"340.860075\" xlink:href=\"#m6587c71a2b\" y=\"34.789768\"/>\n     <use style=\"fill:#0000ff;stroke:#0000ff;\" x=\"344.353688\" xlink:href=\"#m6587c71a2b\" y=\"34.782487\"/>\n     <use style=\"fill:#0000ff;stroke:#0000ff;\" x=\"347.847302\" xlink:href=\"#m6587c71a2b\" y=\"34.773746\"/>\n     <use style=\"fill:#0000ff;stroke:#0000ff;\" x=\"351.340916\" xlink:href=\"#m6587c71a2b\" y=\"34.766449\"/>\n     <use style=\"fill:#0000ff;stroke:#0000ff;\" x=\"354.83453\" xlink:href=\"#m6587c71a2b\" y=\"34.755276\"/>\n     <use style=\"fill:#0000ff;stroke:#0000ff;\" x=\"358.328144\" xlink:href=\"#m6587c71a2b\" y=\"34.740211\"/>\n     <use style=\"fill:#0000ff;stroke:#0000ff;\" x=\"361.821758\" xlink:href=\"#m6587c71a2b\" y=\"34.735833\"/>\n     <use style=\"fill:#0000ff;stroke:#0000ff;\" x=\"365.315371\" xlink:href=\"#m6587c71a2b\" y=\"34.727579\"/>\n     <use style=\"fill:#0000ff;stroke:#0000ff;\" x=\"368.808985\" xlink:href=\"#m6587c71a2b\" y=\"34.732915\"/>\n     <use style=\"fill:#0000ff;stroke:#0000ff;\" x=\"372.302599\" xlink:href=\"#m6587c71a2b\" y=\"34.717378\"/>\n     <use style=\"fill:#0000ff;stroke:#0000ff;\" x=\"375.796213\" xlink:href=\"#m6587c71a2b\" y=\"34.703286\"/>\n     <use style=\"fill:#0000ff;stroke:#0000ff;\" x=\"379.289827\" xlink:href=\"#m6587c71a2b\" y=\"34.703773\"/>\n     <use style=\"fill:#0000ff;stroke:#0000ff;\" x=\"382.783441\" xlink:href=\"#m6587c71a2b\" y=\"34.693558\"/>\n     <use style=\"fill:#0000ff;stroke:#0000ff;\" x=\"386.277054\" xlink:href=\"#m6587c71a2b\" y=\"34.68433\"/>\n     <use style=\"fill:#0000ff;stroke:#0000ff;\" x=\"389.770668\" xlink:href=\"#m6587c71a2b\" y=\"34.677034\"/>\n     <use style=\"fill:#0000ff;stroke:#0000ff;\" x=\"393.264282\" xlink:href=\"#m6587c71a2b\" y=\"34.67267\"/>\n    </g>\n   </g>\n   <g id=\"line2d_14\">\n    <path clip-path=\"url(#pfa82ca04a4)\" d=\"M 47.396513 58.311091 \nL 50.890127 58.285855 \nL 54.383741 58.26062 \nL 57.877355 58.250906 \nL 61.370969 58.252851 \nL 64.864583 58.237315 \nL 68.358196 58.095571 \nL 71.85181 57.660655 \nL 75.345424 56.89178 \nL 78.839038 56.449095 \nL 82.332652 56.482099 \nL 85.826265 55.940389 \nL 89.319879 55.614198 \nL 92.813493 55.282184 \nL 96.307107 55.101614 \nL 99.800721 54.790945 \nL 103.294335 54.581263 \nL 106.787948 54.622035 \nL 110.281562 54.276416 \nL 113.775176 54.093915 \nL 117.26879 53.930812 \nL 120.762404 53.464823 \nL 124.256018 53.492004 \nL 127.749631 53.525023 \nL 131.243245 52.96583 \nL 134.736859 52.930881 \nL 138.230473 52.612458 \nL 141.724087 51.674658 \nL 145.217701 50.936855 \nL 148.711314 50.389307 \nL 152.204928 49.096204 \nL 155.698542 47.655519 \nL 159.192156 47.142936 \nL 162.68577 46.774027 \nL 166.179383 45.913894 \nL 169.672997 45.261512 \nL 173.166611 44.205272 \nL 176.660225 43.343194 \nL 180.153839 43.504351 \nL 183.647453 41.954941 \nL 187.141066 41.360813 \nL 190.63468 40.706486 \nL 194.128294 40.325932 \nL 197.621908 39.780345 \nL 201.115522 39.582293 \nL 204.609136 39.21533 \nL 208.102749 38.803703 \nL 211.596363 38.592075 \nL 215.089977 38.382378 \nL 218.583591 38.223167 \nL 222.077205 38.29112 \nL 225.570818 38.060064 \nL 229.064432 37.966875 \nL 232.558046 37.87174 \nL 236.05166 37.825131 \nL 239.545274 37.597966 \nL 243.038888 37.55914 \nL 246.532501 37.553303 \nL 250.026115 37.471759 \nL 253.519729 37.516422 \nL 257.013343 37.493118 \nL 260.506957 37.432933 \nL 264.000571 37.432933 \nL 267.494184 37.405751 \nL 270.987798 37.302848 \nL 274.481412 37.264007 \nL 277.975026 37.28342 \nL 281.46864 37.355265 \nL 284.962253 37.339729 \nL 288.455867 37.297011 \nL 291.949481 37.281489 \nL 295.443095 37.285366 \nL 298.936709 37.252362 \nL 302.430323 37.223235 \nL 305.923936 37.232949 \nL 309.41755 37.256239 \nL 312.911164 37.260131 \nL 316.404778 37.291189 \nL 319.898392 37.242648 \nL 323.392006 37.24654 \nL 326.885619 37.265953 \nL 330.379233 37.198 \nL 333.872847 37.205768 \nL 337.366461 37.21159 \nL 340.860075 37.170818 \nL 344.353688 37.194108 \nL 347.847302 37.196054 \nL 351.340916 37.199931 \nL 354.83453 37.232949 \nL 358.328144 37.225181 \nL 361.821758 37.188286 \nL 365.315371 37.188286 \nL 368.808985 37.192163 \nL 372.302599 37.176641 \nL 375.796213 37.182463 \nL 379.289827 37.188286 \nL 382.783441 37.170818 \nL 386.277054 37.184409 \nL 389.770668 37.194108 \nL 393.264282 37.18634 \n\" style=\"fill:none;stroke:#0000ff;stroke-linecap:square;stroke-width:1.5;\"/>\n   </g>\n   <g id=\"line2d_15\">\n    <defs>\n     <path d=\"M 0 3 \nC 0.795609 3 1.55874 2.683901 2.12132 2.12132 \nC 2.683901 1.55874 3 0.795609 3 0 \nC 3 -0.795609 2.683901 -1.55874 2.12132 -2.12132 \nC 1.55874 -2.683901 0.795609 -3 0 -3 \nC -0.795609 -3 -1.55874 -2.683901 -2.12132 -2.12132 \nC -2.683901 -1.55874 -3 -0.795609 -3 0 \nC -3 0.795609 -2.683901 1.55874 -2.12132 2.12132 \nC -1.55874 2.683901 -0.795609 3 0 3 \nz\n\" id=\"m66dd141443\" style=\"stroke:#008000;\"/>\n    </defs>\n    <g clip-path=\"url(#pfa82ca04a4)\">\n     <use style=\"fill:#008000;stroke:#008000;\" x=\"47.396513\" xlink:href=\"#m66dd141443\" y=\"281.300647\"/>\n     <use style=\"fill:#008000;stroke:#008000;\" x=\"50.890127\" xlink:href=\"#m66dd141443\" y=\"268.066205\"/>\n     <use style=\"fill:#008000;stroke:#008000;\" x=\"54.383741\" xlink:href=\"#m66dd141443\" y=\"260.408976\"/>\n     <use style=\"fill:#008000;stroke:#008000;\" x=\"57.877355\" xlink:href=\"#m66dd141443\" y=\"261.59087\"/>\n     <use style=\"fill:#008000;stroke:#008000;\" x=\"61.370969\" xlink:href=\"#m66dd141443\" y=\"259.142512\"/>\n     <use style=\"fill:#008000;stroke:#008000;\" x=\"64.864583\" xlink:href=\"#m66dd141443\" y=\"259.702814\"/>\n     <use style=\"fill:#008000;stroke:#008000;\" x=\"68.358196\" xlink:href=\"#m66dd141443\" y=\"256.726371\"/>\n     <use style=\"fill:#008000;stroke:#008000;\" x=\"71.85181\" xlink:href=\"#m66dd141443\" y=\"252.798337\"/>\n     <use style=\"fill:#008000;stroke:#008000;\" x=\"75.345424\" xlink:href=\"#m66dd141443\" y=\"250.46214\"/>\n     <use style=\"fill:#008000;stroke:#008000;\" x=\"78.839038\" xlink:href=\"#m66dd141443\" y=\"249.514106\"/>\n     <use style=\"fill:#008000;stroke:#008000;\" x=\"82.332652\" xlink:href=\"#m66dd141443\" y=\"248.963179\"/>\n     <use style=\"fill:#008000;stroke:#008000;\" x=\"85.826265\" xlink:href=\"#m66dd141443\" y=\"248.436522\"/>\n     <use style=\"fill:#008000;stroke:#008000;\" x=\"89.319879\" xlink:href=\"#m66dd141443\" y=\"248.154995\"/>\n     <use style=\"fill:#008000;stroke:#008000;\" x=\"92.813493\" xlink:href=\"#m66dd141443\" y=\"246.518156\"/>\n     <use style=\"fill:#008000;stroke:#008000;\" x=\"96.307107\" xlink:href=\"#m66dd141443\" y=\"242.823778\"/>\n     <use style=\"fill:#008000;stroke:#008000;\" x=\"99.800721\" xlink:href=\"#m66dd141443\" y=\"240.666385\"/>\n     <use style=\"fill:#008000;stroke:#008000;\" x=\"103.294335\" xlink:href=\"#m66dd141443\" y=\"239.313037\"/>\n     <use style=\"fill:#008000;stroke:#008000;\" x=\"106.787948\" xlink:href=\"#m66dd141443\" y=\"238.7062\"/>\n     <use style=\"fill:#008000;stroke:#008000;\" x=\"110.281562\" xlink:href=\"#m66dd141443\" y=\"237.335635\"/>\n     <use style=\"fill:#008000;stroke:#008000;\" x=\"113.775176\" xlink:href=\"#m66dd141443\" y=\"233.733069\"/>\n     <use style=\"fill:#008000;stroke:#008000;\" x=\"117.26879\" xlink:href=\"#m66dd141443\" y=\"232.167838\"/>\n     <use style=\"fill:#008000;stroke:#008000;\" x=\"120.762404\" xlink:href=\"#m66dd141443\" y=\"230.069233\"/>\n     <use style=\"fill:#008000;stroke:#008000;\" x=\"124.256018\" xlink:href=\"#m66dd141443\" y=\"227.888495\"/>\n     <use style=\"fill:#008000;stroke:#008000;\" x=\"127.749631\" xlink:href=\"#m66dd141443\" y=\"226.483294\"/>\n     <use style=\"fill:#008000;stroke:#008000;\" x=\"131.243245\" xlink:href=\"#m66dd141443\" y=\"223.298213\"/>\n     <use style=\"fill:#008000;stroke:#008000;\" x=\"134.736859\" xlink:href=\"#m66dd141443\" y=\"219.49169\"/>\n     <use style=\"fill:#008000;stroke:#008000;\" x=\"138.230473\" xlink:href=\"#m66dd141443\" y=\"216.110605\"/>\n     <use style=\"fill:#008000;stroke:#008000;\" x=\"141.724087\" xlink:href=\"#m66dd141443\" y=\"209.176209\"/>\n     <use style=\"fill:#008000;stroke:#008000;\" x=\"145.217701\" xlink:href=\"#m66dd141443\" y=\"201.20775\"/>\n     <use style=\"fill:#008000;stroke:#008000;\" x=\"148.711314\" xlink:href=\"#m66dd141443\" y=\"192.03396\"/>\n     <use style=\"fill:#008000;stroke:#008000;\" x=\"152.204928\" xlink:href=\"#m66dd141443\" y=\"181.45293\"/>\n     <use style=\"fill:#008000;stroke:#008000;\" x=\"155.698542\" xlink:href=\"#m66dd141443\" y=\"171.483437\"/>\n     <use style=\"fill:#008000;stroke:#008000;\" x=\"159.192156\" xlink:href=\"#m66dd141443\" y=\"162.162552\"/>\n     <use style=\"fill:#008000;stroke:#008000;\" x=\"162.68577\" xlink:href=\"#m66dd141443\" y=\"153.083048\"/>\n     <use style=\"fill:#008000;stroke:#008000;\" x=\"166.179383\" xlink:href=\"#m66dd141443\" y=\"143.643355\"/>\n     <use style=\"fill:#008000;stroke:#008000;\" x=\"169.672997\" xlink:href=\"#m66dd141443\" y=\"134.520198\"/>\n     <use style=\"fill:#008000;stroke:#008000;\" x=\"173.166611\" xlink:href=\"#m66dd141443\" y=\"124.920011\"/>\n     <use style=\"fill:#008000;stroke:#008000;\" x=\"176.660225\" xlink:href=\"#m66dd141443\" y=\"116.632532\"/>\n     <use style=\"fill:#008000;stroke:#008000;\" x=\"180.153839\" xlink:href=\"#m66dd141443\" y=\"107.159688\"/>\n     <use style=\"fill:#008000;stroke:#008000;\" x=\"183.647453\" xlink:href=\"#m66dd141443\" y=\"99.445376\"/>\n     <use style=\"fill:#008000;stroke:#008000;\" x=\"187.141066\" xlink:href=\"#m66dd141443\" y=\"90.945282\"/>\n     <use style=\"fill:#008000;stroke:#008000;\" x=\"190.63468\" xlink:href=\"#m66dd141443\" y=\"84.613356\"/>\n     <use style=\"fill:#008000;stroke:#008000;\" x=\"194.128294\" xlink:href=\"#m66dd141443\" y=\"78.301138\"/>\n     <use style=\"fill:#008000;stroke:#008000;\" x=\"197.621908\" xlink:href=\"#m66dd141443\" y=\"72.699822\"/>\n     <use style=\"fill:#008000;stroke:#008000;\" x=\"201.115522\" xlink:href=\"#m66dd141443\" y=\"67.629588\"/>\n     <use style=\"fill:#008000;stroke:#008000;\" x=\"204.609136\" xlink:href=\"#m66dd141443\" y=\"64.208439\"/>\n     <use style=\"fill:#008000;stroke:#008000;\" x=\"208.102749\" xlink:href=\"#m66dd141443\" y=\"60.794646\"/>\n     <use style=\"fill:#008000;stroke:#008000;\" x=\"211.596363\" xlink:href=\"#m66dd141443\" y=\"57.820913\"/>\n     <use style=\"fill:#008000;stroke:#008000;\" x=\"215.089977\" xlink:href=\"#m66dd141443\" y=\"55.731281\"/>\n     <use style=\"fill:#008000;stroke:#008000;\" x=\"218.583591\" xlink:href=\"#m66dd141443\" y=\"53.945302\"/>\n     <use style=\"fill:#008000;stroke:#008000;\" x=\"222.077205\" xlink:href=\"#m66dd141443\" y=\"52.524723\"/>\n     <use style=\"fill:#008000;stroke:#008000;\" x=\"225.570818\" xlink:href=\"#m66dd141443\" y=\"51.245947\"/>\n     <use style=\"fill:#008000;stroke:#008000;\" x=\"229.064432\" xlink:href=\"#m66dd141443\" y=\"50.083296\"/>\n     <use style=\"fill:#008000;stroke:#008000;\" x=\"232.558046\" xlink:href=\"#m66dd141443\" y=\"49.018979\"/>\n     <use style=\"fill:#008000;stroke:#008000;\" x=\"236.05166\" xlink:href=\"#m66dd141443\" y=\"48.080736\"/>\n     <use style=\"fill:#008000;stroke:#008000;\" x=\"239.545274\" xlink:href=\"#m66dd141443\" y=\"46.547216\"/>\n     <use style=\"fill:#008000;stroke:#008000;\" x=\"243.038888\" xlink:href=\"#m66dd141443\" y=\"45.266436\"/>\n     <use style=\"fill:#008000;stroke:#008000;\" x=\"246.532501\" xlink:href=\"#m66dd141443\" y=\"44.656713\"/>\n     <use style=\"fill:#008000;stroke:#008000;\" x=\"250.026115\" xlink:href=\"#m66dd141443\" y=\"43.96235\"/>\n     <use style=\"fill:#008000;stroke:#008000;\" x=\"253.519729\" xlink:href=\"#m66dd141443\" y=\"43.441394\"/>\n     <use style=\"fill:#008000;stroke:#008000;\" x=\"257.013343\" xlink:href=\"#m66dd141443\" y=\"43.007539\"/>\n     <use style=\"fill:#008000;stroke:#008000;\" x=\"260.506957\" xlink:href=\"#m66dd141443\" y=\"42.767035\"/>\n     <use style=\"fill:#008000;stroke:#008000;\" x=\"264.000571\" xlink:href=\"#m66dd141443\" y=\"42.388073\"/>\n     <use style=\"fill:#008000;stroke:#008000;\" x=\"267.494184\" xlink:href=\"#m66dd141443\" y=\"41.984672\"/>\n     <use style=\"fill:#008000;stroke:#008000;\" x=\"270.987798\" xlink:href=\"#m66dd141443\" y=\"41.632789\"/>\n     <use style=\"fill:#008000;stroke:#008000;\" x=\"274.481412\" xlink:href=\"#m66dd141443\" y=\"41.497855\"/>\n     <use style=\"fill:#008000;stroke:#008000;\" x=\"277.975026\" xlink:href=\"#m66dd141443\" y=\"41.201248\"/>\n     <use style=\"fill:#008000;stroke:#008000;\" x=\"281.46864\" xlink:href=\"#m66dd141443\" y=\"40.859226\"/>\n     <use style=\"fill:#008000;stroke:#008000;\" x=\"284.962253\" xlink:href=\"#m66dd141443\" y=\"40.690831\"/>\n     <use style=\"fill:#008000;stroke:#008000;\" x=\"288.455867\" xlink:href=\"#m66dd141443\" y=\"40.418664\"/>\n     <use style=\"fill:#008000;stroke:#008000;\" x=\"291.949481\" xlink:href=\"#m66dd141443\" y=\"40.190482\"/>\n     <use style=\"fill:#008000;stroke:#008000;\" x=\"295.443095\" xlink:href=\"#m66dd141443\" y=\"40.015248\"/>\n     <use style=\"fill:#008000;stroke:#008000;\" x=\"298.936709\" xlink:href=\"#m66dd141443\" y=\"39.942593\"/>\n     <use style=\"fill:#008000;stroke:#008000;\" x=\"302.430323\" xlink:href=\"#m66dd141443\" y=\"39.748874\"/>\n     <use style=\"fill:#008000;stroke:#008000;\" x=\"305.923936\" xlink:href=\"#m66dd141443\" y=\"39.371799\"/>\n     <use style=\"fill:#008000;stroke:#008000;\" x=\"309.41755\" xlink:href=\"#m66dd141443\" y=\"39.243366\"/>\n     <use style=\"fill:#008000;stroke:#008000;\" x=\"312.911164\" xlink:href=\"#m66dd141443\" y=\"39.028303\"/>\n     <use style=\"fill:#008000;stroke:#008000;\" x=\"316.404778\" xlink:href=\"#m66dd141443\" y=\"38.834025\"/>\n     <use style=\"fill:#008000;stroke:#008000;\" x=\"319.898392\" xlink:href=\"#m66dd141443\" y=\"38.801566\"/>\n     <use style=\"fill:#008000;stroke:#008000;\" x=\"323.392006\" xlink:href=\"#m66dd141443\" y=\"38.572986\"/>\n     <use style=\"fill:#008000;stroke:#008000;\" x=\"326.885619\" xlink:href=\"#m66dd141443\" y=\"38.60571\"/>\n     <use style=\"fill:#008000;stroke:#008000;\" x=\"330.379233\" xlink:href=\"#m66dd141443\" y=\"38.448577\"/>\n     <use style=\"fill:#008000;stroke:#008000;\" x=\"333.872847\" xlink:href=\"#m66dd141443\" y=\"38.263128\"/>\n     <use style=\"fill:#008000;stroke:#008000;\" x=\"337.366461\" xlink:href=\"#m66dd141443\" y=\"38.031099\"/>\n     <use style=\"fill:#008000;stroke:#008000;\" x=\"340.860075\" xlink:href=\"#m66dd141443\" y=\"37.948567\"/>\n     <use style=\"fill:#008000;stroke:#008000;\" x=\"344.353688\" xlink:href=\"#m66dd141443\" y=\"37.861776\"/>\n     <use style=\"fill:#008000;stroke:#008000;\" x=\"347.847302\" xlink:href=\"#m66dd141443\" y=\"37.776606\"/>\n     <use style=\"fill:#008000;stroke:#008000;\" x=\"351.340916\" xlink:href=\"#m66dd141443\" y=\"37.69658\"/>\n     <use style=\"fill:#008000;stroke:#008000;\" x=\"354.83453\" xlink:href=\"#m66dd141443\" y=\"37.556325\"/>\n     <use style=\"fill:#008000;stroke:#008000;\" x=\"358.328144\" xlink:href=\"#m66dd141443\" y=\"37.39533\"/>\n     <use style=\"fill:#008000;stroke:#008000;\" x=\"361.821758\" xlink:href=\"#m66dd141443\" y=\"37.376049\"/>\n     <use style=\"fill:#008000;stroke:#008000;\" x=\"365.315371\" xlink:href=\"#m66dd141443\" y=\"37.295345\"/>\n     <use style=\"fill:#008000;stroke:#008000;\" x=\"368.808985\" xlink:href=\"#m66dd141443\" y=\"37.353025\"/>\n     <use style=\"fill:#008000;stroke:#008000;\" x=\"372.302599\" xlink:href=\"#m66dd141443\" y=\"37.171777\"/>\n     <use style=\"fill:#008000;stroke:#008000;\" x=\"375.796213\" xlink:href=\"#m66dd141443\" y=\"37.018461\"/>\n     <use style=\"fill:#008000;stroke:#008000;\" x=\"379.289827\" xlink:href=\"#m66dd141443\" y=\"37.033659\"/>\n     <use style=\"fill:#008000;stroke:#008000;\" x=\"382.783441\" xlink:href=\"#m66dd141443\" y=\"36.941959\"/>\n     <use style=\"fill:#008000;stroke:#008000;\" x=\"386.277054\" xlink:href=\"#m66dd141443\" y=\"36.8252\"/>\n     <use style=\"fill:#008000;stroke:#008000;\" x=\"389.770668\" xlink:href=\"#m66dd141443\" y=\"36.728311\"/>\n     <use style=\"fill:#008000;stroke:#008000;\" x=\"393.264282\" xlink:href=\"#m66dd141443\" y=\"36.705537\"/>\n    </g>\n   </g>\n   <g id=\"line2d_16\">\n    <path clip-path=\"url(#pfa82ca04a4)\" d=\"M 47.396513 281.76358 \nL 50.890127 255.976059 \nL 54.383741 255.426177 \nL 57.877355 257.078984 \nL 61.370969 259.145482 \nL 64.864583 257.831353 \nL 68.358196 251.171129 \nL 71.85181 249.307796 \nL 75.345424 247.650932 \nL 78.839038 248.482262 \nL 82.332652 248.142532 \nL 85.826265 245.868833 \nL 89.319879 244.626009 \nL 92.813493 242.396841 \nL 96.307107 241.105134 \nL 99.800721 239.243492 \nL 103.294335 237.898749 \nL 106.787948 237.714667 \nL 110.281562 235.004813 \nL 113.775176 233.593292 \nL 117.26879 232.510597 \nL 120.762404 229.379433 \nL 124.256018 229.966441 \nL 127.749631 230.010559 \nL 131.243245 224.893686 \nL 134.736859 224.430225 \nL 138.230473 221.095043 \nL 141.724087 211.536402 \nL 145.217701 203.800886 \nL 148.711314 198.102688 \nL 152.204928 184.710092 \nL 155.698542 169.892518 \nL 159.192156 164.481603 \nL 162.68577 160.574028 \nL 166.179383 151.646535 \nL 169.672997 144.944625 \nL 173.166611 134.319669 \nL 176.660225 125.660231 \nL 180.153839 126.099245 \nL 183.647453 111.253103 \nL 187.141066 105.035519 \nL 190.63468 98.116925 \nL 194.128294 94.172594 \nL 197.621908 88.700094 \nL 201.115522 86.475926 \nL 204.609136 82.720302 \nL 208.102749 78.490789 \nL 211.596363 76.389866 \nL 215.089977 74.225736 \nL 218.583591 72.623953 \nL 222.077205 72.928991 \nL 225.570818 70.714906 \nL 229.064432 69.797713 \nL 232.558046 69.070862 \nL 236.05166 68.41002 \nL 239.545274 66.342941 \nL 243.038888 65.848473 \nL 246.532501 65.797324 \nL 250.026115 65.113486 \nL 253.519729 65.48549 \nL 257.013343 65.127416 \nL 260.506957 64.728098 \nL 264.000571 64.697954 \nL 267.494184 64.442561 \nL 270.987798 63.411749 \nL 274.481412 63.089228 \nL 277.975026 63.251845 \nL 281.46864 63.813661 \nL 284.962253 63.69534 \nL 288.455867 63.275076 \nL 291.949481 63.09937 \nL 295.443095 63.135218 \nL 298.936709 62.927408 \nL 302.430323 62.675892 \nL 305.923936 62.724875 \nL 309.41755 62.89433 \nL 312.911164 62.853028 \nL 316.404778 63.256901 \nL 319.898392 62.736343 \nL 323.392006 62.770968 \nL 326.885619 62.984041 \nL 330.379233 62.493199 \nL 333.872847 62.452796 \nL 337.366461 62.580846 \nL 340.860075 62.207604 \nL 344.353688 62.443362 \nL 347.847302 62.444187 \nL 351.340916 62.426027 \nL 354.83453 62.772309 \nL 358.328144 62.682245 \nL 361.821758 62.360167 \nL 365.315371 62.391284 \nL 368.808985 62.393023 \nL 372.302599 62.250174 \nL 375.796213 62.284814 \nL 379.289827 62.411375 \nL 382.783441 62.156911 \nL 386.277054 62.313292 \nL 389.770668 62.483353 \nL 393.264282 62.436242 \n\" style=\"fill:none;stroke:#008000;stroke-linecap:square;stroke-width:1.5;\"/>\n   </g>\n   <g id=\"patch_3\">\n    <path d=\"M 30.103125 294.118125 \nL 30.103125 22.318125 \n\" style=\"fill:none;stroke:#000000;stroke-linecap:square;stroke-linejoin:miter;stroke-width:0.8;\"/>\n   </g>\n   <g id=\"patch_4\">\n    <path d=\"M 410.55767 294.118125 \nL 410.55767 22.318125 \n\" style=\"fill:none;stroke:#000000;stroke-linecap:square;stroke-linejoin:miter;stroke-width:0.8;\"/>\n   </g>\n   <g id=\"patch_5\">\n    <path d=\"M 30.103125 294.118125 \nL 410.55767 294.118125 \n\" style=\"fill:none;stroke:#000000;stroke-linecap:square;stroke-linejoin:miter;stroke-width:0.8;\"/>\n   </g>\n   <g id=\"patch_6\">\n    <path d=\"M 30.103125 22.318125 \nL 410.55767 22.318125 \n\" style=\"fill:none;stroke:#000000;stroke-linecap:square;stroke-linejoin:miter;stroke-width:0.8;\"/>\n   </g>\n   <g id=\"text_13\">\n    <!-- Training and validation accuracy -->\n    <defs>\n     <path d=\"M -0.296875 72.90625 \nL 61.375 72.90625 \nL 61.375 64.59375 \nL 35.5 64.59375 \nL 35.5 0 \nL 25.59375 0 \nL 25.59375 64.59375 \nL -0.296875 64.59375 \nz\n\" id=\"DejaVuSans-84\"/>\n     <path d=\"M 41.109375 46.296875 \nQ 39.59375 47.171875 37.8125 47.578125 \nQ 36.03125 48 33.890625 48 \nQ 26.265625 48 22.1875 43.046875 \nQ 18.109375 38.09375 18.109375 28.8125 \nL 18.109375 0 \nL 9.078125 0 \nL 9.078125 54.6875 \nL 18.109375 54.6875 \nL 18.109375 46.1875 \nQ 20.953125 51.171875 25.484375 53.578125 \nQ 30.03125 56 36.53125 56 \nQ 37.453125 56 38.578125 55.875 \nQ 39.703125 55.765625 41.0625 55.515625 \nz\n\" id=\"DejaVuSans-114\"/>\n     <path d=\"M 34.28125 27.484375 \nQ 23.390625 27.484375 19.1875 25 \nQ 14.984375 22.515625 14.984375 16.5 \nQ 14.984375 11.71875 18.140625 8.90625 \nQ 21.296875 6.109375 26.703125 6.109375 \nQ 34.1875 6.109375 38.703125 11.40625 \nQ 43.21875 16.703125 43.21875 25.484375 \nL 43.21875 27.484375 \nz\nM 52.203125 31.203125 \nL 52.203125 0 \nL 43.21875 0 \nL 43.21875 8.296875 \nQ 40.140625 3.328125 35.546875 0.953125 \nQ 30.953125 -1.421875 24.3125 -1.421875 \nQ 15.921875 -1.421875 10.953125 3.296875 \nQ 6 8.015625 6 15.921875 \nQ 6 25.140625 12.171875 29.828125 \nQ 18.359375 34.515625 30.609375 34.515625 \nL 43.21875 34.515625 \nL 43.21875 35.40625 \nQ 43.21875 41.609375 39.140625 45 \nQ 35.0625 48.390625 27.6875 48.390625 \nQ 23 48.390625 18.546875 47.265625 \nQ 14.109375 46.140625 10.015625 43.890625 \nL 10.015625 52.203125 \nQ 14.9375 54.109375 19.578125 55.046875 \nQ 24.21875 56 28.609375 56 \nQ 40.484375 56 46.34375 49.84375 \nQ 52.203125 43.703125 52.203125 31.203125 \nz\n\" id=\"DejaVuSans-97\"/>\n     <path d=\"M 9.421875 54.6875 \nL 18.40625 54.6875 \nL 18.40625 0 \nL 9.421875 0 \nz\nM 9.421875 75.984375 \nL 18.40625 75.984375 \nL 18.40625 64.59375 \nL 9.421875 64.59375 \nz\n\" id=\"DejaVuSans-105\"/>\n     <path d=\"M 54.890625 33.015625 \nL 54.890625 0 \nL 45.90625 0 \nL 45.90625 32.71875 \nQ 45.90625 40.484375 42.875 44.328125 \nQ 39.84375 48.1875 33.796875 48.1875 \nQ 26.515625 48.1875 22.3125 43.546875 \nQ 18.109375 38.921875 18.109375 30.90625 \nL 18.109375 0 \nL 9.078125 0 \nL 9.078125 54.6875 \nL 18.109375 54.6875 \nL 18.109375 46.1875 \nQ 21.34375 51.125 25.703125 53.5625 \nQ 30.078125 56 35.796875 56 \nQ 45.21875 56 50.046875 50.171875 \nQ 54.890625 44.34375 54.890625 33.015625 \nz\n\" id=\"DejaVuSans-110\"/>\n     <path d=\"M 45.40625 27.984375 \nQ 45.40625 37.75 41.375 43.109375 \nQ 37.359375 48.484375 30.078125 48.484375 \nQ 22.859375 48.484375 18.828125 43.109375 \nQ 14.796875 37.75 14.796875 27.984375 \nQ 14.796875 18.265625 18.828125 12.890625 \nQ 22.859375 7.515625 30.078125 7.515625 \nQ 37.359375 7.515625 41.375 12.890625 \nQ 45.40625 18.265625 45.40625 27.984375 \nz\nM 54.390625 6.78125 \nQ 54.390625 -7.171875 48.1875 -13.984375 \nQ 42 -20.796875 29.203125 -20.796875 \nQ 24.46875 -20.796875 20.265625 -20.09375 \nQ 16.0625 -19.390625 12.109375 -17.921875 \nL 12.109375 -9.1875 \nQ 16.0625 -11.328125 19.921875 -12.34375 \nQ 23.78125 -13.375 27.78125 -13.375 \nQ 36.625 -13.375 41.015625 -8.765625 \nQ 45.40625 -4.15625 45.40625 5.171875 \nL 45.40625 9.625 \nQ 42.625 4.78125 38.28125 2.390625 \nQ 33.9375 0 27.875 0 \nQ 17.828125 0 11.671875 7.65625 \nQ 5.515625 15.328125 5.515625 27.984375 \nQ 5.515625 40.671875 11.671875 48.328125 \nQ 17.828125 56 27.875 56 \nQ 33.9375 56 38.28125 53.609375 \nQ 42.625 51.21875 45.40625 46.390625 \nL 45.40625 54.6875 \nL 54.390625 54.6875 \nz\n\" id=\"DejaVuSans-103\"/>\n     <path id=\"DejaVuSans-32\"/>\n     <path d=\"M 45.40625 46.390625 \nL 45.40625 75.984375 \nL 54.390625 75.984375 \nL 54.390625 0 \nL 45.40625 0 \nL 45.40625 8.203125 \nQ 42.578125 3.328125 38.25 0.953125 \nQ 33.9375 -1.421875 27.875 -1.421875 \nQ 17.96875 -1.421875 11.734375 6.484375 \nQ 5.515625 14.40625 5.515625 27.296875 \nQ 5.515625 40.1875 11.734375 48.09375 \nQ 17.96875 56 27.875 56 \nQ 33.9375 56 38.25 53.625 \nQ 42.578125 51.265625 45.40625 46.390625 \nz\nM 14.796875 27.296875 \nQ 14.796875 17.390625 18.875 11.75 \nQ 22.953125 6.109375 30.078125 6.109375 \nQ 37.203125 6.109375 41.296875 11.75 \nQ 45.40625 17.390625 45.40625 27.296875 \nQ 45.40625 37.203125 41.296875 42.84375 \nQ 37.203125 48.484375 30.078125 48.484375 \nQ 22.953125 48.484375 18.875 42.84375 \nQ 14.796875 37.203125 14.796875 27.296875 \nz\n\" id=\"DejaVuSans-100\"/>\n     <path d=\"M 2.984375 54.6875 \nL 12.5 54.6875 \nL 29.59375 8.796875 \nL 46.6875 54.6875 \nL 56.203125 54.6875 \nL 35.6875 0 \nL 23.484375 0 \nz\n\" id=\"DejaVuSans-118\"/>\n     <path d=\"M 9.421875 75.984375 \nL 18.40625 75.984375 \nL 18.40625 0 \nL 9.421875 0 \nz\n\" id=\"DejaVuSans-108\"/>\n     <path d=\"M 18.3125 70.21875 \nL 18.3125 54.6875 \nL 36.8125 54.6875 \nL 36.8125 47.703125 \nL 18.3125 47.703125 \nL 18.3125 18.015625 \nQ 18.3125 11.328125 20.140625 9.421875 \nQ 21.96875 7.515625 27.59375 7.515625 \nL 36.8125 7.515625 \nL 36.8125 0 \nL 27.59375 0 \nQ 17.1875 0 13.234375 3.875 \nQ 9.28125 7.765625 9.28125 18.015625 \nL 9.28125 47.703125 \nL 2.6875 47.703125 \nL 2.6875 54.6875 \nL 9.28125 54.6875 \nL 9.28125 70.21875 \nz\n\" id=\"DejaVuSans-116\"/>\n     <path d=\"M 30.609375 48.390625 \nQ 23.390625 48.390625 19.1875 42.75 \nQ 14.984375 37.109375 14.984375 27.296875 \nQ 14.984375 17.484375 19.15625 11.84375 \nQ 23.34375 6.203125 30.609375 6.203125 \nQ 37.796875 6.203125 41.984375 11.859375 \nQ 46.1875 17.53125 46.1875 27.296875 \nQ 46.1875 37.015625 41.984375 42.703125 \nQ 37.796875 48.390625 30.609375 48.390625 \nz\nM 30.609375 56 \nQ 42.328125 56 49.015625 48.375 \nQ 55.71875 40.765625 55.71875 27.296875 \nQ 55.71875 13.875 49.015625 6.21875 \nQ 42.328125 -1.421875 30.609375 -1.421875 \nQ 18.84375 -1.421875 12.171875 6.21875 \nQ 5.515625 13.875 5.515625 27.296875 \nQ 5.515625 40.765625 12.171875 48.375 \nQ 18.84375 56 30.609375 56 \nz\n\" id=\"DejaVuSans-111\"/>\n     <path d=\"M 48.78125 52.59375 \nL 48.78125 44.1875 \nQ 44.96875 46.296875 41.140625 47.34375 \nQ 37.3125 48.390625 33.40625 48.390625 \nQ 24.65625 48.390625 19.8125 42.84375 \nQ 14.984375 37.3125 14.984375 27.296875 \nQ 14.984375 17.28125 19.8125 11.734375 \nQ 24.65625 6.203125 33.40625 6.203125 \nQ 37.3125 6.203125 41.140625 7.25 \nQ 44.96875 8.296875 48.78125 10.40625 \nL 48.78125 2.09375 \nQ 45.015625 0.34375 40.984375 -0.53125 \nQ 36.96875 -1.421875 32.421875 -1.421875 \nQ 20.0625 -1.421875 12.78125 6.34375 \nQ 5.515625 14.109375 5.515625 27.296875 \nQ 5.515625 40.671875 12.859375 48.328125 \nQ 20.21875 56 33.015625 56 \nQ 37.15625 56 41.109375 55.140625 \nQ 45.0625 54.296875 48.78125 52.59375 \nz\n\" id=\"DejaVuSans-99\"/>\n     <path d=\"M 8.5 21.578125 \nL 8.5 54.6875 \nL 17.484375 54.6875 \nL 17.484375 21.921875 \nQ 17.484375 14.15625 20.5 10.265625 \nQ 23.53125 6.390625 29.59375 6.390625 \nQ 36.859375 6.390625 41.078125 11.03125 \nQ 45.3125 15.671875 45.3125 23.6875 \nL 45.3125 54.6875 \nL 54.296875 54.6875 \nL 54.296875 0 \nL 45.3125 0 \nL 45.3125 8.40625 \nQ 42.046875 3.421875 37.71875 1 \nQ 33.40625 -1.421875 27.6875 -1.421875 \nQ 18.265625 -1.421875 13.375 4.4375 \nQ 8.5 10.296875 8.5 21.578125 \nz\nM 31.109375 56 \nz\n\" id=\"DejaVuSans-117\"/>\n     <path d=\"M 32.171875 -5.078125 \nQ 28.375 -14.84375 24.75 -17.8125 \nQ 21.140625 -20.796875 15.09375 -20.796875 \nL 7.90625 -20.796875 \nL 7.90625 -13.28125 \nL 13.1875 -13.28125 \nQ 16.890625 -13.28125 18.9375 -11.515625 \nQ 21 -9.765625 23.484375 -3.21875 \nL 25.09375 0.875 \nL 2.984375 54.6875 \nL 12.5 54.6875 \nL 29.59375 11.921875 \nL 46.6875 54.6875 \nL 56.203125 54.6875 \nz\n\" id=\"DejaVuSans-121\"/>\n    </defs>\n    <g transform=\"translate(123.038523 16.318125)scale(0.12 -0.12)\">\n     <use xlink:href=\"#DejaVuSans-84\"/>\n     <use x=\"46.333984\" xlink:href=\"#DejaVuSans-114\"/>\n     <use x=\"87.447266\" xlink:href=\"#DejaVuSans-97\"/>\n     <use x=\"148.726562\" xlink:href=\"#DejaVuSans-105\"/>\n     <use x=\"176.509766\" xlink:href=\"#DejaVuSans-110\"/>\n     <use x=\"239.888672\" xlink:href=\"#DejaVuSans-105\"/>\n     <use x=\"267.671875\" xlink:href=\"#DejaVuSans-110\"/>\n     <use x=\"331.050781\" xlink:href=\"#DejaVuSans-103\"/>\n     <use x=\"394.527344\" xlink:href=\"#DejaVuSans-32\"/>\n     <use x=\"426.314453\" xlink:href=\"#DejaVuSans-97\"/>\n     <use x=\"487.59375\" xlink:href=\"#DejaVuSans-110\"/>\n     <use x=\"550.972656\" xlink:href=\"#DejaVuSans-100\"/>\n     <use x=\"614.449219\" xlink:href=\"#DejaVuSans-32\"/>\n     <use x=\"646.236328\" xlink:href=\"#DejaVuSans-118\"/>\n     <use x=\"705.416016\" xlink:href=\"#DejaVuSans-97\"/>\n     <use x=\"766.695312\" xlink:href=\"#DejaVuSans-108\"/>\n     <use x=\"794.478516\" xlink:href=\"#DejaVuSans-105\"/>\n     <use x=\"822.261719\" xlink:href=\"#DejaVuSans-100\"/>\n     <use x=\"885.738281\" xlink:href=\"#DejaVuSans-97\"/>\n     <use x=\"947.017578\" xlink:href=\"#DejaVuSans-116\"/>\n     <use x=\"986.226562\" xlink:href=\"#DejaVuSans-105\"/>\n     <use x=\"1014.009766\" xlink:href=\"#DejaVuSans-111\"/>\n     <use x=\"1075.191406\" xlink:href=\"#DejaVuSans-110\"/>\n     <use x=\"1138.570312\" xlink:href=\"#DejaVuSans-32\"/>\n     <use x=\"1170.357422\" xlink:href=\"#DejaVuSans-97\"/>\n     <use x=\"1231.636719\" xlink:href=\"#DejaVuSans-99\"/>\n     <use x=\"1286.617188\" xlink:href=\"#DejaVuSans-99\"/>\n     <use x=\"1341.597656\" xlink:href=\"#DejaVuSans-117\"/>\n     <use x=\"1404.976562\" xlink:href=\"#DejaVuSans-114\"/>\n     <use x=\"1446.089844\" xlink:href=\"#DejaVuSans-97\"/>\n     <use x=\"1507.369141\" xlink:href=\"#DejaVuSans-99\"/>\n     <use x=\"1562.349609\" xlink:href=\"#DejaVuSans-121\"/>\n    </g>\n   </g>\n   <g id=\"legend_1\">\n    <g id=\"patch_7\">\n     <path d=\"M 267.073295 289.118125 \nL 403.55767 289.118125 \nQ 405.55767 289.118125 405.55767 287.118125 \nL 405.55767 229.405625 \nQ 405.55767 227.405625 403.55767 227.405625 \nL 267.073295 227.405625 \nQ 265.073295 227.405625 265.073295 229.405625 \nL 265.073295 287.118125 \nQ 265.073295 289.118125 267.073295 289.118125 \nz\n\" style=\"fill:#ffffff;opacity:0.8;stroke:#cccccc;stroke-linejoin:miter;\"/>\n    </g>\n    <g id=\"line2d_17\"/>\n    <g id=\"line2d_18\">\n     <g>\n      <use style=\"fill:#0000ff;stroke:#0000ff;\" x=\"279.073295\" xlink:href=\"#m6587c71a2b\" y=\"235.504063\"/>\n     </g>\n    </g>\n    <g id=\"text_14\">\n     <!-- Training acc -->\n     <g transform=\"translate(297.073295 239.004063)scale(0.1 -0.1)\">\n      <use xlink:href=\"#DejaVuSans-84\"/>\n      <use x=\"46.333984\" xlink:href=\"#DejaVuSans-114\"/>\n      <use x=\"87.447266\" xlink:href=\"#DejaVuSans-97\"/>\n      <use x=\"148.726562\" xlink:href=\"#DejaVuSans-105\"/>\n      <use x=\"176.509766\" xlink:href=\"#DejaVuSans-110\"/>\n      <use x=\"239.888672\" xlink:href=\"#DejaVuSans-105\"/>\n      <use x=\"267.671875\" xlink:href=\"#DejaVuSans-110\"/>\n      <use x=\"331.050781\" xlink:href=\"#DejaVuSans-103\"/>\n      <use x=\"394.527344\" xlink:href=\"#DejaVuSans-32\"/>\n      <use x=\"426.314453\" xlink:href=\"#DejaVuSans-97\"/>\n      <use x=\"487.59375\" xlink:href=\"#DejaVuSans-99\"/>\n      <use x=\"542.574219\" xlink:href=\"#DejaVuSans-99\"/>\n     </g>\n    </g>\n    <g id=\"line2d_19\">\n     <path d=\"M 269.073295 250.182188 \nL 289.073295 250.182188 \n\" style=\"fill:none;stroke:#0000ff;stroke-linecap:square;stroke-width:1.5;\"/>\n    </g>\n    <g id=\"line2d_20\"/>\n    <g id=\"text_15\">\n     <!-- Validation acc -->\n     <defs>\n      <path d=\"M 28.609375 0 \nL 0.78125 72.90625 \nL 11.078125 72.90625 \nL 34.1875 11.53125 \nL 57.328125 72.90625 \nL 67.578125 72.90625 \nL 39.796875 0 \nz\n\" id=\"DejaVuSans-86\"/>\n     </defs>\n     <g transform=\"translate(297.073295 253.682188)scale(0.1 -0.1)\">\n      <use xlink:href=\"#DejaVuSans-86\"/>\n      <use x=\"60.658203\" xlink:href=\"#DejaVuSans-97\"/>\n      <use x=\"121.9375\" xlink:href=\"#DejaVuSans-108\"/>\n      <use x=\"149.720703\" xlink:href=\"#DejaVuSans-105\"/>\n      <use x=\"177.503906\" xlink:href=\"#DejaVuSans-100\"/>\n      <use x=\"240.980469\" xlink:href=\"#DejaVuSans-97\"/>\n      <use x=\"302.259766\" xlink:href=\"#DejaVuSans-116\"/>\n      <use x=\"341.46875\" xlink:href=\"#DejaVuSans-105\"/>\n      <use x=\"369.251953\" xlink:href=\"#DejaVuSans-111\"/>\n      <use x=\"430.433594\" xlink:href=\"#DejaVuSans-110\"/>\n      <use x=\"493.8125\" xlink:href=\"#DejaVuSans-32\"/>\n      <use x=\"525.599609\" xlink:href=\"#DejaVuSans-97\"/>\n      <use x=\"586.878906\" xlink:href=\"#DejaVuSans-99\"/>\n      <use x=\"641.859375\" xlink:href=\"#DejaVuSans-99\"/>\n     </g>\n    </g>\n    <g id=\"line2d_21\"/>\n    <g id=\"line2d_22\">\n     <g>\n      <use style=\"fill:#008000;stroke:#008000;\" x=\"279.073295\" xlink:href=\"#m66dd141443\" y=\"264.860313\"/>\n     </g>\n    </g>\n    <g id=\"text_16\">\n     <!-- Training ignore acc -->\n     <defs>\n      <path d=\"M 56.203125 29.59375 \nL 56.203125 25.203125 \nL 14.890625 25.203125 \nQ 15.484375 15.921875 20.484375 11.0625 \nQ 25.484375 6.203125 34.421875 6.203125 \nQ 39.59375 6.203125 44.453125 7.46875 \nQ 49.3125 8.734375 54.109375 11.28125 \nL 54.109375 2.78125 \nQ 49.265625 0.734375 44.1875 -0.34375 \nQ 39.109375 -1.421875 33.890625 -1.421875 \nQ 20.796875 -1.421875 13.15625 6.1875 \nQ 5.515625 13.8125 5.515625 26.8125 \nQ 5.515625 40.234375 12.765625 48.109375 \nQ 20.015625 56 32.328125 56 \nQ 43.359375 56 49.78125 48.890625 \nQ 56.203125 41.796875 56.203125 29.59375 \nz\nM 47.21875 32.234375 \nQ 47.125 39.59375 43.09375 43.984375 \nQ 39.0625 48.390625 32.421875 48.390625 \nQ 24.90625 48.390625 20.390625 44.140625 \nQ 15.875 39.890625 15.1875 32.171875 \nz\n\" id=\"DejaVuSans-101\"/>\n     </defs>\n     <g transform=\"translate(297.073295 268.360313)scale(0.1 -0.1)\">\n      <use xlink:href=\"#DejaVuSans-84\"/>\n      <use x=\"46.333984\" xlink:href=\"#DejaVuSans-114\"/>\n      <use x=\"87.447266\" xlink:href=\"#DejaVuSans-97\"/>\n      <use x=\"148.726562\" xlink:href=\"#DejaVuSans-105\"/>\n      <use x=\"176.509766\" xlink:href=\"#DejaVuSans-110\"/>\n      <use x=\"239.888672\" xlink:href=\"#DejaVuSans-105\"/>\n      <use x=\"267.671875\" xlink:href=\"#DejaVuSans-110\"/>\n      <use x=\"331.050781\" xlink:href=\"#DejaVuSans-103\"/>\n      <use x=\"394.527344\" xlink:href=\"#DejaVuSans-32\"/>\n      <use x=\"426.314453\" xlink:href=\"#DejaVuSans-105\"/>\n      <use x=\"454.097656\" xlink:href=\"#DejaVuSans-103\"/>\n      <use x=\"517.574219\" xlink:href=\"#DejaVuSans-110\"/>\n      <use x=\"580.953125\" xlink:href=\"#DejaVuSans-111\"/>\n      <use x=\"642.134766\" xlink:href=\"#DejaVuSans-114\"/>\n      <use x=\"680.998047\" xlink:href=\"#DejaVuSans-101\"/>\n      <use x=\"742.521484\" xlink:href=\"#DejaVuSans-32\"/>\n      <use x=\"774.308594\" xlink:href=\"#DejaVuSans-97\"/>\n      <use x=\"835.587891\" xlink:href=\"#DejaVuSans-99\"/>\n      <use x=\"890.568359\" xlink:href=\"#DejaVuSans-99\"/>\n     </g>\n    </g>\n    <g id=\"line2d_23\">\n     <path d=\"M 269.073295 279.538438 \nL 289.073295 279.538438 \n\" style=\"fill:none;stroke:#008000;stroke-linecap:square;stroke-width:1.5;\"/>\n    </g>\n    <g id=\"line2d_24\"/>\n    <g id=\"text_17\">\n     <!-- Validation ignore acc -->\n     <g transform=\"translate(297.073295 283.038438)scale(0.1 -0.1)\">\n      <use xlink:href=\"#DejaVuSans-86\"/>\n      <use x=\"60.658203\" xlink:href=\"#DejaVuSans-97\"/>\n      <use x=\"121.9375\" xlink:href=\"#DejaVuSans-108\"/>\n      <use x=\"149.720703\" xlink:href=\"#DejaVuSans-105\"/>\n      <use x=\"177.503906\" xlink:href=\"#DejaVuSans-100\"/>\n      <use x=\"240.980469\" xlink:href=\"#DejaVuSans-97\"/>\n      <use x=\"302.259766\" xlink:href=\"#DejaVuSans-116\"/>\n      <use x=\"341.46875\" xlink:href=\"#DejaVuSans-105\"/>\n      <use x=\"369.251953\" xlink:href=\"#DejaVuSans-111\"/>\n      <use x=\"430.433594\" xlink:href=\"#DejaVuSans-110\"/>\n      <use x=\"493.8125\" xlink:href=\"#DejaVuSans-32\"/>\n      <use x=\"525.599609\" xlink:href=\"#DejaVuSans-105\"/>\n      <use x=\"553.382812\" xlink:href=\"#DejaVuSans-103\"/>\n      <use x=\"616.859375\" xlink:href=\"#DejaVuSans-110\"/>\n      <use x=\"680.238281\" xlink:href=\"#DejaVuSans-111\"/>\n      <use x=\"741.419922\" xlink:href=\"#DejaVuSans-114\"/>\n      <use x=\"780.283203\" xlink:href=\"#DejaVuSans-101\"/>\n      <use x=\"841.806641\" xlink:href=\"#DejaVuSans-32\"/>\n      <use x=\"873.59375\" xlink:href=\"#DejaVuSans-97\"/>\n      <use x=\"934.873047\" xlink:href=\"#DejaVuSans-99\"/>\n      <use x=\"989.853516\" xlink:href=\"#DejaVuSans-99\"/>\n     </g>\n    </g>\n   </g>\n  </g>\n  <g id=\"axes_2\">\n   <g id=\"patch_8\">\n    <path d=\"M 486.64858 294.118125 \nL 867.103125 294.118125 \nL 867.103125 22.318125 \nL 486.64858 22.318125 \nz\n\" style=\"fill:#ffffff;\"/>\n   </g>\n   <g id=\"matplotlib.axis_3\">\n    <g id=\"xtick_7\">\n     <g id=\"line2d_25\">\n      <g>\n       <use style=\"stroke:#000000;stroke-width:0.8;\" x=\"503.941968\" xlink:href=\"#m887956dd39\" y=\"294.118125\"/>\n      </g>\n     </g>\n     <g id=\"text_18\">\n      <!-- 0 -->\n      <g transform=\"translate(500.760718 308.716563)scale(0.1 -0.1)\">\n       <use xlink:href=\"#DejaVuSans-48\"/>\n      </g>\n     </g>\n    </g>\n    <g id=\"xtick_8\">\n     <g id=\"line2d_26\">\n      <g>\n       <use style=\"stroke:#000000;stroke-width:0.8;\" x=\"573.814244\" xlink:href=\"#m887956dd39\" y=\"294.118125\"/>\n      </g>\n     </g>\n     <g id=\"text_19\">\n      <!-- 20 -->\n      <g transform=\"translate(567.451744 308.716563)scale(0.1 -0.1)\">\n       <use xlink:href=\"#DejaVuSans-50\"/>\n       <use x=\"63.623047\" xlink:href=\"#DejaVuSans-48\"/>\n      </g>\n     </g>\n    </g>\n    <g id=\"xtick_9\">\n     <g id=\"line2d_27\">\n      <g>\n       <use style=\"stroke:#000000;stroke-width:0.8;\" x=\"643.686521\" xlink:href=\"#m887956dd39\" y=\"294.118125\"/>\n      </g>\n     </g>\n     <g id=\"text_20\">\n      <!-- 40 -->\n      <g transform=\"translate(637.324021 308.716563)scale(0.1 -0.1)\">\n       <use xlink:href=\"#DejaVuSans-52\"/>\n       <use x=\"63.623047\" xlink:href=\"#DejaVuSans-48\"/>\n      </g>\n     </g>\n    </g>\n    <g id=\"xtick_10\">\n     <g id=\"line2d_28\">\n      <g>\n       <use style=\"stroke:#000000;stroke-width:0.8;\" x=\"713.558797\" xlink:href=\"#m887956dd39\" y=\"294.118125\"/>\n      </g>\n     </g>\n     <g id=\"text_21\">\n      <!-- 60 -->\n      <g transform=\"translate(707.196297 308.716563)scale(0.1 -0.1)\">\n       <use xlink:href=\"#DejaVuSans-54\"/>\n       <use x=\"63.623047\" xlink:href=\"#DejaVuSans-48\"/>\n      </g>\n     </g>\n    </g>\n    <g id=\"xtick_11\">\n     <g id=\"line2d_29\">\n      <g>\n       <use style=\"stroke:#000000;stroke-width:0.8;\" x=\"783.431074\" xlink:href=\"#m887956dd39\" y=\"294.118125\"/>\n      </g>\n     </g>\n     <g id=\"text_22\">\n      <!-- 80 -->\n      <g transform=\"translate(777.068574 308.716563)scale(0.1 -0.1)\">\n       <use xlink:href=\"#DejaVuSans-56\"/>\n       <use x=\"63.623047\" xlink:href=\"#DejaVuSans-48\"/>\n      </g>\n     </g>\n    </g>\n    <g id=\"xtick_12\">\n     <g id=\"line2d_30\">\n      <g>\n       <use style=\"stroke:#000000;stroke-width:0.8;\" x=\"853.30335\" xlink:href=\"#m887956dd39\" y=\"294.118125\"/>\n      </g>\n     </g>\n     <g id=\"text_23\">\n      <!-- 100 -->\n      <g transform=\"translate(843.7596 308.716563)scale(0.1 -0.1)\">\n       <use xlink:href=\"#DejaVuSans-49\"/>\n       <use x=\"63.623047\" xlink:href=\"#DejaVuSans-48\"/>\n       <use x=\"127.246094\" xlink:href=\"#DejaVuSans-48\"/>\n      </g>\n     </g>\n    </g>\n   </g>\n   <g id=\"matplotlib.axis_4\">\n    <g id=\"ytick_7\">\n     <g id=\"line2d_31\">\n      <g>\n       <use style=\"stroke:#000000;stroke-width:0.8;\" x=\"486.64858\" xlink:href=\"#m07b48af1e4\" y=\"282.577271\"/>\n      </g>\n     </g>\n     <g id=\"text_24\">\n      <!-- 0.0 -->\n      <g transform=\"translate(463.745455 286.37649)scale(0.1 -0.1)\">\n       <use xlink:href=\"#DejaVuSans-48\"/>\n       <use x=\"63.623047\" xlink:href=\"#DejaVuSans-46\"/>\n       <use x=\"95.410156\" xlink:href=\"#DejaVuSans-48\"/>\n      </g>\n     </g>\n    </g>\n    <g id=\"ytick_8\">\n     <g id=\"line2d_32\">\n      <g>\n       <use style=\"stroke:#000000;stroke-width:0.8;\" x=\"486.64858\" xlink:href=\"#m07b48af1e4\" y=\"251.055047\"/>\n      </g>\n     </g>\n     <g id=\"text_25\">\n      <!-- 0.2 -->\n      <g transform=\"translate(463.745455 254.854265)scale(0.1 -0.1)\">\n       <use xlink:href=\"#DejaVuSans-48\"/>\n       <use x=\"63.623047\" xlink:href=\"#DejaVuSans-46\"/>\n       <use x=\"95.410156\" xlink:href=\"#DejaVuSans-50\"/>\n      </g>\n     </g>\n    </g>\n    <g id=\"ytick_9\">\n     <g id=\"line2d_33\">\n      <g>\n       <use style=\"stroke:#000000;stroke-width:0.8;\" x=\"486.64858\" xlink:href=\"#m07b48af1e4\" y=\"219.532822\"/>\n      </g>\n     </g>\n     <g id=\"text_26\">\n      <!-- 0.4 -->\n      <g transform=\"translate(463.745455 223.332041)scale(0.1 -0.1)\">\n       <use xlink:href=\"#DejaVuSans-48\"/>\n       <use x=\"63.623047\" xlink:href=\"#DejaVuSans-46\"/>\n       <use x=\"95.410156\" xlink:href=\"#DejaVuSans-52\"/>\n      </g>\n     </g>\n    </g>\n    <g id=\"ytick_10\">\n     <g id=\"line2d_34\">\n      <g>\n       <use style=\"stroke:#000000;stroke-width:0.8;\" x=\"486.64858\" xlink:href=\"#m07b48af1e4\" y=\"188.010598\"/>\n      </g>\n     </g>\n     <g id=\"text_27\">\n      <!-- 0.6 -->\n      <g transform=\"translate(463.745455 191.809816)scale(0.1 -0.1)\">\n       <use xlink:href=\"#DejaVuSans-48\"/>\n       <use x=\"63.623047\" xlink:href=\"#DejaVuSans-46\"/>\n       <use x=\"95.410156\" xlink:href=\"#DejaVuSans-54\"/>\n      </g>\n     </g>\n    </g>\n    <g id=\"ytick_11\">\n     <g id=\"line2d_35\">\n      <g>\n       <use style=\"stroke:#000000;stroke-width:0.8;\" x=\"486.64858\" xlink:href=\"#m07b48af1e4\" y=\"156.488373\"/>\n      </g>\n     </g>\n     <g id=\"text_28\">\n      <!-- 0.8 -->\n      <g transform=\"translate(463.745455 160.287592)scale(0.1 -0.1)\">\n       <use xlink:href=\"#DejaVuSans-48\"/>\n       <use x=\"63.623047\" xlink:href=\"#DejaVuSans-46\"/>\n       <use x=\"95.410156\" xlink:href=\"#DejaVuSans-56\"/>\n      </g>\n     </g>\n    </g>\n    <g id=\"ytick_12\">\n     <g id=\"line2d_36\">\n      <g>\n       <use style=\"stroke:#000000;stroke-width:0.8;\" x=\"486.64858\" xlink:href=\"#m07b48af1e4\" y=\"124.966149\"/>\n      </g>\n     </g>\n     <g id=\"text_29\">\n      <!-- 1.0 -->\n      <g transform=\"translate(463.745455 128.765367)scale(0.1 -0.1)\">\n       <use xlink:href=\"#DejaVuSans-49\"/>\n       <use x=\"63.623047\" xlink:href=\"#DejaVuSans-46\"/>\n       <use x=\"95.410156\" xlink:href=\"#DejaVuSans-48\"/>\n      </g>\n     </g>\n    </g>\n    <g id=\"ytick_13\">\n     <g id=\"line2d_37\">\n      <g>\n       <use style=\"stroke:#000000;stroke-width:0.8;\" x=\"486.64858\" xlink:href=\"#m07b48af1e4\" y=\"93.443924\"/>\n      </g>\n     </g>\n     <g id=\"text_30\">\n      <!-- 1.2 -->\n      <g transform=\"translate(463.745455 97.243143)scale(0.1 -0.1)\">\n       <use xlink:href=\"#DejaVuSans-49\"/>\n       <use x=\"63.623047\" xlink:href=\"#DejaVuSans-46\"/>\n       <use x=\"95.410156\" xlink:href=\"#DejaVuSans-50\"/>\n      </g>\n     </g>\n    </g>\n    <g id=\"ytick_14\">\n     <g id=\"line2d_38\">\n      <g>\n       <use style=\"stroke:#000000;stroke-width:0.8;\" x=\"486.64858\" xlink:href=\"#m07b48af1e4\" y=\"61.9217\"/>\n      </g>\n     </g>\n     <g id=\"text_31\">\n      <!-- 1.4 -->\n      <g transform=\"translate(463.745455 65.720918)scale(0.1 -0.1)\">\n       <use xlink:href=\"#DejaVuSans-49\"/>\n       <use x=\"63.623047\" xlink:href=\"#DejaVuSans-46\"/>\n       <use x=\"95.410156\" xlink:href=\"#DejaVuSans-52\"/>\n      </g>\n     </g>\n    </g>\n    <g id=\"ytick_15\">\n     <g id=\"line2d_39\">\n      <g>\n       <use style=\"stroke:#000000;stroke-width:0.8;\" x=\"486.64858\" xlink:href=\"#m07b48af1e4\" y=\"30.399475\"/>\n      </g>\n     </g>\n     <g id=\"text_32\">\n      <!-- 1.6 -->\n      <g transform=\"translate(463.745455 34.198694)scale(0.1 -0.1)\">\n       <use xlink:href=\"#DejaVuSans-49\"/>\n       <use x=\"63.623047\" xlink:href=\"#DejaVuSans-46\"/>\n       <use x=\"95.410156\" xlink:href=\"#DejaVuSans-54\"/>\n      </g>\n     </g>\n    </g>\n   </g>\n   <g id=\"line2d_40\">\n    <g clip-path=\"url(#pd3d00a4d24)\">\n     <use style=\"fill:#0000ff;stroke:#0000ff;\" x=\"503.941968\" xlink:href=\"#m6587c71a2b\" y=\"34.67267\"/>\n     <use style=\"fill:#0000ff;stroke:#0000ff;\" x=\"507.435582\" xlink:href=\"#m6587c71a2b\" y=\"186.515439\"/>\n     <use style=\"fill:#0000ff;stroke:#0000ff;\" x=\"510.929196\" xlink:href=\"#m6587c71a2b\" y=\"217.229602\"/>\n     <use style=\"fill:#0000ff;stroke:#0000ff;\" x=\"514.422809\" xlink:href=\"#m6587c71a2b\" y=\"221.516122\"/>\n     <use style=\"fill:#0000ff;stroke:#0000ff;\" x=\"517.916423\" xlink:href=\"#m6587c71a2b\" y=\"224.441555\"/>\n     <use style=\"fill:#0000ff;stroke:#0000ff;\" x=\"521.410037\" xlink:href=\"#m6587c71a2b\" y=\"227.010583\"/>\n     <use style=\"fill:#0000ff;stroke:#0000ff;\" x=\"524.903651\" xlink:href=\"#m6587c71a2b\" y=\"228.909512\"/>\n     <use style=\"fill:#0000ff;stroke:#0000ff;\" x=\"528.397265\" xlink:href=\"#m6587c71a2b\" y=\"230.289715\"/>\n     <use style=\"fill:#0000ff;stroke:#0000ff;\" x=\"531.890879\" xlink:href=\"#m6587c71a2b\" y=\"231.455704\"/>\n     <use style=\"fill:#0000ff;stroke:#0000ff;\" x=\"535.384492\" xlink:href=\"#m6587c71a2b\" y=\"232.055762\"/>\n     <use style=\"fill:#0000ff;stroke:#0000ff;\" x=\"538.878106\" xlink:href=\"#m6587c71a2b\" y=\"232.372482\"/>\n     <use style=\"fill:#0000ff;stroke:#0000ff;\" x=\"542.37172\" xlink:href=\"#m6587c71a2b\" y=\"233.597488\"/>\n     <use style=\"fill:#0000ff;stroke:#0000ff;\" x=\"545.865334\" xlink:href=\"#m6587c71a2b\" y=\"234.495874\"/>\n     <use style=\"fill:#0000ff;stroke:#0000ff;\" x=\"549.358948\" xlink:href=\"#m6587c71a2b\" y=\"235.272986\"/>\n     <use style=\"fill:#0000ff;stroke:#0000ff;\" x=\"552.852562\" xlink:href=\"#m6587c71a2b\" y=\"235.946824\"/>\n     <use style=\"fill:#0000ff;stroke:#0000ff;\" x=\"556.346175\" xlink:href=\"#m6587c71a2b\" y=\"236.567246\"/>\n     <use style=\"fill:#0000ff;stroke:#0000ff;\" x=\"559.839789\" xlink:href=\"#m6587c71a2b\" y=\"237.082977\"/>\n     <use style=\"fill:#0000ff;stroke:#0000ff;\" x=\"563.333403\" xlink:href=\"#m6587c71a2b\" y=\"237.568638\"/>\n     <use style=\"fill:#0000ff;stroke:#0000ff;\" x=\"566.827017\" xlink:href=\"#m6587c71a2b\" y=\"238.002738\"/>\n     <use style=\"fill:#0000ff;stroke:#0000ff;\" x=\"570.320631\" xlink:href=\"#m6587c71a2b\" y=\"238.393109\"/>\n     <use style=\"fill:#0000ff;stroke:#0000ff;\" x=\"573.814244\" xlink:href=\"#m6587c71a2b\" y=\"238.777688\"/>\n     <use style=\"fill:#0000ff;stroke:#0000ff;\" x=\"577.307858\" xlink:href=\"#m6587c71a2b\" y=\"239.12399\"/>\n     <use style=\"fill:#0000ff;stroke:#0000ff;\" x=\"580.801472\" xlink:href=\"#m6587c71a2b\" y=\"239.507894\"/>\n     <use style=\"fill:#0000ff;stroke:#0000ff;\" x=\"584.295086\" xlink:href=\"#m6587c71a2b\" y=\"239.975646\"/>\n     <use style=\"fill:#0000ff;stroke:#0000ff;\" x=\"587.7887\" xlink:href=\"#m6587c71a2b\" y=\"240.473904\"/>\n     <use style=\"fill:#0000ff;stroke:#0000ff;\" x=\"591.282314\" xlink:href=\"#m6587c71a2b\" y=\"241.058612\"/>\n     <use style=\"fill:#0000ff;stroke:#0000ff;\" x=\"594.775927\" xlink:href=\"#m6587c71a2b\" y=\"241.762802\"/>\n     <use style=\"fill:#0000ff;stroke:#0000ff;\" x=\"598.269541\" xlink:href=\"#m6587c71a2b\" y=\"242.610868\"/>\n     <use style=\"fill:#0000ff;stroke:#0000ff;\" x=\"601.763155\" xlink:href=\"#m6587c71a2b\" y=\"243.690269\"/>\n     <use style=\"fill:#0000ff;stroke:#0000ff;\" x=\"605.256769\" xlink:href=\"#m6587c71a2b\" y=\"244.996428\"/>\n     <use style=\"fill:#0000ff;stroke:#0000ff;\" x=\"608.750383\" xlink:href=\"#m6587c71a2b\" y=\"246.563731\"/>\n     <use style=\"fill:#0000ff;stroke:#0000ff;\" x=\"612.243997\" xlink:href=\"#m6587c71a2b\" y=\"248.263264\"/>\n     <use style=\"fill:#0000ff;stroke:#0000ff;\" x=\"615.73761\" xlink:href=\"#m6587c71a2b\" y=\"249.897981\"/>\n     <use style=\"fill:#0000ff;stroke:#0000ff;\" x=\"619.231224\" xlink:href=\"#m6587c71a2b\" y=\"252.137756\"/>\n     <use style=\"fill:#0000ff;stroke:#0000ff;\" x=\"622.724838\" xlink:href=\"#m6587c71a2b\" y=\"254.267871\"/>\n     <use style=\"fill:#0000ff;stroke:#0000ff;\" x=\"626.218452\" xlink:href=\"#m6587c71a2b\" y=\"256.352468\"/>\n     <use style=\"fill:#0000ff;stroke:#0000ff;\" x=\"629.712066\" xlink:href=\"#m6587c71a2b\" y=\"258.436961\"/>\n     <use style=\"fill:#0000ff;stroke:#0000ff;\" x=\"633.205679\" xlink:href=\"#m6587c71a2b\" y=\"260.327321\"/>\n     <use style=\"fill:#0000ff;stroke:#0000ff;\" x=\"636.699293\" xlink:href=\"#m6587c71a2b\" y=\"262.257412\"/>\n     <use style=\"fill:#0000ff;stroke:#0000ff;\" x=\"640.192907\" xlink:href=\"#m6587c71a2b\" y=\"263.968282\"/>\n     <use style=\"fill:#0000ff;stroke:#0000ff;\" x=\"643.686521\" xlink:href=\"#m6587c71a2b\" y=\"265.798824\"/>\n     <use style=\"fill:#0000ff;stroke:#0000ff;\" x=\"647.180135\" xlink:href=\"#m6587c71a2b\" y=\"267.389156\"/>\n     <use style=\"fill:#0000ff;stroke:#0000ff;\" x=\"650.673749\" xlink:href=\"#m6587c71a2b\" y=\"268.822457\"/>\n     <use style=\"fill:#0000ff;stroke:#0000ff;\" x=\"654.167362\" xlink:href=\"#m6587c71a2b\" y=\"270.111883\"/>\n     <use style=\"fill:#0000ff;stroke:#0000ff;\" x=\"657.660976\" xlink:href=\"#m6587c71a2b\" y=\"271.280265\"/>\n     <use style=\"fill:#0000ff;stroke:#0000ff;\" x=\"661.15459\" xlink:href=\"#m6587c71a2b\" y=\"272.272399\"/>\n     <use style=\"fill:#0000ff;stroke:#0000ff;\" x=\"664.648204\" xlink:href=\"#m6587c71a2b\" y=\"273.266988\"/>\n     <use style=\"fill:#0000ff;stroke:#0000ff;\" x=\"668.141818\" xlink:href=\"#m6587c71a2b\" y=\"274.099303\"/>\n     <use style=\"fill:#0000ff;stroke:#0000ff;\" x=\"671.635432\" xlink:href=\"#m6587c71a2b\" y=\"274.83744\"/>\n     <use style=\"fill:#0000ff;stroke:#0000ff;\" x=\"675.129045\" xlink:href=\"#m6587c71a2b\" y=\"275.494119\"/>\n     <use style=\"fill:#0000ff;stroke:#0000ff;\" x=\"678.622659\" xlink:href=\"#m6587c71a2b\" y=\"276.069751\"/>\n     <use style=\"fill:#0000ff;stroke:#0000ff;\" x=\"682.116273\" xlink:href=\"#m6587c71a2b\" y=\"276.585911\"/>\n     <use style=\"fill:#0000ff;stroke:#0000ff;\" x=\"685.609887\" xlink:href=\"#m6587c71a2b\" y=\"277.04655\"/>\n     <use style=\"fill:#0000ff;stroke:#0000ff;\" x=\"689.103501\" xlink:href=\"#m6587c71a2b\" y=\"277.454132\"/>\n     <use style=\"fill:#0000ff;stroke:#0000ff;\" x=\"692.597114\" xlink:href=\"#m6587c71a2b\" y=\"277.817158\"/>\n     <use style=\"fill:#0000ff;stroke:#0000ff;\" x=\"696.090728\" xlink:href=\"#m6587c71a2b\" y=\"278.136527\"/>\n     <use style=\"fill:#0000ff;stroke:#0000ff;\" x=\"699.584342\" xlink:href=\"#m6587c71a2b\" y=\"278.429518\"/>\n     <use style=\"fill:#0000ff;stroke:#0000ff;\" x=\"703.077956\" xlink:href=\"#m6587c71a2b\" y=\"278.690595\"/>\n     <use style=\"fill:#0000ff;stroke:#0000ff;\" x=\"706.57157\" xlink:href=\"#m6587c71a2b\" y=\"278.933573\"/>\n     <use style=\"fill:#0000ff;stroke:#0000ff;\" x=\"710.065184\" xlink:href=\"#m6587c71a2b\" y=\"279.142724\"/>\n     <use style=\"fill:#0000ff;stroke:#0000ff;\" x=\"713.558797\" xlink:href=\"#m6587c71a2b\" y=\"279.337686\"/>\n     <use style=\"fill:#0000ff;stroke:#0000ff;\" x=\"717.052411\" xlink:href=\"#m6587c71a2b\" y=\"279.503659\"/>\n     <use style=\"fill:#0000ff;stroke:#0000ff;\" x=\"720.546025\" xlink:href=\"#m6587c71a2b\" y=\"279.667616\"/>\n     <use style=\"fill:#0000ff;stroke:#0000ff;\" x=\"724.039639\" xlink:href=\"#m6587c71a2b\" y=\"279.819795\"/>\n     <use style=\"fill:#0000ff;stroke:#0000ff;\" x=\"727.533253\" xlink:href=\"#m6587c71a2b\" y=\"279.950909\"/>\n     <use style=\"fill:#0000ff;stroke:#0000ff;\" x=\"731.026867\" xlink:href=\"#m6587c71a2b\" y=\"280.068705\"/>\n     <use style=\"fill:#0000ff;stroke:#0000ff;\" x=\"734.52048\" xlink:href=\"#m6587c71a2b\" y=\"280.181148\"/>\n     <use style=\"fill:#0000ff;stroke:#0000ff;\" x=\"738.014094\" xlink:href=\"#m6587c71a2b\" y=\"280.299067\"/>\n     <use style=\"fill:#0000ff;stroke:#0000ff;\" x=\"741.507708\" xlink:href=\"#m6587c71a2b\" y=\"280.394941\"/>\n     <use style=\"fill:#0000ff;stroke:#0000ff;\" x=\"745.001322\" xlink:href=\"#m6587c71a2b\" y=\"280.476984\"/>\n     <use style=\"fill:#0000ff;stroke:#0000ff;\" x=\"748.494936\" xlink:href=\"#m6587c71a2b\" y=\"280.568579\"/>\n     <use style=\"fill:#0000ff;stroke:#0000ff;\" x=\"751.988549\" xlink:href=\"#m6587c71a2b\" y=\"280.638497\"/>\n     <use style=\"fill:#0000ff;stroke:#0000ff;\" x=\"755.482163\" xlink:href=\"#m6587c71a2b\" y=\"280.70982\"/>\n     <use style=\"fill:#0000ff;stroke:#0000ff;\" x=\"758.975777\" xlink:href=\"#m6587c71a2b\" y=\"280.78193\"/>\n     <use style=\"fill:#0000ff;stroke:#0000ff;\" x=\"762.469391\" xlink:href=\"#m6587c71a2b\" y=\"280.843508\"/>\n     <use style=\"fill:#0000ff;stroke:#0000ff;\" x=\"765.963005\" xlink:href=\"#m6587c71a2b\" y=\"280.913499\"/>\n     <use style=\"fill:#0000ff;stroke:#0000ff;\" x=\"769.456619\" xlink:href=\"#m6587c71a2b\" y=\"280.967983\"/>\n     <use style=\"fill:#0000ff;stroke:#0000ff;\" x=\"772.950232\" xlink:href=\"#m6587c71a2b\" y=\"281.003628\"/>\n     <use style=\"fill:#0000ff;stroke:#0000ff;\" x=\"776.443846\" xlink:href=\"#m6587c71a2b\" y=\"281.060246\"/>\n     <use style=\"fill:#0000ff;stroke:#0000ff;\" x=\"779.93746\" xlink:href=\"#m6587c71a2b\" y=\"281.117231\"/>\n     <use style=\"fill:#0000ff;stroke:#0000ff;\" x=\"783.431074\" xlink:href=\"#m6587c71a2b\" y=\"281.147548\"/>\n     <use style=\"fill:#0000ff;stroke:#0000ff;\" x=\"786.924688\" xlink:href=\"#m6587c71a2b\" y=\"281.199483\"/>\n     <use style=\"fill:#0000ff;stroke:#0000ff;\" x=\"790.418302\" xlink:href=\"#m6587c71a2b\" y=\"281.250121\"/>\n     <use style=\"fill:#0000ff;stroke:#0000ff;\" x=\"793.911915\" xlink:href=\"#m6587c71a2b\" y=\"281.299399\"/>\n     <use style=\"fill:#0000ff;stroke:#0000ff;\" x=\"797.405529\" xlink:href=\"#m6587c71a2b\" y=\"281.332443\"/>\n     <use style=\"fill:#0000ff;stroke:#0000ff;\" x=\"800.899143\" xlink:href=\"#m6587c71a2b\" y=\"281.366398\"/>\n     <use style=\"fill:#0000ff;stroke:#0000ff;\" x=\"804.392757\" xlink:href=\"#m6587c71a2b\" y=\"281.405762\"/>\n     <use style=\"fill:#0000ff;stroke:#0000ff;\" x=\"807.886371\" xlink:href=\"#m6587c71a2b\" y=\"281.435849\"/>\n     <use style=\"fill:#0000ff;stroke:#0000ff;\" x=\"811.379985\" xlink:href=\"#m6587c71a2b\" y=\"281.47221\"/>\n     <use style=\"fill:#0000ff;stroke:#0000ff;\" x=\"814.873598\" xlink:href=\"#m6587c71a2b\" y=\"281.504416\"/>\n     <use style=\"fill:#0000ff;stroke:#0000ff;\" x=\"818.367212\" xlink:href=\"#m6587c71a2b\" y=\"281.532587\"/>\n     <use style=\"fill:#0000ff;stroke:#0000ff;\" x=\"821.860826\" xlink:href=\"#m6587c71a2b\" y=\"281.562264\"/>\n     <use style=\"fill:#0000ff;stroke:#0000ff;\" x=\"825.35444\" xlink:href=\"#m6587c71a2b\" y=\"281.57108\"/>\n     <use style=\"fill:#0000ff;stroke:#0000ff;\" x=\"828.848054\" xlink:href=\"#m6587c71a2b\" y=\"281.614253\"/>\n     <use style=\"fill:#0000ff;stroke:#0000ff;\" x=\"832.341667\" xlink:href=\"#m6587c71a2b\" y=\"281.640918\"/>\n     <use style=\"fill:#0000ff;stroke:#0000ff;\" x=\"835.835281\" xlink:href=\"#m6587c71a2b\" y=\"281.668435\"/>\n     <use style=\"fill:#0000ff;stroke:#0000ff;\" x=\"839.328895\" xlink:href=\"#m6587c71a2b\" y=\"281.693561\"/>\n     <use style=\"fill:#0000ff;stroke:#0000ff;\" x=\"842.822509\" xlink:href=\"#m6587c71a2b\" y=\"281.718614\"/>\n     <use style=\"fill:#0000ff;stroke:#0000ff;\" x=\"846.316123\" xlink:href=\"#m6587c71a2b\" y=\"281.740512\"/>\n     <use style=\"fill:#0000ff;stroke:#0000ff;\" x=\"849.809737\" xlink:href=\"#m6587c71a2b\" y=\"281.76358\"/>\n    </g>\n   </g>\n   <g id=\"line2d_41\">\n    <path clip-path=\"url(#pd3d00a4d24)\" d=\"M 503.941968 186.916792 \nL 507.435582 210.082159 \nL 510.929196 220.353338 \nL 514.422809 222.428537 \nL 517.916423 223.080076 \nL 521.410037 225.48694 \nL 524.903651 227.429838 \nL 528.397265 228.18931 \nL 531.890879 228.709071 \nL 535.384492 229.199555 \nL 538.878106 231.521543 \nL 542.37172 232.698243 \nL 545.865334 232.607397 \nL 549.358948 232.55984 \nL 552.852562 232.40395 \nL 556.346175 233.489255 \nL 559.839789 234.200082 \nL 563.333403 232.882194 \nL 566.827017 234.114505 \nL 570.320631 234.159565 \nL 573.814244 234.651792 \nL 577.307858 236.759532 \nL 580.801472 236.91541 \nL 584.295086 236.395174 \nL 587.7887 237.789954 \nL 591.282314 237.653938 \nL 594.775927 237.41805 \nL 598.269541 240.248236 \nL 601.763155 241.018135 \nL 605.256769 241.924307 \nL 608.750383 244.19159 \nL 612.243997 246.347142 \nL 615.73761 248.35067 \nL 619.231224 249.732549 \nL 622.724838 251.856142 \nL 626.218452 253.431207 \nL 629.712066 255.686279 \nL 633.205679 257.67534 \nL 636.699293 257.822446 \nL 640.192907 261.228319 \nL 643.686521 262.325388 \nL 647.180135 263.902752 \nL 650.673749 265.038111 \nL 654.167362 266.322704 \nL 657.660976 267.159868 \nL 661.15459 268.176216 \nL 664.648204 269.103687 \nL 668.141818 269.790124 \nL 671.635432 270.461655 \nL 675.129045 271.028777 \nL 678.622659 271.228158 \nL 682.116273 271.880526 \nL 685.609887 272.217045 \nL 689.103501 272.6548 \nL 692.597114 272.859356 \nL 696.090728 273.251744 \nL 699.584342 273.425247 \nL 703.077956 273.56171 \nL 706.57157 273.882477 \nL 710.065184 273.898416 \nL 713.558797 274.01049 \nL 717.052411 274.270754 \nL 720.546025 274.382449 \nL 724.039639 274.491251 \nL 727.533253 274.721912 \nL 731.026867 274.846248 \nL 734.52048 274.887459 \nL 738.014094 274.732351 \nL 741.507708 274.78234 \nL 745.001322 274.888388 \nL 748.494936 274.957844 \nL 751.988549 274.970021 \nL 755.482163 275.149362 \nL 758.975777 275.237105 \nL 762.469391 275.230435 \nL 765.963005 275.138488 \nL 769.456619 275.071558 \nL 772.950232 275.041277 \nL 776.443846 275.221687 \nL 779.93746 275.086774 \nL 783.431074 275.185664 \nL 786.924688 275.463192 \nL 790.418302 275.347124 \nL 793.911915 275.386002 \nL 797.405529 275.379648 \nL 800.899143 275.351807 \nL 804.392757 275.367934 \nL 807.886371 275.324258 \nL 811.379985 275.17327 \nL 814.873598 275.256333 \nL 818.367212 275.318773 \nL 821.860826 275.360351 \nL 825.35444 275.294137 \nL 828.848054 275.313476 \nL 832.341667 275.310414 \nL 835.835281 275.254399 \nL 839.328895 275.159844 \nL 842.822509 275.172313 \nL 846.316123 275.192333 \nL 849.809737 275.21466 \n\" style=\"fill:none;stroke:#0000ff;stroke-linecap:square;stroke-width:1.5;\"/>\n   </g>\n   <g id=\"patch_9\">\n    <path d=\"M 486.64858 294.118125 \nL 486.64858 22.318125 \n\" style=\"fill:none;stroke:#000000;stroke-linecap:square;stroke-linejoin:miter;stroke-width:0.8;\"/>\n   </g>\n   <g id=\"patch_10\">\n    <path d=\"M 867.103125 294.118125 \nL 867.103125 22.318125 \n\" style=\"fill:none;stroke:#000000;stroke-linecap:square;stroke-linejoin:miter;stroke-width:0.8;\"/>\n   </g>\n   <g id=\"patch_11\">\n    <path d=\"M 486.64858 294.118125 \nL 867.103125 294.118125 \n\" style=\"fill:none;stroke:#000000;stroke-linecap:square;stroke-linejoin:miter;stroke-width:0.8;\"/>\n   </g>\n   <g id=\"patch_12\">\n    <path d=\"M 486.64858 22.318125 \nL 867.103125 22.318125 \n\" style=\"fill:none;stroke:#000000;stroke-linecap:square;stroke-linejoin:miter;stroke-width:0.8;\"/>\n   </g>\n   <g id=\"text_33\">\n    <!-- Training and validation loss -->\n    <defs>\n     <path d=\"M 44.28125 53.078125 \nL 44.28125 44.578125 \nQ 40.484375 46.53125 36.375 47.5 \nQ 32.28125 48.484375 27.875 48.484375 \nQ 21.1875 48.484375 17.84375 46.4375 \nQ 14.5 44.390625 14.5 40.28125 \nQ 14.5 37.15625 16.890625 35.375 \nQ 19.28125 33.59375 26.515625 31.984375 \nL 29.59375 31.296875 \nQ 39.15625 29.25 43.1875 25.515625 \nQ 47.21875 21.78125 47.21875 15.09375 \nQ 47.21875 7.46875 41.1875 3.015625 \nQ 35.15625 -1.421875 24.609375 -1.421875 \nQ 20.21875 -1.421875 15.453125 -0.5625 \nQ 10.6875 0.296875 5.421875 2 \nL 5.421875 11.28125 \nQ 10.40625 8.6875 15.234375 7.390625 \nQ 20.0625 6.109375 24.8125 6.109375 \nQ 31.15625 6.109375 34.5625 8.28125 \nQ 37.984375 10.453125 37.984375 14.40625 \nQ 37.984375 18.0625 35.515625 20.015625 \nQ 33.0625 21.96875 24.703125 23.78125 \nL 21.578125 24.515625 \nQ 13.234375 26.265625 9.515625 29.90625 \nQ 5.8125 33.546875 5.8125 39.890625 \nQ 5.8125 47.609375 11.28125 51.796875 \nQ 16.75 56 26.8125 56 \nQ 31.78125 56 36.171875 55.265625 \nQ 40.578125 54.546875 44.28125 53.078125 \nz\n\" id=\"DejaVuSans-115\"/>\n    </defs>\n    <g transform=\"translate(595.065852 16.318125)scale(0.12 -0.12)\">\n     <use xlink:href=\"#DejaVuSans-84\"/>\n     <use x=\"46.333984\" xlink:href=\"#DejaVuSans-114\"/>\n     <use x=\"87.447266\" xlink:href=\"#DejaVuSans-97\"/>\n     <use x=\"148.726562\" xlink:href=\"#DejaVuSans-105\"/>\n     <use x=\"176.509766\" xlink:href=\"#DejaVuSans-110\"/>\n     <use x=\"239.888672\" xlink:href=\"#DejaVuSans-105\"/>\n     <use x=\"267.671875\" xlink:href=\"#DejaVuSans-110\"/>\n     <use x=\"331.050781\" xlink:href=\"#DejaVuSans-103\"/>\n     <use x=\"394.527344\" xlink:href=\"#DejaVuSans-32\"/>\n     <use x=\"426.314453\" xlink:href=\"#DejaVuSans-97\"/>\n     <use x=\"487.59375\" xlink:href=\"#DejaVuSans-110\"/>\n     <use x=\"550.972656\" xlink:href=\"#DejaVuSans-100\"/>\n     <use x=\"614.449219\" xlink:href=\"#DejaVuSans-32\"/>\n     <use x=\"646.236328\" xlink:href=\"#DejaVuSans-118\"/>\n     <use x=\"705.416016\" xlink:href=\"#DejaVuSans-97\"/>\n     <use x=\"766.695312\" xlink:href=\"#DejaVuSans-108\"/>\n     <use x=\"794.478516\" xlink:href=\"#DejaVuSans-105\"/>\n     <use x=\"822.261719\" xlink:href=\"#DejaVuSans-100\"/>\n     <use x=\"885.738281\" xlink:href=\"#DejaVuSans-97\"/>\n     <use x=\"947.017578\" xlink:href=\"#DejaVuSans-116\"/>\n     <use x=\"986.226562\" xlink:href=\"#DejaVuSans-105\"/>\n     <use x=\"1014.009766\" xlink:href=\"#DejaVuSans-111\"/>\n     <use x=\"1075.191406\" xlink:href=\"#DejaVuSans-110\"/>\n     <use x=\"1138.570312\" xlink:href=\"#DejaVuSans-32\"/>\n     <use x=\"1170.357422\" xlink:href=\"#DejaVuSans-108\"/>\n     <use x=\"1198.140625\" xlink:href=\"#DejaVuSans-111\"/>\n     <use x=\"1259.322266\" xlink:href=\"#DejaVuSans-115\"/>\n     <use x=\"1311.421875\" xlink:href=\"#DejaVuSans-115\"/>\n    </g>\n   </g>\n   <g id=\"legend_2\">\n    <g id=\"patch_13\">\n     <path d=\"M 756.228125 59.674375 \nL 860.103125 59.674375 \nQ 862.103125 59.674375 862.103125 57.674375 \nL 862.103125 29.318125 \nQ 862.103125 27.318125 860.103125 27.318125 \nL 756.228125 27.318125 \nQ 754.228125 27.318125 754.228125 29.318125 \nL 754.228125 57.674375 \nQ 754.228125 59.674375 756.228125 59.674375 \nz\n\" style=\"fill:#ffffff;opacity:0.8;stroke:#cccccc;stroke-linejoin:miter;\"/>\n    </g>\n    <g id=\"line2d_42\"/>\n    <g id=\"line2d_43\">\n     <g>\n      <use style=\"fill:#0000ff;stroke:#0000ff;\" x=\"768.228125\" xlink:href=\"#m6587c71a2b\" y=\"35.416562\"/>\n     </g>\n    </g>\n    <g id=\"text_34\">\n     <!-- Training loss -->\n     <g transform=\"translate(786.228125 38.916562)scale(0.1 -0.1)\">\n      <use xlink:href=\"#DejaVuSans-84\"/>\n      <use x=\"46.333984\" xlink:href=\"#DejaVuSans-114\"/>\n      <use x=\"87.447266\" xlink:href=\"#DejaVuSans-97\"/>\n      <use x=\"148.726562\" xlink:href=\"#DejaVuSans-105\"/>\n      <use x=\"176.509766\" xlink:href=\"#DejaVuSans-110\"/>\n      <use x=\"239.888672\" xlink:href=\"#DejaVuSans-105\"/>\n      <use x=\"267.671875\" xlink:href=\"#DejaVuSans-110\"/>\n      <use x=\"331.050781\" xlink:href=\"#DejaVuSans-103\"/>\n      <use x=\"394.527344\" xlink:href=\"#DejaVuSans-32\"/>\n      <use x=\"426.314453\" xlink:href=\"#DejaVuSans-108\"/>\n      <use x=\"454.097656\" xlink:href=\"#DejaVuSans-111\"/>\n      <use x=\"515.279297\" xlink:href=\"#DejaVuSans-115\"/>\n      <use x=\"567.378906\" xlink:href=\"#DejaVuSans-115\"/>\n     </g>\n    </g>\n    <g id=\"line2d_44\">\n     <path d=\"M 758.228125 50.094688 \nL 778.228125 50.094688 \n\" style=\"fill:none;stroke:#0000ff;stroke-linecap:square;stroke-width:1.5;\"/>\n    </g>\n    <g id=\"line2d_45\"/>\n    <g id=\"text_35\">\n     <!-- Validation loss -->\n     <g transform=\"translate(786.228125 53.594688)scale(0.1 -0.1)\">\n      <use xlink:href=\"#DejaVuSans-86\"/>\n      <use x=\"60.658203\" xlink:href=\"#DejaVuSans-97\"/>\n      <use x=\"121.9375\" xlink:href=\"#DejaVuSans-108\"/>\n      <use x=\"149.720703\" xlink:href=\"#DejaVuSans-105\"/>\n      <use x=\"177.503906\" xlink:href=\"#DejaVuSans-100\"/>\n      <use x=\"240.980469\" xlink:href=\"#DejaVuSans-97\"/>\n      <use x=\"302.259766\" xlink:href=\"#DejaVuSans-116\"/>\n      <use x=\"341.46875\" xlink:href=\"#DejaVuSans-105\"/>\n      <use x=\"369.251953\" xlink:href=\"#DejaVuSans-111\"/>\n      <use x=\"430.433594\" xlink:href=\"#DejaVuSans-110\"/>\n      <use x=\"493.8125\" xlink:href=\"#DejaVuSans-32\"/>\n      <use x=\"525.599609\" xlink:href=\"#DejaVuSans-108\"/>\n      <use x=\"553.382812\" xlink:href=\"#DejaVuSans-111\"/>\n      <use x=\"614.564453\" xlink:href=\"#DejaVuSans-115\"/>\n      <use x=\"666.664062\" xlink:href=\"#DejaVuSans-115\"/>\n     </g>\n    </g>\n   </g>\n  </g>\n </g>\n <defs>\n  <clipPath id=\"pfa82ca04a4\">\n   <rect height=\"271.8\" width=\"380.454545\" x=\"30.103125\" y=\"22.318125\"/>\n  </clipPath>\n  <clipPath id=\"pd3d00a4d24\">\n   <rect height=\"271.8\" width=\"380.454545\" x=\"486.64858\" y=\"22.318125\"/>\n  </clipPath>\n </defs>\n</svg>\n",
            "image/png": "[encoded data removed]"
          },
          "metadata": {
            "needs_background": "light"
          }
        }
      ]
    },
    {
      "metadata": {
        "id": "BPsYClKQFTtc",
        "colab_type": "code",
        "colab": {}
      },
      "cell_type": "code",
      "source": [
        ""
      ],
      "execution_count": 0,
      "outputs": []
    }
  ]
}